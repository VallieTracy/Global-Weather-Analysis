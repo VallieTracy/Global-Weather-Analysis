{
 "cells": [
  {
   "cell_type": "code",
   "execution_count": null,
   "metadata": {},
   "outputs": [],
   "source": [
    "# Dependencies and setup\n",
    "import matplotlib.pyplot as plt\n",
    "import pandas as pd\n",
    "import numpy as np\n",
    "import requests\n",
    "import gmaps\n",
    "import os\n",
    "import json\n",
    "\n",
    "# Import API key\n",
    "from config import g_key\n",
    "\n",
    "# Access maps with unique API key\n",
    "gmaps.configure(api_key=g_key)"
   ]
  },
  {
   "cell_type": "code",
   "execution_count": null,
   "metadata": {},
   "outputs": [],
   "source": [
    "# Import cities.csv file into a dataframe\n",
    "cities_df = pd.read_csv(\"cities.csv\")\n",
    "\n",
    "# Get rid of 'City_ID' column\n",
    "cities_df = cities_df[[\"City\", \"Cloudiness\", \"Country\", \n",
    "                       \"Date\", \"Humidity\", \"Lat\", \"Lng\", \"Max Temp\", \"Wind Speed\"]]\n",
    "cities_df.head()"
   ]
  },
  {
   "cell_type": "code",
   "execution_count": null,
   "metadata": {},
   "outputs": [],
   "source": [
    "# Create heatmap based on humidity\n",
    "\n",
    "# Store latitude and longitude into the variable 'coordinates'\n",
    "coordinates = cities_df[[\"Lat\", \"Lng\"]]\n",
    "\n",
    "# Convert humidity to float; all data read from a csv is read as a string\n",
    "humidity = cities_df[\"Humidity\"].astype(float)"
   ]
  },
  {
   "cell_type": "code",
   "execution_count": null,
   "metadata": {},
   "outputs": [],
   "source": [
    "# Plot heatmap\n",
    "fig = gmaps.figure()\n",
    "\n",
    "# Create heat layer\n",
    "heat_layer = gmaps.heatmap_layer(coordinates, weights=humidity, \n",
    "                                 dissipating=False, max_intensity=100,\n",
    "                                 point_radius=1)\n",
    "\n",
    "# Add layer\n",
    "fig.add_layer(heat_layer)\n",
    "\n",
    "# Display figure\n",
    "fig"
   ]
  },
  {
   "cell_type": "code",
   "execution_count": null,
   "metadata": {},
   "outputs": [],
   "source": [
    "# Create a dataframe of cities that meet specific criteria to me\n",
    "specs_df = cities_df.loc[(cities_df[\"Max Temp\"] > 80) &\n",
    "                         (cities_df[\"Humidity\"] < 60) & \n",
    "                         (cities_df[\"Wind Speed\"] < 5) | \n",
    "                         (cities_df[\"Wind Speed\"] > 30), :].reset_index()\n",
    "\n",
    "# Need to remove newly created index column that appears with reset_index()\n",
    "specs_df = specs_df[[\"City\", \"Cloudiness\", \"Country\", \"Date\", \"Humidity\", \"Lat\", \"Lng\", \"Max Temp\", \"Wind Speed\"]]\n",
    "# Preview dataframe\n",
    "specs_df"
   ]
  },
  {
   "cell_type": "code",
   "execution_count": null,
   "metadata": {},
   "outputs": [],
   "source": [
    "hotel_df = specs_df.dropna()\n",
    "hotel_df\n",
    "\n",
    "#for reference\n",
    "#to see if there are nan values, code:\n",
    "#nan_df = specs_df[specs_df.isna().any(axis=1)]\n",
    "#nan_df"
   ]
  },
  {
   "cell_type": "code",
   "execution_count": null,
   "metadata": {},
   "outputs": [],
   "source": [
    "# Set up additional columns to hold information\n",
    "hotel_df[\"Hotel Name\"] = \"\"\n",
    "hotel_df"
   ]
  },
  {
   "cell_type": "code",
   "execution_count": null,
   "metadata": {},
   "outputs": [],
   "source": [
    "# Want to find a hotel within 5000 meters of each (lat, lng) in my chosen destinations\n",
    "\n",
    "# Create params dict that will be updated with a hotel name each iteration\n",
    "params = {\"keyword\": \"Hotel\",\n",
    "          \"radius\": 5000,\n",
    "          \"key\": g_key}\n",
    "\n",
    "# Use the lat/lng in our hotel_df to identify hotels\n",
    "for index, row in hotel_df.iterrows():\n",
    "    # get lat, lng from df\n",
    "    lat = row[\"Lat\"]\n",
    "    lng = row[\"Lng\"]\n",
    "\n",
    "    # change location each iteration while leaving original params in place\n",
    "    params[\"location\"] = f\"{lat},{lng}\"\n",
    "\n",
    "    # Use the search term: \"Hotel\" and our lat/lng\n",
    "    base_url = \"https://maps.googleapis.com/maps/api/place/nearbysearch/json\"\n",
    "\n",
    "    # make request and print url\n",
    "    hotel_request = requests.get(base_url, params=params)\n",
    "    \n",
    "    #print the hotel_request url, avoid doing for public github repos in order to avoid exposing key\n",
    "    #print(hotel_request.url)\n",
    "\n",
    "    # convert to json\n",
    "    hotel_request = hotel_request.json()\n",
    "    #print(json.dumps(hotel_request, indent=4, sort_keys=True))\n",
    "\n",
    "    # Since some data may be missing we incorporate a try-except to skip any that are missing a data point.\n",
    "    try:\n",
    "        hotel_df.loc[index, \"Hotel Name\"] = hotel_request[\"results\"][0][\"name\"]\n",
    "   \n",
    "    except (KeyError, IndexError):\n",
    "        print(\"Missing field/result... skipping.\")\n",
    "        \n",
    "# Preview to make sure the dataframe updates\n",
    "hotel_df       "
   ]
  },
  {
   "cell_type": "code",
   "execution_count": null,
   "metadata": {},
   "outputs": [],
   "source": [
    "# Want to drop rows with missing 'Hotel Name' data\n",
    "\n",
    "# First fill empty 'Hotel Name' cells with NaN\n",
    "hotel_df = hotel_df.replace(r'^\\s*$', np.nan, regex=True)\n",
    "# Preview\n",
    "hotel_df"
   ]
  },
  {
   "cell_type": "code",
   "execution_count": null,
   "metadata": {},
   "outputs": [],
   "source": [
    "# Find the rows with missing 'Hotel Name' data, for my own reference\n",
    "hotel_nan = hotel_df[hotel_df.isna().any(axis = 1)]\n",
    "hotel_nan"
   ]
  },
  {
   "cell_type": "code",
   "execution_count": null,
   "metadata": {},
   "outputs": [],
   "source": [
    "# Drop the NaN rows and remove newly created 'index column' that's created with reset_index()\n",
    "hotel_df = hotel_df.dropna().reset_index()\n",
    "hotel_df = hotel_df[[\"City\", \"Cloudiness\", \"Country\", \"Date\", \"Humidity\", \"Lat\", \n",
    "                     \"Lng\", \"Max Temp\", \"Wind Speed\", \"Hotel Name\"]]\n",
    "# Preview\n",
    "hotel_df"
   ]
  },
  {
   "cell_type": "code",
   "execution_count": null,
   "metadata": {},
   "outputs": [],
   "source": [
    "# NOTE: Do not change any of the code in this cell\n",
    "\n",
    "# Using the template add the hotel marks to the heatmap\n",
    "info_box_template = \"\"\"\n",
    "<dl>\n",
    "<dt>Name</dt><dd>{Hotel Name}</dd>\n",
    "<dt>City</dt><dd>{City}</dd>\n",
    "<dt>Country</dt><dd>{Country}</dd>\n",
    "</dl>\n",
    "\"\"\"\n",
    "# Store the DataFrame Row\n",
    "# NOTE: be sure to update with your DataFrame name\n",
    "hotel_info = [info_box_template.format(**row) for index, row in hotel_df.iterrows()]\n",
    "locations = hotel_df[[\"Lat\", \"Lng\"]]"
   ]
  },
  {
   "cell_type": "code",
   "execution_count": null,
   "metadata": {},
   "outputs": [],
   "source": [
    "# Add marker layer and info box content ontop of heat map\n",
    "markers = gmaps.marker_layer(locations, info_box_content = hotel_info)\n",
    "# Add the layer to the map\n",
    "fig.add_layer(markers)\n",
    "# Display map\n",
    "fig"
   ]
  }
 ],
 "metadata": {
  "kernelspec": {
   "display_name": "Python 3",
   "language": "python",
   "name": "python3"
  },
  "language_info": {
   "codemirror_mode": {
    "name": "ipython",
    "version": 3
   },
   "file_extension": ".py",
   "mimetype": "text/x-python",
   "name": "python",
   "nbconvert_exporter": "python",
   "pygments_lexer": "ipython3",
   "version": "3.7.4"
  }
 },
 "nbformat": 4,
 "nbformat_minor": 2
}
