{
 "cells": [
  {
   "cell_type": "code",
   "execution_count": 42,
   "metadata": {},
   "outputs": [],
   "source": [
    "#dependencies and Setup\n",
    "import matplotlib.pyplot as plt\n",
    "import pandas as pd\n",
    "import numpy as np\n",
    "import requests\n",
    "import time\n",
    "import os\n",
    "from scipy.stats import linregress\n",
    "from scipy import stats\n",
    "\n",
    "#import api key\n",
    "from config import weather_api_key\n",
    "\n",
    "#incorporated citipy to determine city based on latitude and longitude\n",
    "from citipy import citipy\n",
    "\n",
    "#output file (csv)\n",
    "output_data_file = \"output_data/cities.csv\"\n",
    "\n",
    "#range of latitudes and longitudes\n",
    "#lat_range = (-90, 90)\n",
    "#lng_range = (-180, 180)\n",
    "lat_range = (-10, 4)\n",
    "lng_range = (1, 2)\n",
    "\n",
    "#formatting for bold text\n",
    "class color:\n",
    "   BOLD = '\\033[1m'\n",
    "   END = '\\033[0m'"
   ]
  },
  {
   "cell_type": "code",
   "execution_count": 2,
   "metadata": {},
   "outputs": [
    {
     "data": {
      "text/plain": [
       "{'coord': {'lon': -93.26, 'lat': 44.98},\n",
       " 'weather': [{'id': 800,\n",
       "   'main': 'Clear',\n",
       "   'description': 'clear sky',\n",
       "   'icon': '01n'}],\n",
       " 'base': 'stations',\n",
       " 'main': {'temp': 16.34,\n",
       "  'feels_like': 5.32,\n",
       "  'temp_min': 14,\n",
       "  'temp_max': 18,\n",
       "  'pressure': 1020,\n",
       "  'humidity': 72},\n",
       " 'visibility': 16093,\n",
       " 'wind': {'speed': 9.17, 'deg': 160, 'gust': 16.11},\n",
       " 'clouds': {'all': 1},\n",
       " 'dt': 1579651564,\n",
       " 'sys': {'type': 1,\n",
       "  'id': 5829,\n",
       "  'country': 'US',\n",
       "  'sunrise': 1579614231,\n",
       "  'sunset': 1579647856},\n",
       " 'timezone': -21600,\n",
       " 'id': 5037649,\n",
       " 'name': 'Minneapolis',\n",
       " 'cod': 200}"
      ]
     },
     "execution_count": 2,
     "metadata": {},
     "output_type": "execute_result"
    }
   ],
   "source": [
    "#printing out the minneapolis json to see the data\n",
    "url = \"http://api.openweathermap.org/data/2.5/weather?\"\n",
    "units = \"imperial\"\n",
    "query_url = f\"{url}appid={weather_api_key}&units={units}&q=\"\n",
    "response = requests.get(query_url + \"minneapolis\").json()\n",
    "response"
   ]
  },
  {
   "cell_type": "code",
   "execution_count": 3,
   "metadata": {},
   "outputs": [
    {
     "data": {
      "text/plain": [
       "9"
      ]
     },
     "execution_count": 3,
     "metadata": {},
     "output_type": "execute_result"
    }
   ],
   "source": [
    "#List for holding lat_lngs and cities\n",
    "lat_lngs = []\n",
    "cities = []\n",
    "\n",
    "#create a set of random lat and lng combinations\n",
    "lats = np.random.uniform(low=-10.000, high=4.000, size=1500)\n",
    "lngs = np.random.uniform(low=1.000, high=2.000, size=1500)\n",
    "lat_lngs = zip(lats, lngs)\n",
    "\n",
    "# Add a one second interval between queries to stay within API query limits\n",
    "time.sleep(1)\n",
    "\n",
    "#identify nearest city for each lat, lng combination\n",
    "for lat_lng in lat_lngs:\n",
    "    city = citipy.nearest_city(lat_lng[0], lat_lng[1]).city_name\n",
    "    \n",
    "    # If the city is unique, then add it to a our cities list\n",
    "    if city not in cities:\n",
    "        cities.append(city)\n",
    "\n",
    "#print the city count to confirm sufficient count\n",
    "len(cities)"
   ]
  },
  {
   "cell_type": "code",
   "execution_count": 4,
   "metadata": {},
   "outputs": [
    {
     "name": "stdout",
     "output_type": "stream",
     "text": [
      "Beginning Data Retrieval\n",
      "--------------------------------\n",
      "Processing Record 1 of Set 1 | omboue\n",
      "Processing Record 2 of Set 1 | jamestown\n",
      "Processing Record 3 of Set 1 | port-gentil\n",
      "Processing Record 4 of Set 1 | anloga\n",
      "Processing Record 5 of Set 1 | mumford\n",
      "Processing Record 6 of Set 1 | gamba\n",
      "Processing Record 7 of Set 1 | takoradi\n",
      "Processing Record 8 of Set 1 | winneba\n",
      "Processing Record 9 of Set 1 | teshie\n",
      "------------------------\n",
      "Data Retrieval Complete\n",
      "------------------------\n"
     ]
    }
   ],
   "source": [
    "#Perform API Calls\n",
    "#write something more descriptive...\n",
    "\n",
    "#base url\n",
    "url = \"http://api.openweathermap.org/data/2.5/weather?\"\n",
    "units = \"imperial\"\n",
    "#build partial query url\n",
    "query_url = f\"{url}appid={weather_api_key}&units={units}&q=\"\n",
    "\n",
    "city_info = []\n",
    "\n",
    "#in order to print the print log according to how the homework looks (change comment before final draft)\n",
    "i = 1\n",
    "set_number = 1\n",
    "\n",
    "print(\"Beginning Data Retrieval\") \n",
    "print(\"--------------------------------\")\n",
    "\n",
    "for j, city in enumerate(cities):\n",
    "    \n",
    "    if (j % 50 == 0 and j >= 50):\n",
    "        set_number = set_number + 1\n",
    "        i = 0\n",
    "    print(f\"Processing Record {i} of Set {set_number} | {city}\")\n",
    "    i=i+1\n",
    "   \n",
    "    response = requests.get(query_url + city).json()\n",
    "    \n",
    "    # Add a one second interval between queries to stay within API query limits\n",
    "    time.sleep(1)\n",
    "    \n",
    "    try:\n",
    "        lat = response['coord']['lat']\n",
    "        name = response['name']\n",
    "        cloudiness = response['clouds']['all']\n",
    "        country = response['sys']['country']\n",
    "        date = response['dt']\n",
    "        humidity = response['main']['humidity']\n",
    "        lngs = response['coord']['lon']\n",
    "        max_temp = response['main']['temp_max']\n",
    "        wind_speed = response['wind']['speed']\n",
    "        city_info.append({\"City\": name,\n",
    "                          \"Cloudiness\": cloudiness,\n",
    "                          \"Country\": country,\n",
    "                          \"Date\": date,\n",
    "                          \"Humidity\": humidity,\n",
    "                          \"Lat\": lat,\n",
    "                          \"Lng\": lngs,\n",
    "                          \"Max Temp\": max_temp,\n",
    "                          \"Wind Speed\": wind_speed})\n",
    "    except:\n",
    "        print(\"City \" + color.BOLD + \"not \" + color.END + \"found. Skipping...\")\n",
    "        pass\n",
    "\n",
    "print(\"------------------------\")\n",
    "print(\"Data Retrieval Complete\")\n",
    "print(\"------------------------\")"
   ]
  },
  {
   "cell_type": "code",
   "execution_count": 10,
   "metadata": {},
   "outputs": [
    {
     "data": {
      "text/html": [
       "<div>\n",
       "<style scoped>\n",
       "    .dataframe tbody tr th:only-of-type {\n",
       "        vertical-align: middle;\n",
       "    }\n",
       "\n",
       "    .dataframe tbody tr th {\n",
       "        vertical-align: top;\n",
       "    }\n",
       "\n",
       "    .dataframe thead th {\n",
       "        text-align: right;\n",
       "    }\n",
       "</style>\n",
       "<table border=\"1\" class=\"dataframe\">\n",
       "  <thead>\n",
       "    <tr style=\"text-align: right;\">\n",
       "      <th></th>\n",
       "      <th>City</th>\n",
       "      <th>Cloudiness</th>\n",
       "      <th>Country</th>\n",
       "      <th>Date</th>\n",
       "      <th>Humidity</th>\n",
       "      <th>Lat</th>\n",
       "      <th>Lng</th>\n",
       "      <th>Max Temp</th>\n",
       "      <th>Wind Speed</th>\n",
       "    </tr>\n",
       "  </thead>\n",
       "  <tbody>\n",
       "    <tr>\n",
       "      <td>0</td>\n",
       "      <td>Omboue</td>\n",
       "      <td>81</td>\n",
       "      <td>GA</td>\n",
       "      <td>1579651536</td>\n",
       "      <td>96</td>\n",
       "      <td>-1.57</td>\n",
       "      <td>9.26</td>\n",
       "      <td>75.65</td>\n",
       "      <td>3.89</td>\n",
       "    </tr>\n",
       "    <tr>\n",
       "      <td>1</td>\n",
       "      <td>Jamestown</td>\n",
       "      <td>90</td>\n",
       "      <td>US</td>\n",
       "      <td>1579651513</td>\n",
       "      <td>85</td>\n",
       "      <td>42.10</td>\n",
       "      <td>-79.24</td>\n",
       "      <td>26.01</td>\n",
       "      <td>12.75</td>\n",
       "    </tr>\n",
       "    <tr>\n",
       "      <td>2</td>\n",
       "      <td>Port-Gentil</td>\n",
       "      <td>20</td>\n",
       "      <td>GA</td>\n",
       "      <td>1579651570</td>\n",
       "      <td>94</td>\n",
       "      <td>-0.72</td>\n",
       "      <td>8.78</td>\n",
       "      <td>80.60</td>\n",
       "      <td>2.24</td>\n",
       "    </tr>\n",
       "    <tr>\n",
       "      <td>3</td>\n",
       "      <td>Anloga</td>\n",
       "      <td>20</td>\n",
       "      <td>GH</td>\n",
       "      <td>1579651546</td>\n",
       "      <td>74</td>\n",
       "      <td>5.79</td>\n",
       "      <td>0.90</td>\n",
       "      <td>84.20</td>\n",
       "      <td>4.70</td>\n",
       "    </tr>\n",
       "    <tr>\n",
       "      <td>4</td>\n",
       "      <td>Mumford</td>\n",
       "      <td>45</td>\n",
       "      <td>GH</td>\n",
       "      <td>1579651520</td>\n",
       "      <td>77</td>\n",
       "      <td>5.26</td>\n",
       "      <td>-0.76</td>\n",
       "      <td>78.03</td>\n",
       "      <td>3.42</td>\n",
       "    </tr>\n",
       "    <tr>\n",
       "      <td>5</td>\n",
       "      <td>Gamba</td>\n",
       "      <td>62</td>\n",
       "      <td>GA</td>\n",
       "      <td>1579651576</td>\n",
       "      <td>89</td>\n",
       "      <td>-2.65</td>\n",
       "      <td>10.00</td>\n",
       "      <td>77.59</td>\n",
       "      <td>4.72</td>\n",
       "    </tr>\n",
       "    <tr>\n",
       "      <td>6</td>\n",
       "      <td>Takoradze</td>\n",
       "      <td>39</td>\n",
       "      <td>GH</td>\n",
       "      <td>1579651525</td>\n",
       "      <td>81</td>\n",
       "      <td>4.88</td>\n",
       "      <td>-1.76</td>\n",
       "      <td>78.01</td>\n",
       "      <td>2.73</td>\n",
       "    </tr>\n",
       "    <tr>\n",
       "      <td>7</td>\n",
       "      <td>Winneba</td>\n",
       "      <td>35</td>\n",
       "      <td>GH</td>\n",
       "      <td>1579651522</td>\n",
       "      <td>83</td>\n",
       "      <td>5.35</td>\n",
       "      <td>-0.62</td>\n",
       "      <td>82.40</td>\n",
       "      <td>3.36</td>\n",
       "    </tr>\n",
       "    <tr>\n",
       "      <td>8</td>\n",
       "      <td>Teshie</td>\n",
       "      <td>49</td>\n",
       "      <td>GH</td>\n",
       "      <td>1579651600</td>\n",
       "      <td>83</td>\n",
       "      <td>5.58</td>\n",
       "      <td>-0.11</td>\n",
       "      <td>82.40</td>\n",
       "      <td>3.36</td>\n",
       "    </tr>\n",
       "  </tbody>\n",
       "</table>\n",
       "</div>"
      ],
      "text/plain": [
       "          City  Cloudiness Country        Date  Humidity    Lat    Lng  \\\n",
       "0       Omboue          81      GA  1579651536        96  -1.57   9.26   \n",
       "1    Jamestown          90      US  1579651513        85  42.10 -79.24   \n",
       "2  Port-Gentil          20      GA  1579651570        94  -0.72   8.78   \n",
       "3       Anloga          20      GH  1579651546        74   5.79   0.90   \n",
       "4      Mumford          45      GH  1579651520        77   5.26  -0.76   \n",
       "5        Gamba          62      GA  1579651576        89  -2.65  10.00   \n",
       "6    Takoradze          39      GH  1579651525        81   4.88  -1.76   \n",
       "7      Winneba          35      GH  1579651522        83   5.35  -0.62   \n",
       "8       Teshie          49      GH  1579651600        83   5.58  -0.11   \n",
       "\n",
       "   Max Temp  Wind Speed  \n",
       "0     75.65        3.89  \n",
       "1     26.01       12.75  \n",
       "2     80.60        2.24  \n",
       "3     84.20        4.70  \n",
       "4     78.03        3.42  \n",
       "5     77.59        4.72  \n",
       "6     78.01        2.73  \n",
       "7     82.40        3.36  \n",
       "8     82.40        3.36  "
      ]
     },
     "execution_count": 10,
     "metadata": {},
     "output_type": "execute_result"
    }
   ],
   "source": [
    "#export the city data into a csv\n",
    "#display the dataframe\n",
    "\n",
    "city_df = pd.DataFrame(city_info)\n",
    "\n",
    "city_df.to_csv('cities.csv', encoding=\"utf-8\", index_label=\"City_ID\")\n",
    "\n",
    "city_df"
   ]
  },
  {
   "cell_type": "code",
   "execution_count": 6,
   "metadata": {},
   "outputs": [
    {
     "data": {
      "image/png": "[encoded data removed]",
      "text/plain": [
       "<Figure size 432x288 with 1 Axes>"
      ]
     },
     "metadata": {
      "needs_background": "light"
     },
     "output_type": "display_data"
    }
   ],
   "source": [
    "#plot latitude v temperature\n",
    "x_values = city_df[\"Lat\"]\n",
    "y_values = city_df[\"Max Temp\"]\n",
    "plt.scatter(x_values, y_values, edgecolors=\"black\")\n",
    "plt.title(\"City Latitude vs Max Temperature (1/21/20)\")\n",
    "plt.xlabel(\"Latitude\")\n",
    "plt.ylabel(\"Max Temperature (F)\")\n",
    "plt.grid()\n",
    "\n",
    "\n",
    "#save scatter plot to Images Folder\n",
    "plt.savefig(os.path.join(\"Images\",\"Temp_v_Latitude.png\"))\n",
    "\n",
    "#for reference on setting limits:\n",
    "#plt.xlim(-50, 35)\n",
    "#plt.ylim(20, 100)"
   ]
  },
  {
   "cell_type": "markdown",
   "metadata": {},
   "source": [
    "**CODE:**  This code is utilizing www.openweathermap.org to gather data on cities around the globe.  We specifically called for info on city name, latitudes, longitudes, cloudiness, humidity, wind speed, country and date.  For the above scatter plot, we looked at max temperature versus the city latitude.\n",
    "\n",
    "**ANALYSIS:**  For testing purposes, we're looking at a small cluster, so it makes sense that the scatter plot is focused. "
   ]
  },
  {
   "cell_type": "code",
   "execution_count": 7,
   "metadata": {},
   "outputs": [
    {
     "data": {
      "image/png": "[encoded data removed]",
      "text/plain": [
       "<Figure size 432x288 with 1 Axes>"
      ]
     },
     "metadata": {
      "needs_background": "light"
     },
     "output_type": "display_data"
    }
   ],
   "source": [
    "#plot latitude v humidity\n",
    "x_values = city_df[\"Lat\"]\n",
    "y_values = city_df[\"Humidity\"]\n",
    "plt.scatter(x_values, y_values, edgecolors=\"black\")\n",
    "plt.title(\"City Latitude vs Humidity (DATE!)\")\n",
    "plt.xlabel(\"Latitude\")\n",
    "plt.ylabel(\"Humidity (%)\")\n",
    "plt.grid()\n",
    "\n",
    "\n",
    "#save scatter plot to Images Folder\n",
    "plt.savefig(os.path.join(\"Images\",\"Humidity_v_Latitude.png\"))"
   ]
  },
  {
   "cell_type": "markdown",
   "metadata": {},
   "source": [
    "**CODE:**  For the above scatter plot, we looked at humidity relative to city latitude.\n",
    "\n",
    "**ANALYSIS:**  For testing purposes, we're looking at a small cluster, so it makes sense that the scatter plot is focused. "
   ]
  },
  {
   "cell_type": "code",
   "execution_count": 8,
   "metadata": {},
   "outputs": [
    {
     "data": {
      "image/png": "[encoded data removed]",
      "text/plain": [
       "<Figure size 432x288 with 1 Axes>"
      ]
     },
     "metadata": {
      "needs_background": "light"
     },
     "output_type": "display_data"
    }
   ],
   "source": [
    "#plot latitude v cloudiness\n",
    "x_values = city_df[\"Lat\"]\n",
    "y_values = city_df[\"Cloudiness\"]\n",
    "plt.scatter(x_values, y_values, edgecolors=\"black\")\n",
    "plt.title(\"City Latitude vs Cloudiness (DATE!)\")\n",
    "plt.xlabel(\"Latitude\")\n",
    "plt.ylabel(\"Cloudiness (%)\")\n",
    "plt.grid()\n",
    "\n",
    "\n",
    "#save scatter plot to Images Folder\n",
    "plt.savefig(os.path.join(\"Images\",\"Cloudiness_v_Latitude.png\"))"
   ]
  },
  {
   "cell_type": "markdown",
   "metadata": {},
   "source": [
    "**CODE:**  For the above scatter plot, we looked at cloudiness versus the city latitude.\n",
    "\n",
    "**ANALYSIS:**  For testing purposes, we're looking at a small cluster, so it makes sense that the scatter plot is focused. "
   ]
  },
  {
   "cell_type": "code",
   "execution_count": 9,
   "metadata": {},
   "outputs": [
    {
     "data": {
      "image/png": "[encoded data removed]",
      "text/plain": [
       "<Figure size 432x288 with 1 Axes>"
      ]
     },
     "metadata": {
      "needs_background": "light"
     },
     "output_type": "display_data"
    }
   ],
   "source": [
    "#plot latitude v wind speed\n",
    "x_values = city_df[\"Lat\"]\n",
    "y_values = city_df[\"Wind Speed\"]\n",
    "plt.scatter(x_values, y_values, edgecolors=\"black\")\n",
    "plt.title(\"City Latitude vs Wind Speed (DATE)\")\n",
    "plt.xlabel(\"Latitude\")\n",
    "plt.ylabel(\"Wind Speed (mph)\")\n",
    "plt.grid()\n",
    "\n",
    "\n",
    "#save scatter plot to Images Folder\n",
    "plt.savefig(os.path.join(\"Images\",\"Wind_Speed_v_Latitude.png\"))"
   ]
  },
  {
   "cell_type": "markdown",
   "metadata": {},
   "source": [
    "**CODE:**  For the above scatter plot, we looked at wind speed versus the city latitude.\n",
    "\n",
    "**ANALYSIS:**  For testing purposes, we're looking at a small cluster, so it makes sense that the scatter plot is focused. "
   ]
  },
  {
   "cell_type": "code",
   "execution_count": 36,
   "metadata": {},
   "outputs": [
    {
     "data": {
      "text/html": [
       "<div>\n",
       "<style scoped>\n",
       "    .dataframe tbody tr th:only-of-type {\n",
       "        vertical-align: middle;\n",
       "    }\n",
       "\n",
       "    .dataframe tbody tr th {\n",
       "        vertical-align: top;\n",
       "    }\n",
       "\n",
       "    .dataframe thead th {\n",
       "        text-align: right;\n",
       "    }\n",
       "</style>\n",
       "<table border=\"1\" class=\"dataframe\">\n",
       "  <thead>\n",
       "    <tr style=\"text-align: right;\">\n",
       "      <th></th>\n",
       "      <th>City</th>\n",
       "      <th>Cloudiness</th>\n",
       "      <th>Country</th>\n",
       "      <th>Date</th>\n",
       "      <th>Humidity</th>\n",
       "      <th>Lat</th>\n",
       "      <th>Lng</th>\n",
       "      <th>Max Temp</th>\n",
       "      <th>Wind Speed</th>\n",
       "    </tr>\n",
       "  </thead>\n",
       "  <tbody>\n",
       "    <tr>\n",
       "      <td>0</td>\n",
       "      <td>Jamestown</td>\n",
       "      <td>90</td>\n",
       "      <td>US</td>\n",
       "      <td>1579651513</td>\n",
       "      <td>85</td>\n",
       "      <td>42.10</td>\n",
       "      <td>-79.24</td>\n",
       "      <td>26.01</td>\n",
       "      <td>12.75</td>\n",
       "    </tr>\n",
       "    <tr>\n",
       "      <td>1</td>\n",
       "      <td>Anloga</td>\n",
       "      <td>20</td>\n",
       "      <td>GH</td>\n",
       "      <td>1579651546</td>\n",
       "      <td>74</td>\n",
       "      <td>5.79</td>\n",
       "      <td>0.90</td>\n",
       "      <td>84.20</td>\n",
       "      <td>4.70</td>\n",
       "    </tr>\n",
       "    <tr>\n",
       "      <td>2</td>\n",
       "      <td>Mumford</td>\n",
       "      <td>45</td>\n",
       "      <td>GH</td>\n",
       "      <td>1579651520</td>\n",
       "      <td>77</td>\n",
       "      <td>5.26</td>\n",
       "      <td>-0.76</td>\n",
       "      <td>78.03</td>\n",
       "      <td>3.42</td>\n",
       "    </tr>\n",
       "    <tr>\n",
       "      <td>3</td>\n",
       "      <td>Takoradze</td>\n",
       "      <td>39</td>\n",
       "      <td>GH</td>\n",
       "      <td>1579651525</td>\n",
       "      <td>81</td>\n",
       "      <td>4.88</td>\n",
       "      <td>-1.76</td>\n",
       "      <td>78.01</td>\n",
       "      <td>2.73</td>\n",
       "    </tr>\n",
       "    <tr>\n",
       "      <td>4</td>\n",
       "      <td>Winneba</td>\n",
       "      <td>35</td>\n",
       "      <td>GH</td>\n",
       "      <td>1579651522</td>\n",
       "      <td>83</td>\n",
       "      <td>5.35</td>\n",
       "      <td>-0.62</td>\n",
       "      <td>82.40</td>\n",
       "      <td>3.36</td>\n",
       "    </tr>\n",
       "    <tr>\n",
       "      <td>5</td>\n",
       "      <td>Teshie</td>\n",
       "      <td>49</td>\n",
       "      <td>GH</td>\n",
       "      <td>1579651600</td>\n",
       "      <td>83</td>\n",
       "      <td>5.58</td>\n",
       "      <td>-0.11</td>\n",
       "      <td>82.40</td>\n",
       "      <td>3.36</td>\n",
       "    </tr>\n",
       "  </tbody>\n",
       "</table>\n",
       "</div>"
      ],
      "text/plain": [
       "        City  Cloudiness Country        Date  Humidity    Lat    Lng  \\\n",
       "0  Jamestown          90      US  1579651513        85  42.10 -79.24   \n",
       "1     Anloga          20      GH  1579651546        74   5.79   0.90   \n",
       "2    Mumford          45      GH  1579651520        77   5.26  -0.76   \n",
       "3  Takoradze          39      GH  1579651525        81   4.88  -1.76   \n",
       "4    Winneba          35      GH  1579651522        83   5.35  -0.62   \n",
       "5     Teshie          49      GH  1579651600        83   5.58  -0.11   \n",
       "\n",
       "   Max Temp  Wind Speed  \n",
       "0     26.01       12.75  \n",
       "1     84.20        4.70  \n",
       "2     78.03        3.42  \n",
       "3     78.01        2.73  \n",
       "4     82.40        3.36  \n",
       "5     82.40        3.36  "
      ]
     },
     "execution_count": 36,
     "metadata": {},
     "output_type": "execute_result"
    }
   ],
   "source": [
    "#run linear regression on the above relationships; separated by hemisphere\n",
    "\n",
    "#create northern hemisphere dataframe\n",
    "\n",
    "#logic test/conditional statement returns a series of boolean values; make sure on the right track\n",
    "northern_hem = city_df[\"Lat\"] >= 0\n",
    "\n",
    "#locate where the 'Lat' values are >= 0; reset index for cleaner formatting\n",
    "northern_df = city_df.loc[city_df[\"Lat\"] >= 0, :].reset_index()\n",
    "\n",
    "#get rid of newly created 'index' column resulting from above code\n",
    "northern_df = northern_df[[\"City\", \"Cloudiness\", \"Country\", \"Date\", \"Humidity\", \"Lat\", \"Lng\", \"Max Temp\", \"Wind Speed\"]]\n",
    "northern_df"
   ]
  },
  {
   "cell_type": "code",
   "execution_count": 37,
   "metadata": {},
   "outputs": [
    {
     "data": {
      "text/html": [
       "<div>\n",
       "<style scoped>\n",
       "    .dataframe tbody tr th:only-of-type {\n",
       "        vertical-align: middle;\n",
       "    }\n",
       "\n",
       "    .dataframe tbody tr th {\n",
       "        vertical-align: top;\n",
       "    }\n",
       "\n",
       "    .dataframe thead th {\n",
       "        text-align: right;\n",
       "    }\n",
       "</style>\n",
       "<table border=\"1\" class=\"dataframe\">\n",
       "  <thead>\n",
       "    <tr style=\"text-align: right;\">\n",
       "      <th></th>\n",
       "      <th>City</th>\n",
       "      <th>Cloudiness</th>\n",
       "      <th>Country</th>\n",
       "      <th>Date</th>\n",
       "      <th>Humidity</th>\n",
       "      <th>Lat</th>\n",
       "      <th>Lng</th>\n",
       "      <th>Max Temp</th>\n",
       "      <th>Wind Speed</th>\n",
       "    </tr>\n",
       "  </thead>\n",
       "  <tbody>\n",
       "    <tr>\n",
       "      <td>0</td>\n",
       "      <td>Omboue</td>\n",
       "      <td>81</td>\n",
       "      <td>GA</td>\n",
       "      <td>1579651536</td>\n",
       "      <td>96</td>\n",
       "      <td>-1.57</td>\n",
       "      <td>9.26</td>\n",
       "      <td>75.65</td>\n",
       "      <td>3.89</td>\n",
       "    </tr>\n",
       "    <tr>\n",
       "      <td>1</td>\n",
       "      <td>Port-Gentil</td>\n",
       "      <td>20</td>\n",
       "      <td>GA</td>\n",
       "      <td>1579651570</td>\n",
       "      <td>94</td>\n",
       "      <td>-0.72</td>\n",
       "      <td>8.78</td>\n",
       "      <td>80.60</td>\n",
       "      <td>2.24</td>\n",
       "    </tr>\n",
       "    <tr>\n",
       "      <td>2</td>\n",
       "      <td>Gamba</td>\n",
       "      <td>62</td>\n",
       "      <td>GA</td>\n",
       "      <td>1579651576</td>\n",
       "      <td>89</td>\n",
       "      <td>-2.65</td>\n",
       "      <td>10.00</td>\n",
       "      <td>77.59</td>\n",
       "      <td>4.72</td>\n",
       "    </tr>\n",
       "  </tbody>\n",
       "</table>\n",
       "</div>"
      ],
      "text/plain": [
       "          City  Cloudiness Country        Date  Humidity   Lat    Lng  \\\n",
       "0       Omboue          81      GA  1579651536        96 -1.57   9.26   \n",
       "1  Port-Gentil          20      GA  1579651570        94 -0.72   8.78   \n",
       "2        Gamba          62      GA  1579651576        89 -2.65  10.00   \n",
       "\n",
       "   Max Temp  Wind Speed  \n",
       "0     75.65        3.89  \n",
       "1     80.60        2.24  \n",
       "2     77.59        4.72  "
      ]
     },
     "execution_count": 37,
     "metadata": {},
     "output_type": "execute_result"
    }
   ],
   "source": [
    "#create southern hemisphere dataframe\n",
    "\n",
    "#logic test that prints out series of boolean values; strictly for my own knowledge\n",
    "southern_hem = city_df[\"Lat\"] < 0\n",
    "\n",
    "southern_df = city_df.loc[city_df[\"Lat\"] < 0, :].reset_index()\n",
    "southern_df = southern_df[[\"City\", \"Cloudiness\", \"Country\", \"Date\", \"Humidity\", \"Lat\", \"Lng\", \"Max Temp\", \"Wind Speed\"]]\n",
    "southern_df"
   ]
  },
  {
   "cell_type": "code",
   "execution_count": 38,
   "metadata": {},
   "outputs": [
    {
     "data": {
      "image/png": "[encoded data removed]",
      "text/plain": [
       "<Figure size 432x288 with 1 Axes>"
      ]
     },
     "metadata": {
      "needs_background": "light"
     },
     "output_type": "display_data"
    }
   ],
   "source": [
    "#plot latitude v temperature (northern hemisphere)\n",
    "\n",
    "x_values = northern_df[\"Lat\"]\n",
    "y_values = northern_df[\"Max Temp\"]\n",
    "plt.scatter(x_values, y_values, edgecolors=\"black\")\n",
    "plt.title(\"City Latitude vs Max Temperature (DATE!)\")\n",
    "plt.xlabel(\"Latitude\")\n",
    "plt.ylabel(\"Max Temperature (F)\")\n",
    "plt.grid()\n",
    "\n",
    "\n",
    "#save scatter plot to Images Folder\n",
    "plt.savefig(os.path.join(\"Images\",\"Northern_Temp_v_Latitude.png\"))"
   ]
  },
  {
   "cell_type": "code",
   "execution_count": 43,
   "metadata": {},
   "outputs": [
    {
     "name": "stdout",
     "output_type": "stream",
     "text": [
      "0    26.121860\n",
      "1    80.361225\n",
      "2    81.152932\n",
      "3    81.720571\n",
      "4    81.018491\n",
      "5    80.674921\n",
      "Name: Lat, dtype: float64\n"
     ]
    }
   ],
   "source": [
    "#perform a linear regression on temperature vs. latitude\n",
    "(slope, intercept, rvalue, pvalue, stderr) = stats.linregress(x_values, y_values)\n",
    "\n",
    "#get regression values\n",
    "regress_values = x_values * slope + intercept\n",
    "print(regress_values)"
   ]
  },
  {
   "cell_type": "code",
   "execution_count": 46,
   "metadata": {},
   "outputs": [
    {
     "name": "stdout",
     "output_type": "stream",
     "text": [
      "y = -1.49x +89.01\n"
     ]
    }
   ],
   "source": [
    "#create line equation string\n",
    "line_eq = \"y = \" + str(round(slope,2)) + \"x +\" + str(round(intercept,2))\n",
    "print(line_eq)"
   ]
  },
  {
   "cell_type": "code",
   "execution_count": 47,
   "metadata": {},
   "outputs": [
    {
     "name": "stdout",
     "output_type": "stream",
     "text": [
      "The r-squared is: -0.9915108798980682\n"
     ]
    },
    {
     "data": {
      "image/png": "[encoded data removed]",
      "text/plain": [
       "<Figure size 432x288 with 1 Axes>"
      ]
     },
     "metadata": {
      "needs_background": "light"
     },
     "output_type": "display_data"
    }
   ],
   "source": [
    "#create Plot\n",
    "plt.scatter(x_values,y_values)\n",
    "plt.plot(x_values,regress_values,\"r-\")\n",
    "\n",
    "#label plot and annotate the line equation\n",
    "plt.xlabel('Latitude')\n",
    "plt.ylabel('Max Temp')\n",
    "plt.annotate(line_eq,(20,15),fontsize=15,color=\"red\")\n",
    "\n",
    "# Print r square value\n",
    "print(f\"The r-squared is: {rvalue}\")\n",
    "\n",
    "# Show plot\n",
    "plt.show()"
   ]
  }
 ],
 "metadata": {
  "kernelspec": {
   "display_name": "Python 3",
   "language": "python",
   "name": "python3"
  },
  "language_info": {
   "codemirror_mode": {
    "name": "ipython",
    "version": 3
   },
   "file_extension": ".py",
   "mimetype": "text/x-python",
   "name": "python",
   "nbconvert_exporter": "python",
   "pygments_lexer": "ipython3",
   "version": "3.7.4"
  }
 },
 "nbformat": 4,
 "nbformat_minor": 2
}
