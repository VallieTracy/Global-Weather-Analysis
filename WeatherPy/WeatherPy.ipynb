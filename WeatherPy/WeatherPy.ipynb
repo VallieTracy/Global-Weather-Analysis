{
 "cells": [
  {
   "cell_type": "code",
   "execution_count": 1,
   "metadata": {},
   "outputs": [],
   "source": [
    "#dependencies and Setup\n",
    "import matplotlib.pyplot as plt\n",
    "import pandas as pd\n",
    "import numpy as np\n",
    "import requests\n",
    "import time\n",
    "import os\n",
    "from scipy.stats import linregress\n",
    "\n",
    "#import api key\n",
    "from config import weather_api_key\n",
    "\n",
    "#incorporated citipy to determine city based on latitude and longitude\n",
    "from citipy import citipy\n",
    "\n",
    "#output file (csv)\n",
    "output_data_file = \"output_data/cities.csv\"\n",
    "\n",
    "#range of latitudes and longitudes\n",
    "#lat_range = (-90, 90)\n",
    "#lng_range = (-180, 180)\n",
    "lat_range = (-90, -18)\n",
    "lng_range = (-180, -150)\n",
    "\n",
    "#formatting for bold text\n",
    "class color:\n",
    "   BOLD = '\\033[1m'\n",
    "   END = '\\033[0m'"
   ]
  },
  {
   "cell_type": "code",
   "execution_count": 2,
   "metadata": {},
   "outputs": [
    {
     "data": {
      "text/plain": [
       "{'coord': {'lon': -93.26, 'lat': 44.98},\n",
       " 'weather': [{'id': 800,\n",
       "   'main': 'Clear',\n",
       "   'description': 'clear sky',\n",
       "   'icon': '01d'}],\n",
       " 'base': 'stations',\n",
       " 'main': {'temp': 17.44,\n",
       "  'feels_like': 5.23,\n",
       "  'temp_min': 15.01,\n",
       "  'temp_max': 19.99,\n",
       "  'pressure': 1022,\n",
       "  'humidity': 72},\n",
       " 'visibility': 16093,\n",
       " 'wind': {'speed': 11.41, 'deg': 160, 'gust': 17.22},\n",
       " 'clouds': {'all': 1},\n",
       " 'dt': 1579644231,\n",
       " 'sys': {'type': 1,\n",
       "  'id': 5829,\n",
       "  'country': 'US',\n",
       "  'sunrise': 1579614231,\n",
       "  'sunset': 1579647856},\n",
       " 'timezone': -21600,\n",
       " 'id': 5037649,\n",
       " 'name': 'Minneapolis',\n",
       " 'cod': 200}"
      ]
     },
     "execution_count": 2,
     "metadata": {},
     "output_type": "execute_result"
    }
   ],
   "source": [
    "#printing out the minneapolis json to see the data\n",
    "url = \"http://api.openweathermap.org/data/2.5/weather?\"\n",
    "units = \"imperial\"\n",
    "query_url = f\"{url}appid={weather_api_key}&units={units}&q=\"\n",
    "response = requests.get(query_url + \"minneapolis\").json()\n",
    "response"
   ]
  },
  {
   "cell_type": "code",
   "execution_count": 3,
   "metadata": {},
   "outputs": [
    {
     "data": {
      "text/plain": [
       "11"
      ]
     },
     "execution_count": 3,
     "metadata": {},
     "output_type": "execute_result"
    }
   ],
   "source": [
    "#List for holding lat_lngs and cities\n",
    "lat_lngs = []\n",
    "cities = []\n",
    "\n",
    "#create a set of random lat and lng combinations\n",
    "lats = np.random.uniform(low=-90.000, high=-18.000, size=1500)\n",
    "lngs = np.random.uniform(low=-180.000, high=-150.000, size=1500)\n",
    "lat_lngs = zip(lats, lngs)\n",
    "\n",
    "# Add a one second interval between queries to stay within API query limits\n",
    "time.sleep(1)\n",
    "\n",
    "#identify nearest city for each lat, lng combination\n",
    "for lat_lng in lat_lngs:\n",
    "    city = citipy.nearest_city(lat_lng[0], lat_lng[1]).city_name\n",
    "    \n",
    "    # If the city is unique, then add it to a our cities list\n",
    "    if city not in cities:\n",
    "        cities.append(city)\n",
    "\n",
    "#print the city count to confirm sufficient count\n",
    "len(cities)"
   ]
  },
  {
   "cell_type": "code",
   "execution_count": 4,
   "metadata": {},
   "outputs": [
    {
     "name": "stdout",
     "output_type": "stream",
     "text": [
      "Beginning Data Retrieval\n",
      "--------------------------------\n",
      "Processing Record 1 of Set 1 | mataura\n",
      "Processing Record 2 of Set 1 | vaini\n",
      "Processing Record 3 of Set 1 | avera\n",
      "Processing Record 4 of Set 1 | avarua\n",
      "Processing Record 5 of Set 1 | alofi\n",
      "Processing Record 6 of Set 1 | pangai\n",
      "Processing Record 7 of Set 1 | vaitape\n",
      "Processing Record 8 of Set 1 | moerai\n",
      "Processing Record 9 of Set 1 | neiafu\n",
      "Processing Record 10 of Set 1 | tevaitoa\n",
      "Processing Record 11 of Set 1 | haapiti\n",
      "------------------------\n",
      "Data Retrieval Complete\n",
      "------------------------\n"
     ]
    }
   ],
   "source": [
    "#Perform API Calls\n",
    "#write something more descriptive...\n",
    "\n",
    "#base url\n",
    "url = \"http://api.openweathermap.org/data/2.5/weather?\"\n",
    "units = \"imperial\"\n",
    "#build partial query url\n",
    "query_url = f\"{url}appid={weather_api_key}&units={units}&q=\"\n",
    "\n",
    "city_info = []\n",
    "\n",
    "#in order to print the print log according to how the homework looks (change comment before final draft)\n",
    "i = 1\n",
    "set_number = 1\n",
    "\n",
    "print(\"Beginning Data Retrieval\") \n",
    "print(\"--------------------------------\")\n",
    "\n",
    "for j, city in enumerate(cities):\n",
    "    \n",
    "    if (j % 50 == 0 and j >= 50):\n",
    "        set_number = set_number + 1\n",
    "        i = 0\n",
    "    print(f\"Processing Record {i} of Set {set_number} | {city}\")\n",
    "    i=i+1\n",
    "   \n",
    "    response = requests.get(query_url + city).json()\n",
    "    \n",
    "    # Add a one second interval between queries to stay within API query limits\n",
    "    time.sleep(1)\n",
    "    \n",
    "    try:\n",
    "        lat = response['coord']['lat']\n",
    "        name = response['name']\n",
    "        cloudiness = response['clouds']['all']\n",
    "        country = response['sys']['country']\n",
    "        date = response['dt']\n",
    "        humidity = response['main']['humidity']\n",
    "        lngs = response['coord']['lon']\n",
    "        max_temp = response['main']['temp_max']\n",
    "        wind_speed = response['wind']['speed']\n",
    "        city_info.append({\"City\": name,\n",
    "                          \"Cloudiness\": cloudiness,\n",
    "                          \"Country\": country,\n",
    "                          \"Date\": date,\n",
    "                          \"Humidity\": humidity,\n",
    "                          \"Lat\": lat,\n",
    "                          \"Lng\": lngs,\n",
    "                          \"Max Temp\": max_temp,\n",
    "                          \"Wind Speed\": wind_speed})\n",
    "    except:\n",
    "        print(\"City \" + color.BOLD + \"not \" + color.END + \"found. Skipping...\")\n",
    "        pass\n",
    "\n",
    "print(\"------------------------\")\n",
    "print(\"Data Retrieval Complete\")\n",
    "print(\"------------------------\")"
   ]
  },
  {
   "cell_type": "code",
   "execution_count": 5,
   "metadata": {},
   "outputs": [
    {
     "data": {
      "text/html": [
       "<div>\n",
       "<style scoped>\n",
       "    .dataframe tbody tr th:only-of-type {\n",
       "        vertical-align: middle;\n",
       "    }\n",
       "\n",
       "    .dataframe tbody tr th {\n",
       "        vertical-align: top;\n",
       "    }\n",
       "\n",
       "    .dataframe thead th {\n",
       "        text-align: right;\n",
       "    }\n",
       "</style>\n",
       "<table border=\"1\" class=\"dataframe\">\n",
       "  <thead>\n",
       "    <tr style=\"text-align: right;\">\n",
       "      <th></th>\n",
       "      <th>City</th>\n",
       "      <th>Cloudiness</th>\n",
       "      <th>Country</th>\n",
       "      <th>Date</th>\n",
       "      <th>Humidity</th>\n",
       "      <th>Lat</th>\n",
       "      <th>Lng</th>\n",
       "      <th>Max Temp</th>\n",
       "      <th>Wind Speed</th>\n",
       "    </tr>\n",
       "  </thead>\n",
       "  <tbody>\n",
       "    <tr>\n",
       "      <td>0</td>\n",
       "      <td>Mataura</td>\n",
       "      <td>100</td>\n",
       "      <td>NZ</td>\n",
       "      <td>1579643835</td>\n",
       "      <td>93</td>\n",
       "      <td>-46.19</td>\n",
       "      <td>168.86</td>\n",
       "      <td>62.01</td>\n",
       "      <td>3.00</td>\n",
       "    </tr>\n",
       "    <tr>\n",
       "      <td>1</td>\n",
       "      <td>Vaini</td>\n",
       "      <td>40</td>\n",
       "      <td>TO</td>\n",
       "      <td>1579643837</td>\n",
       "      <td>78</td>\n",
       "      <td>-21.20</td>\n",
       "      <td>-175.20</td>\n",
       "      <td>80.60</td>\n",
       "      <td>6.93</td>\n",
       "    </tr>\n",
       "    <tr>\n",
       "      <td>2</td>\n",
       "      <td>Avera</td>\n",
       "      <td>1</td>\n",
       "      <td>US</td>\n",
       "      <td>1579644123</td>\n",
       "      <td>32</td>\n",
       "      <td>33.19</td>\n",
       "      <td>-82.53</td>\n",
       "      <td>42.80</td>\n",
       "      <td>8.05</td>\n",
       "    </tr>\n",
       "    <tr>\n",
       "      <td>3</td>\n",
       "      <td>Avarua</td>\n",
       "      <td>100</td>\n",
       "      <td>CK</td>\n",
       "      <td>1579643820</td>\n",
       "      <td>94</td>\n",
       "      <td>-21.21</td>\n",
       "      <td>-159.78</td>\n",
       "      <td>77.00</td>\n",
       "      <td>5.82</td>\n",
       "    </tr>\n",
       "    <tr>\n",
       "      <td>4</td>\n",
       "      <td>Alofi</td>\n",
       "      <td>40</td>\n",
       "      <td>NU</td>\n",
       "      <td>1579644284</td>\n",
       "      <td>74</td>\n",
       "      <td>-19.06</td>\n",
       "      <td>-169.92</td>\n",
       "      <td>80.60</td>\n",
       "      <td>8.05</td>\n",
       "    </tr>\n",
       "  </tbody>\n",
       "</table>\n",
       "</div>"
      ],
      "text/plain": [
       "      City  Cloudiness Country        Date  Humidity    Lat     Lng  Max Temp  \\\n",
       "0  Mataura         100      NZ  1579643835        93 -46.19  168.86     62.01   \n",
       "1    Vaini          40      TO  1579643837        78 -21.20 -175.20     80.60   \n",
       "2    Avera           1      US  1579644123        32  33.19  -82.53     42.80   \n",
       "3   Avarua         100      CK  1579643820        94 -21.21 -159.78     77.00   \n",
       "4    Alofi          40      NU  1579644284        74 -19.06 -169.92     80.60   \n",
       "\n",
       "   Wind Speed  \n",
       "0        3.00  \n",
       "1        6.93  \n",
       "2        8.05  \n",
       "3        5.82  \n",
       "4        8.05  "
      ]
     },
     "execution_count": 5,
     "metadata": {},
     "output_type": "execute_result"
    }
   ],
   "source": [
    "#export the city data into a csv\n",
    "#display the dataframe\n",
    "\n",
    "city_df = pd.DataFrame(city_info)\n",
    "\n",
    "city_df.to_csv('cities.csv', encoding=\"utf-8\", index_label=\"City_ID\")\n",
    "\n",
    "city_df.head()"
   ]
  },
  {
   "cell_type": "code",
   "execution_count": 10,
   "metadata": {},
   "outputs": [
    {
     "data": {
      "image/png": "[encoded data removed]",
      "text/plain": [
       "<Figure size 432x288 with 1 Axes>"
      ]
     },
     "metadata": {
      "needs_background": "light"
     },
     "output_type": "display_data"
    }
   ],
   "source": [
    "#plot latitude v temperature\n",
    "x_values = city_df[\"Lat\"]\n",
    "y_values = city_df[\"Max Temp\"]\n",
    "plt.scatter(x_values, y_values, edgecolors=\"black\")\n",
    "plt.title(\"City Latitude vs Max Temperature (1/21/20)\")\n",
    "plt.xlabel(\"Latitude\")\n",
    "plt.ylabel(\"Max Temperature (F)\")\n",
    "plt.grid()\n",
    "\n",
    "\n",
    "#save scatter plot to Images Folder\n",
    "plt.savefig(os.path.join(\"Images\",\"Temp_v_Latitude.png\"))\n",
    "\n",
    "#for reference on setting limits:\n",
    "#plt.xlim(-50, 35)\n",
    "#plt.ylim(20, 100)"
   ]
  },
  {
   "cell_type": "markdown",
   "metadata": {},
   "source": [
    "**CODE:**  This code is utilizing www.openweathermap.org to gather data on cities around the globe.  We specifically called for info on city name, latitudes, longitudes, cloudiness, humidity, wind speed, country and date.  For the above scatter plot, we looked at max temperature versus the city latitude.\n",
    "\n",
    "**ANALYSIS:**  For testing purposes, we're looking at a small cluster, so it makes sense that the scatter plot is focused. "
   ]
  },
  {
   "cell_type": "code",
   "execution_count": 12,
   "metadata": {},
   "outputs": [
    {
     "data": {
      "image/png": "[encoded data removed]",
      "text/plain": [
       "<Figure size 432x288 with 1 Axes>"
      ]
     },
     "metadata": {
      "needs_background": "light"
     },
     "output_type": "display_data"
    }
   ],
   "source": [
    "#plot latitude v humidity\n",
    "x_values = city_df[\"Lat\"]\n",
    "y_values = city_df[\"Humidity\"]\n",
    "plt.scatter(x_values, y_values, edgecolors=\"black\")\n",
    "plt.title(\"City Latitude vs Humidity (DATE!)\")\n",
    "plt.xlabel(\"Latitude\")\n",
    "plt.ylabel(\"Humidity (%)\")\n",
    "plt.grid()\n",
    "\n",
    "\n",
    "#save scatter plot to Images Folder\n",
    "plt.savefig(os.path.join(\"Images\",\"Humidity_v_Latitude.png\"))"
   ]
  },
  {
   "cell_type": "markdown",
   "metadata": {},
   "source": [
    "**CODE:**  For the above scatter plot, we looked at humidity relative to city latitude.\n",
    "\n",
    "**ANALYSIS:**  For testing purposes, we're looking at a small cluster, so it makes sense that the scatter plot is focused. "
   ]
  },
  {
   "cell_type": "code",
   "execution_count": 13,
   "metadata": {},
   "outputs": [
    {
     "data": {
      "image/png": "[encoded data removed]",
      "text/plain": [
       "<Figure size 432x288 with 1 Axes>"
      ]
     },
     "metadata": {
      "needs_background": "light"
     },
     "output_type": "display_data"
    }
   ],
   "source": [
    "#plot latitude v cloudiness\n",
    "x_values = city_df[\"Lat\"]\n",
    "y_values = city_df[\"Cloudiness\"]\n",
    "plt.scatter(x_values, y_values, edgecolors=\"black\")\n",
    "plt.title(\"City Latitude vs Cloudiness (DATE!)\")\n",
    "plt.xlabel(\"Latitude\")\n",
    "plt.ylabel(\"Cloudiness (%)\")\n",
    "plt.grid()\n",
    "\n",
    "\n",
    "#save scatter plot to Images Folder\n",
    "plt.savefig(os.path.join(\"Images\",\"Cloudiness_v_Latitude.png\"))"
   ]
  },
  {
   "cell_type": "markdown",
   "metadata": {},
   "source": [
    "**CODE:**  For the above scatter plot, we looked at cloudiness versus the city latitude.\n",
    "\n",
    "**ANALYSIS:**  For testing purposes, we're looking at a small cluster, so it makes sense that the scatter plot is focused. "
   ]
  },
  {
   "cell_type": "code",
   "execution_count": 14,
   "metadata": {},
   "outputs": [
    {
     "data": {
      "image/png": "[encoded data removed]",
      "text/plain": [
       "<Figure size 432x288 with 1 Axes>"
      ]
     },
     "metadata": {
      "needs_background": "light"
     },
     "output_type": "display_data"
    }
   ],
   "source": [
    "#plot latitude v wind speed\n",
    "x_values = city_df[\"Lat\"]\n",
    "y_values = city_df[\"Wind Speed\"]\n",
    "plt.scatter(x_values, y_values, edgecolors=\"black\")\n",
    "plt.title(\"City Latitude vs Wind Speed (DATE)\")\n",
    "plt.xlabel(\"Latitude\")\n",
    "plt.ylabel(\"Wind Speed (mph)\")\n",
    "plt.grid()\n",
    "\n",
    "\n",
    "#save scatter plot to Images Folder\n",
    "plt.savefig(os.path.join(\"Images\",\"Wind_Speed_v_Latitude.png\"))"
   ]
  },
  {
   "cell_type": "markdown",
   "metadata": {},
   "source": [
    "**CODE:**  For the above scatter plot, we looked at wind speed versus the city latitude.\n",
    "\n",
    "**ANALYSIS:**  For testing purposes, we're looking at a small cluster, so it makes sense that the scatter plot is focused. "
   ]
  },
  {
   "cell_type": "code",
   "execution_count": null,
   "metadata": {},
   "outputs": [],
   "source": []
  }
 ],
 "metadata": {
  "kernelspec": {
   "display_name": "Python 3",
   "language": "python",
   "name": "python3"
  },
  "language_info": {
   "codemirror_mode": {
    "name": "ipython",
    "version": 3
   },
   "file_extension": ".py",
   "mimetype": "text/x-python",
   "name": "python",
   "nbconvert_exporter": "python",
   "pygments_lexer": "ipython3",
   "version": "3.7.4"
  }
 },
 "nbformat": 4,
 "nbformat_minor": 2
}
