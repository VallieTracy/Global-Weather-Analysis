{
 "cells": [
  {
   "cell_type": "code",
   "execution_count": 1,
   "metadata": {},
   "outputs": [],
   "source": [
    "#dependencies and Setup\n",
    "import matplotlib.pyplot as plt\n",
    "import pandas as pd\n",
    "import numpy as np\n",
    "import requests\n",
    "import time\n",
    "import os\n",
    "from scipy.stats import linregress\n",
    "from scipy import stats\n",
    "\n",
    "#import api key\n",
    "from config import weather_api_key\n",
    "\n",
    "#incorporated citipy to determine city based on latitude and longitude\n",
    "from citipy import citipy\n",
    "\n",
    "#output file (csv)\n",
    "output_data_file = \"output_data/cities.csv\"\n",
    "\n",
    "#range of latitudes and longitudes\n",
    "#lat_range = (-90, 90)\n",
    "#lng_range = (-180, 180)\n",
    "lat_range = (-10, 4)\n",
    "lng_range = (1, 2)\n",
    "\n",
    "#formatting for bold text\n",
    "class color:\n",
    "   BOLD = '\\033[1m'\n",
    "   END = '\\033[0m'"
   ]
  },
  {
   "cell_type": "code",
   "execution_count": 2,
   "metadata": {},
   "outputs": [
    {
     "data": {
      "text/plain": [
       "{'coord': {'lon': -93.26, 'lat': 44.98},\n",
       " 'weather': [{'id': 804,\n",
       "   'main': 'Clouds',\n",
       "   'description': 'overcast clouds',\n",
       "   'icon': '04d'}],\n",
       " 'base': 'stations',\n",
       " 'main': {'temp': 32.95,\n",
       "  'feels_like': 24.87,\n",
       "  'temp_min': 30,\n",
       "  'temp_max': 35.6,\n",
       "  'pressure': 1012,\n",
       "  'humidity': 97},\n",
       " 'visibility': 16093,\n",
       " 'wind': {'speed': 8.05, 'deg': 180},\n",
       " 'clouds': {'all': 90},\n",
       " 'dt': 1579704393,\n",
       " 'sys': {'type': 1,\n",
       "  'id': 5829,\n",
       "  'country': 'US',\n",
       "  'sunrise': 1579700584,\n",
       "  'sunset': 1579734337},\n",
       " 'timezone': -21600,\n",
       " 'id': 5037649,\n",
       " 'name': 'Minneapolis',\n",
       " 'cod': 200}"
      ]
     },
     "execution_count": 2,
     "metadata": {},
     "output_type": "execute_result"
    }
   ],
   "source": [
    "#printing out the minneapolis json to see the data\n",
    "url = \"http://api.openweathermap.org/data/2.5/weather?\"\n",
    "units = \"imperial\"\n",
    "query_url = f\"{url}appid={weather_api_key}&units={units}&q=\"\n",
    "response = requests.get(query_url + \"minneapolis\").json()\n",
    "response"
   ]
  },
  {
   "cell_type": "code",
   "execution_count": 3,
   "metadata": {},
   "outputs": [
    {
     "data": {
      "text/plain": [
       "8"
      ]
     },
     "execution_count": 3,
     "metadata": {},
     "output_type": "execute_result"
    }
   ],
   "source": [
    "#List for holding lat_lngs and cities\n",
    "lat_lngs = []\n",
    "cities = []\n",
    "\n",
    "#create a set of random lat and lng combinations\n",
    "lats = np.random.uniform(low=-10.000, high=4.000, size=1500)\n",
    "lngs = np.random.uniform(low=1.000, high=2.000, size=1500)\n",
    "lat_lngs = zip(lats, lngs)\n",
    "\n",
    "# Add a one second interval between queries to stay within API query limits\n",
    "time.sleep(1)\n",
    "\n",
    "#identify nearest city for each lat, lng combination\n",
    "for lat_lng in lat_lngs:\n",
    "    city = citipy.nearest_city(lat_lng[0], lat_lng[1]).city_name\n",
    "    \n",
    "    # If the city is unique, then add it to a our cities list\n",
    "    if city not in cities:\n",
    "        cities.append(city)\n",
    "\n",
    "#print the city count to confirm sufficient count\n",
    "len(cities)"
   ]
  },
  {
   "cell_type": "code",
   "execution_count": 4,
   "metadata": {},
   "outputs": [
    {
     "name": "stdout",
     "output_type": "stream",
     "text": [
      "Beginning Data Retrieval\n",
      "--------------------------------\n",
      "Processing Record 1 of Set 1 | port-gentil\n",
      "Processing Record 2 of Set 1 | omboue\n",
      "Processing Record 3 of Set 1 | anloga\n",
      "Processing Record 4 of Set 1 | jamestown\n",
      "Processing Record 5 of Set 1 | mumford\n",
      "Processing Record 6 of Set 1 | takoradi\n",
      "Processing Record 7 of Set 1 | gamba\n",
      "Processing Record 8 of Set 1 | winneba\n",
      "------------------------\n",
      "Data Retrieval Complete\n",
      "------------------------\n"
     ]
    }
   ],
   "source": [
    "#Perform API Calls\n",
    "#write something more descriptive...\n",
    "\n",
    "#base url\n",
    "url = \"http://api.openweathermap.org/data/2.5/weather?\"\n",
    "units = \"imperial\"\n",
    "#build partial query url\n",
    "query_url = f\"{url}appid={weather_api_key}&units={units}&q=\"\n",
    "\n",
    "city_info = []\n",
    "\n",
    "#in order to print the print log according to how the homework looks (change comment before final draft)\n",
    "i = 1\n",
    "set_number = 1\n",
    "\n",
    "print(\"Beginning Data Retrieval\") \n",
    "print(\"--------------------------------\")\n",
    "\n",
    "for j, city in enumerate(cities):\n",
    "    \n",
    "    if (j % 50 == 0 and j >= 50):\n",
    "        set_number = set_number + 1\n",
    "        i = 0\n",
    "    print(f\"Processing Record {i} of Set {set_number} | {city}\")\n",
    "    i=i+1\n",
    "   \n",
    "    response = requests.get(query_url + city).json()\n",
    "    \n",
    "    # Add a one second interval between queries to stay within API query limits\n",
    "    time.sleep(1)\n",
    "    \n",
    "    try:\n",
    "        lat = response['coord']['lat']\n",
    "        name = response['name']\n",
    "        cloudiness = response['clouds']['all']\n",
    "        country = response['sys']['country']\n",
    "        date = response['dt']\n",
    "        humidity = response['main']['humidity']\n",
    "        lngs = response['coord']['lon']\n",
    "        max_temp = response['main']['temp_max']\n",
    "        wind_speed = response['wind']['speed']\n",
    "        city_info.append({\"City\": name,\n",
    "                          \"Cloudiness\": cloudiness,\n",
    "                          \"Country\": country,\n",
    "                          \"Date\": date,\n",
    "                          \"Humidity\": humidity,\n",
    "                          \"Lat\": lat,\n",
    "                          \"Lng\": lngs,\n",
    "                          \"Max Temp\": max_temp,\n",
    "                          \"Wind Speed\": wind_speed})\n",
    "    except:\n",
    "        print(\"City \" + color.BOLD + \"not \" + color.END + \"found. Skipping...\")\n",
    "        pass\n",
    "\n",
    "print(\"------------------------\")\n",
    "print(\"Data Retrieval Complete\")\n",
    "print(\"------------------------\")"
   ]
  },
  {
   "cell_type": "code",
   "execution_count": 5,
   "metadata": {},
   "outputs": [
    {
     "data": {
      "text/html": [
       "<div>\n",
       "<style scoped>\n",
       "    .dataframe tbody tr th:only-of-type {\n",
       "        vertical-align: middle;\n",
       "    }\n",
       "\n",
       "    .dataframe tbody tr th {\n",
       "        vertical-align: top;\n",
       "    }\n",
       "\n",
       "    .dataframe thead th {\n",
       "        text-align: right;\n",
       "    }\n",
       "</style>\n",
       "<table border=\"1\" class=\"dataframe\">\n",
       "  <thead>\n",
       "    <tr style=\"text-align: right;\">\n",
       "      <th></th>\n",
       "      <th>City</th>\n",
       "      <th>Cloudiness</th>\n",
       "      <th>Country</th>\n",
       "      <th>Date</th>\n",
       "      <th>Humidity</th>\n",
       "      <th>Lat</th>\n",
       "      <th>Lng</th>\n",
       "      <th>Max Temp</th>\n",
       "      <th>Wind Speed</th>\n",
       "    </tr>\n",
       "  </thead>\n",
       "  <tbody>\n",
       "    <tr>\n",
       "      <td>0</td>\n",
       "      <td>Port-Gentil</td>\n",
       "      <td>20</td>\n",
       "      <td>GA</td>\n",
       "      <td>1579704471</td>\n",
       "      <td>70</td>\n",
       "      <td>-0.72</td>\n",
       "      <td>8.78</td>\n",
       "      <td>89.60</td>\n",
       "      <td>11.41</td>\n",
       "    </tr>\n",
       "    <tr>\n",
       "      <td>1</td>\n",
       "      <td>Omboue</td>\n",
       "      <td>92</td>\n",
       "      <td>GA</td>\n",
       "      <td>1579704472</td>\n",
       "      <td>69</td>\n",
       "      <td>-1.57</td>\n",
       "      <td>9.26</td>\n",
       "      <td>87.40</td>\n",
       "      <td>3.89</td>\n",
       "    </tr>\n",
       "    <tr>\n",
       "      <td>2</td>\n",
       "      <td>Anloga</td>\n",
       "      <td>20</td>\n",
       "      <td>GH</td>\n",
       "      <td>1579704473</td>\n",
       "      <td>59</td>\n",
       "      <td>5.79</td>\n",
       "      <td>0.90</td>\n",
       "      <td>91.40</td>\n",
       "      <td>6.93</td>\n",
       "    </tr>\n",
       "    <tr>\n",
       "      <td>3</td>\n",
       "      <td>Jamestown</td>\n",
       "      <td>1</td>\n",
       "      <td>US</td>\n",
       "      <td>1579704317</td>\n",
       "      <td>78</td>\n",
       "      <td>42.10</td>\n",
       "      <td>-79.24</td>\n",
       "      <td>24.01</td>\n",
       "      <td>9.17</td>\n",
       "    </tr>\n",
       "    <tr>\n",
       "      <td>4</td>\n",
       "      <td>Mumford</td>\n",
       "      <td>67</td>\n",
       "      <td>GH</td>\n",
       "      <td>1579704476</td>\n",
       "      <td>36</td>\n",
       "      <td>5.26</td>\n",
       "      <td>-0.76</td>\n",
       "      <td>95.85</td>\n",
       "      <td>11.41</td>\n",
       "    </tr>\n",
       "    <tr>\n",
       "      <td>5</td>\n",
       "      <td>Takoradze</td>\n",
       "      <td>67</td>\n",
       "      <td>GH</td>\n",
       "      <td>1579704477</td>\n",
       "      <td>45</td>\n",
       "      <td>4.88</td>\n",
       "      <td>-1.76</td>\n",
       "      <td>92.57</td>\n",
       "      <td>8.48</td>\n",
       "    </tr>\n",
       "    <tr>\n",
       "      <td>6</td>\n",
       "      <td>Gamba</td>\n",
       "      <td>88</td>\n",
       "      <td>GA</td>\n",
       "      <td>1579704478</td>\n",
       "      <td>72</td>\n",
       "      <td>-2.65</td>\n",
       "      <td>10.00</td>\n",
       "      <td>85.55</td>\n",
       "      <td>9.13</td>\n",
       "    </tr>\n",
       "    <tr>\n",
       "      <td>7</td>\n",
       "      <td>Winneba</td>\n",
       "      <td>46</td>\n",
       "      <td>GH</td>\n",
       "      <td>1579704479</td>\n",
       "      <td>59</td>\n",
       "      <td>5.35</td>\n",
       "      <td>-0.62</td>\n",
       "      <td>89.60</td>\n",
       "      <td>10.29</td>\n",
       "    </tr>\n",
       "  </tbody>\n",
       "</table>\n",
       "</div>"
      ],
      "text/plain": [
       "          City  Cloudiness Country        Date  Humidity    Lat    Lng  \\\n",
       "0  Port-Gentil          20      GA  1579704471        70  -0.72   8.78   \n",
       "1       Omboue          92      GA  1579704472        69  -1.57   9.26   \n",
       "2       Anloga          20      GH  1579704473        59   5.79   0.90   \n",
       "3    Jamestown           1      US  1579704317        78  42.10 -79.24   \n",
       "4      Mumford          67      GH  1579704476        36   5.26  -0.76   \n",
       "5    Takoradze          67      GH  1579704477        45   4.88  -1.76   \n",
       "6        Gamba          88      GA  1579704478        72  -2.65  10.00   \n",
       "7      Winneba          46      GH  1579704479        59   5.35  -0.62   \n",
       "\n",
       "   Max Temp  Wind Speed  \n",
       "0     89.60       11.41  \n",
       "1     87.40        3.89  \n",
       "2     91.40        6.93  \n",
       "3     24.01        9.17  \n",
       "4     95.85       11.41  \n",
       "5     92.57        8.48  \n",
       "6     85.55        9.13  \n",
       "7     89.60       10.29  "
      ]
     },
     "execution_count": 5,
     "metadata": {},
     "output_type": "execute_result"
    }
   ],
   "source": [
    "#export the city data into a csv\n",
    "#display the dataframe\n",
    "\n",
    "city_df = pd.DataFrame(city_info)\n",
    "\n",
    "city_df.to_csv('cities.csv', encoding=\"utf-8\", index_label=\"City_ID\")\n",
    "\n",
    "city_df"
   ]
  },
  {
   "cell_type": "code",
   "execution_count": 6,
   "metadata": {},
   "outputs": [
    {
     "data": {
      "image/png": "[encoded data removed]",
      "text/plain": [
       "<Figure size 432x288 with 1 Axes>"
      ]
     },
     "metadata": {
      "needs_background": "light"
     },
     "output_type": "display_data"
    }
   ],
   "source": [
    "#plot latitude v temperature\n",
    "x_values = city_df[\"Lat\"]\n",
    "y_values = city_df[\"Max Temp\"]\n",
    "plt.scatter(x_values, y_values, edgecolors=\"black\")\n",
    "plt.title(\"City Latitude vs Max Temperature (1/21/20)\")\n",
    "plt.xlabel(\"Latitude\")\n",
    "plt.ylabel(\"Max Temperature (F)\")\n",
    "plt.grid()\n",
    "\n",
    "\n",
    "#save scatter plot to Images Folder\n",
    "plt.savefig(os.path.join(\"Images\",\"Temp_v_Latitude.png\"))\n",
    "\n",
    "#for reference on setting limits:\n",
    "#plt.xlim(-50, 35)\n",
    "#plt.ylim(20, 100)"
   ]
  },
  {
   "cell_type": "markdown",
   "metadata": {},
   "source": [
    "**CODE:**  This code is utilizing www.openweathermap.org to gather data on cities around the globe.  We specifically called for info on city name, latitudes, longitudes, cloudiness, humidity, wind speed, country and date.  For the above scatter plot, we looked at max temperature versus the city latitude.\n",
    "\n",
    "**ANALYSIS:**  For testing purposes, we're looking at a small cluster, so it makes sense that the scatter plot is focused. "
   ]
  },
  {
   "cell_type": "code",
   "execution_count": 7,
   "metadata": {},
   "outputs": [
    {
     "data": {
      "image/png": "[encoded data removed]",
      "text/plain": [
       "<Figure size 432x288 with 1 Axes>"
      ]
     },
     "metadata": {
      "needs_background": "light"
     },
     "output_type": "display_data"
    }
   ],
   "source": [
    "#plot latitude v humidity\n",
    "x_values = city_df[\"Lat\"]\n",
    "y_values = city_df[\"Humidity\"]\n",
    "plt.scatter(x_values, y_values, edgecolors=\"black\")\n",
    "plt.title(\"City Latitude vs Humidity (DATE!)\")\n",
    "plt.xlabel(\"Latitude\")\n",
    "plt.ylabel(\"Humidity (%)\")\n",
    "plt.grid()\n",
    "\n",
    "\n",
    "#save scatter plot to Images Folder\n",
    "plt.savefig(os.path.join(\"Images\",\"Humidity_v_Latitude.png\"))"
   ]
  },
  {
   "cell_type": "markdown",
   "metadata": {},
   "source": [
    "**CODE:**  For the above scatter plot, we looked at humidity relative to city latitude.\n",
    "\n",
    "**ANALYSIS:**  For testing purposes, we're looking at a small cluster, so it makes sense that the scatter plot is focused. "
   ]
  },
  {
   "cell_type": "code",
   "execution_count": 8,
   "metadata": {},
   "outputs": [
    {
     "data": {
      "image/png": "[encoded data removed]",
      "text/plain": [
       "<Figure size 432x288 with 1 Axes>"
      ]
     },
     "metadata": {
      "needs_background": "light"
     },
     "output_type": "display_data"
    }
   ],
   "source": [
    "#plot latitude v cloudiness\n",
    "x_values = city_df[\"Lat\"]\n",
    "y_values = city_df[\"Cloudiness\"]\n",
    "plt.scatter(x_values, y_values, edgecolors=\"black\")\n",
    "plt.title(\"City Latitude vs Cloudiness (DATE!)\")\n",
    "plt.xlabel(\"Latitude\")\n",
    "plt.ylabel(\"Cloudiness (%)\")\n",
    "plt.grid()\n",
    "\n",
    "\n",
    "#save scatter plot to Images Folder\n",
    "plt.savefig(os.path.join(\"Images\",\"Cloudiness_v_Latitude.png\"))"
   ]
  },
  {
   "cell_type": "markdown",
   "metadata": {},
   "source": [
    "**CODE:**  For the above scatter plot, we looked at cloudiness versus the city latitude.\n",
    "\n",
    "**ANALYSIS:**  For testing purposes, we're looking at a small cluster, so it makes sense that the scatter plot is focused. "
   ]
  },
  {
   "cell_type": "code",
   "execution_count": 9,
   "metadata": {},
   "outputs": [
    {
     "data": {
      "image/png": "[encoded data removed]",
      "text/plain": [
       "<Figure size 432x288 with 1 Axes>"
      ]
     },
     "metadata": {
      "needs_background": "light"
     },
     "output_type": "display_data"
    }
   ],
   "source": [
    "#plot latitude v wind speed\n",
    "x_values = city_df[\"Lat\"]\n",
    "y_values = city_df[\"Wind Speed\"]\n",
    "plt.scatter(x_values, y_values, edgecolors=\"black\")\n",
    "plt.title(\"City Latitude vs Wind Speed (DATE)\")\n",
    "plt.xlabel(\"Latitude\")\n",
    "plt.ylabel(\"Wind Speed (mph)\")\n",
    "plt.grid()\n",
    "\n",
    "\n",
    "#save scatter plot to Images Folder\n",
    "plt.savefig(os.path.join(\"Images\",\"Wind_Speed_v_Latitude.png\"))"
   ]
  },
  {
   "cell_type": "markdown",
   "metadata": {},
   "source": [
    "**CODE:**  For the above scatter plot, we looked at wind speed versus the city latitude.\n",
    "\n",
    "**ANALYSIS:**  For testing purposes, we're looking at a small cluster, so it makes sense that the scatter plot is focused. "
   ]
  },
  {
   "cell_type": "code",
   "execution_count": 10,
   "metadata": {},
   "outputs": [],
   "source": [
    "#run linear regressions on the above relationships, by hemisphere\n",
    "#max temp (F) v latitude\n",
    "#humidity (%) v latitude\n",
    "#cloudiness (%) v latitude\n",
    "#wind speed (mph) v latitude"
   ]
  },
  {
   "cell_type": "code",
   "execution_count": 45,
   "metadata": {},
   "outputs": [
    {
     "data": {
      "text/html": [
       "<div>\n",
       "<style scoped>\n",
       "    .dataframe tbody tr th:only-of-type {\n",
       "        vertical-align: middle;\n",
       "    }\n",
       "\n",
       "    .dataframe tbody tr th {\n",
       "        vertical-align: top;\n",
       "    }\n",
       "\n",
       "    .dataframe thead th {\n",
       "        text-align: right;\n",
       "    }\n",
       "</style>\n",
       "<table border=\"1\" class=\"dataframe\">\n",
       "  <thead>\n",
       "    <tr style=\"text-align: right;\">\n",
       "      <th></th>\n",
       "      <th>City</th>\n",
       "      <th>Cloudiness</th>\n",
       "      <th>Country</th>\n",
       "      <th>Date</th>\n",
       "      <th>Humidity</th>\n",
       "      <th>Lat</th>\n",
       "      <th>Lng</th>\n",
       "      <th>Max Temp</th>\n",
       "      <th>Wind Speed</th>\n",
       "    </tr>\n",
       "  </thead>\n",
       "  <tbody>\n",
       "    <tr>\n",
       "      <td>0</td>\n",
       "      <td>Anloga</td>\n",
       "      <td>20</td>\n",
       "      <td>GH</td>\n",
       "      <td>1579704473</td>\n",
       "      <td>59</td>\n",
       "      <td>5.79</td>\n",
       "      <td>0.90</td>\n",
       "      <td>91.40</td>\n",
       "      <td>6.93</td>\n",
       "    </tr>\n",
       "    <tr>\n",
       "      <td>1</td>\n",
       "      <td>Jamestown</td>\n",
       "      <td>1</td>\n",
       "      <td>US</td>\n",
       "      <td>1579704317</td>\n",
       "      <td>78</td>\n",
       "      <td>42.10</td>\n",
       "      <td>-79.24</td>\n",
       "      <td>24.01</td>\n",
       "      <td>9.17</td>\n",
       "    </tr>\n",
       "    <tr>\n",
       "      <td>2</td>\n",
       "      <td>Mumford</td>\n",
       "      <td>67</td>\n",
       "      <td>GH</td>\n",
       "      <td>1579704476</td>\n",
       "      <td>36</td>\n",
       "      <td>5.26</td>\n",
       "      <td>-0.76</td>\n",
       "      <td>95.85</td>\n",
       "      <td>11.41</td>\n",
       "    </tr>\n",
       "    <tr>\n",
       "      <td>3</td>\n",
       "      <td>Takoradze</td>\n",
       "      <td>67</td>\n",
       "      <td>GH</td>\n",
       "      <td>1579704477</td>\n",
       "      <td>45</td>\n",
       "      <td>4.88</td>\n",
       "      <td>-1.76</td>\n",
       "      <td>92.57</td>\n",
       "      <td>8.48</td>\n",
       "    </tr>\n",
       "    <tr>\n",
       "      <td>4</td>\n",
       "      <td>Winneba</td>\n",
       "      <td>46</td>\n",
       "      <td>GH</td>\n",
       "      <td>1579704479</td>\n",
       "      <td>59</td>\n",
       "      <td>5.35</td>\n",
       "      <td>-0.62</td>\n",
       "      <td>89.60</td>\n",
       "      <td>10.29</td>\n",
       "    </tr>\n",
       "  </tbody>\n",
       "</table>\n",
       "</div>"
      ],
      "text/plain": [
       "        City  Cloudiness Country        Date  Humidity    Lat    Lng  \\\n",
       "0     Anloga          20      GH  1579704473        59   5.79   0.90   \n",
       "1  Jamestown           1      US  1579704317        78  42.10 -79.24   \n",
       "2    Mumford          67      GH  1579704476        36   5.26  -0.76   \n",
       "3  Takoradze          67      GH  1579704477        45   4.88  -1.76   \n",
       "4    Winneba          46      GH  1579704479        59   5.35  -0.62   \n",
       "\n",
       "   Max Temp  Wind Speed  \n",
       "0     91.40        6.93  \n",
       "1     24.01        9.17  \n",
       "2     95.85       11.41  \n",
       "3     92.57        8.48  \n",
       "4     89.60       10.29  "
      ]
     },
     "execution_count": 45,
     "metadata": {},
     "output_type": "execute_result"
    }
   ],
   "source": [
    "#create northern hemisphere dataframe\n",
    "\n",
    "#logic test/conditional statement returns a series of boolean values; make sure on the right track\n",
    "northern_hem = city_df[\"Lat\"] >= 0\n",
    "\n",
    "#locate where the 'Lat' values are >= 0; reset index for cleaner formatting\n",
    "northern_df = city_df.loc[city_df[\"Lat\"] >= 0, :].reset_index()\n",
    "\n",
    "#get rid of newly created 'index' column resulting from above code\n",
    "northern_df = northern_df[[\"City\", \"Cloudiness\", \"Country\", \"Date\", \"Humidity\", \"Lat\", \"Lng\", \"Max Temp\", \"Wind Speed\"]]\n",
    "northern_df"
   ]
  },
  {
   "cell_type": "code",
   "execution_count": 46,
   "metadata": {},
   "outputs": [
    {
     "data": {
      "text/html": [
       "<div>\n",
       "<style scoped>\n",
       "    .dataframe tbody tr th:only-of-type {\n",
       "        vertical-align: middle;\n",
       "    }\n",
       "\n",
       "    .dataframe tbody tr th {\n",
       "        vertical-align: top;\n",
       "    }\n",
       "\n",
       "    .dataframe thead th {\n",
       "        text-align: right;\n",
       "    }\n",
       "</style>\n",
       "<table border=\"1\" class=\"dataframe\">\n",
       "  <thead>\n",
       "    <tr style=\"text-align: right;\">\n",
       "      <th></th>\n",
       "      <th>City</th>\n",
       "      <th>Cloudiness</th>\n",
       "      <th>Country</th>\n",
       "      <th>Date</th>\n",
       "      <th>Humidity</th>\n",
       "      <th>Lat</th>\n",
       "      <th>Lng</th>\n",
       "      <th>Max Temp</th>\n",
       "      <th>Wind Speed</th>\n",
       "    </tr>\n",
       "  </thead>\n",
       "  <tbody>\n",
       "    <tr>\n",
       "      <td>0</td>\n",
       "      <td>Port-Gentil</td>\n",
       "      <td>20</td>\n",
       "      <td>GA</td>\n",
       "      <td>1579704471</td>\n",
       "      <td>70</td>\n",
       "      <td>-0.72</td>\n",
       "      <td>8.78</td>\n",
       "      <td>89.60</td>\n",
       "      <td>11.41</td>\n",
       "    </tr>\n",
       "    <tr>\n",
       "      <td>1</td>\n",
       "      <td>Omboue</td>\n",
       "      <td>92</td>\n",
       "      <td>GA</td>\n",
       "      <td>1579704472</td>\n",
       "      <td>69</td>\n",
       "      <td>-1.57</td>\n",
       "      <td>9.26</td>\n",
       "      <td>87.40</td>\n",
       "      <td>3.89</td>\n",
       "    </tr>\n",
       "    <tr>\n",
       "      <td>2</td>\n",
       "      <td>Gamba</td>\n",
       "      <td>88</td>\n",
       "      <td>GA</td>\n",
       "      <td>1579704478</td>\n",
       "      <td>72</td>\n",
       "      <td>-2.65</td>\n",
       "      <td>10.00</td>\n",
       "      <td>85.55</td>\n",
       "      <td>9.13</td>\n",
       "    </tr>\n",
       "  </tbody>\n",
       "</table>\n",
       "</div>"
      ],
      "text/plain": [
       "          City  Cloudiness Country        Date  Humidity   Lat    Lng  \\\n",
       "0  Port-Gentil          20      GA  1579704471        70 -0.72   8.78   \n",
       "1       Omboue          92      GA  1579704472        69 -1.57   9.26   \n",
       "2        Gamba          88      GA  1579704478        72 -2.65  10.00   \n",
       "\n",
       "   Max Temp  Wind Speed  \n",
       "0     89.60       11.41  \n",
       "1     87.40        3.89  \n",
       "2     85.55        9.13  "
      ]
     },
     "execution_count": 46,
     "metadata": {},
     "output_type": "execute_result"
    }
   ],
   "source": [
    "#create southern hemisphere dataframe\n",
    "\n",
    "#logic test for my own knowledge; not necessarily needed to create the dataframe\n",
    "southern_hem = city_df[\"Lat\"] < 0\n",
    "\n",
    "#create southern hemisphere dataframe\n",
    "southern_df = city_df.loc[city_df[\"Lat\"] < 0, :].reset_index()\n",
    "southern_df = southern_df[[\"City\", \"Cloudiness\", \"Country\", \"Date\", \"Humidity\", \"Lat\", \"Lng\", \"Max Temp\", \"Wind Speed\"]]\n",
    "southern_df"
   ]
  },
  {
   "cell_type": "code",
   "execution_count": 64,
   "metadata": {},
   "outputs": [
    {
     "data": {
      "text/plain": [
       "Text(0, 0.5, 'Max Temperature')"
      ]
     },
     "execution_count": 64,
     "metadata": {},
     "output_type": "execute_result"
    },
    {
     "data": {
      "image/png": "[encoded data removed]",
      "text/plain": [
       "<Figure size 432x288 with 1 Axes>"
      ]
     },
     "metadata": {
      "needs_background": "light"
     },
     "output_type": "display_data"
    }
   ],
   "source": [
    "#run linear regression on max temp v latitude (northern hemisphere)\n",
    "\n",
    "#first create scatter plot\n",
    "x_values = northern_df[\"Lat\"]\n",
    "y_values = northern_df[\"Max Temp\"]\n",
    "plt.scatter(x_values, y_values, edgecolors=\"black\")\n",
    "plt.xlabel(\"Latitude\")\n",
    "plt.ylabel(\"Max Temperature\")"
   ]
  },
  {
   "cell_type": "code",
   "execution_count": 65,
   "metadata": {},
   "outputs": [
    {
     "name": "stdout",
     "output_type": "stream",
     "text": [
      "0    91.482005\n",
      "1    24.008445\n",
      "2    92.466885\n",
      "3    93.173025\n",
      "4    92.299641\n",
      "Name: Lat, dtype: float64\n"
     ]
    }
   ],
   "source": [
    "#perform a linear regression on temp v lat\n",
    "(slope, intercept, rvalue, pvalue, stderr) = stats.linregress(x_values, y_values)\n",
    "\n",
    "#get regression values\n",
    "regress_values = x_values * slope + intercept\n",
    "print(regress_values)"
   ]
  },
  {
   "cell_type": "code",
   "execution_count": 66,
   "metadata": {},
   "outputs": [
    {
     "name": "stdout",
     "output_type": "stream",
     "text": [
      "y = -1.86x +102.24\n"
     ]
    }
   ],
   "source": [
    "#create line equation string\n",
    "line_eq = \"y = \" + str(round(slope,2)) + \"x +\" + str(round(intercept,2))\n",
    "print(line_eq)"
   ]
  },
  {
   "cell_type": "code",
   "execution_count": 67,
   "metadata": {},
   "outputs": [
    {
     "name": "stdout",
     "output_type": "stream",
     "text": [
      "The r-squared is: -0.9974547226996701\n"
     ]
    },
    {
     "data": {
      "image/png": "[encoded data removed]",
      "text/plain": [
       "<Figure size 432x288 with 1 Axes>"
      ]
     },
     "metadata": {
      "needs_background": "light"
     },
     "output_type": "display_data"
    },
    {
     "data": {
      "text/plain": [
       "<Figure size 432x288 with 0 Axes>"
      ]
     },
     "metadata": {},
     "output_type": "display_data"
    }
   ],
   "source": [
    "#create plot\n",
    "plt.scatter(x_values,y_values)\n",
    "plt.plot(x_values,regress_values,\"r-\")\n",
    "\n",
    "#label plot and annotate the line equation\n",
    "plt.xlabel('Latitude')\n",
    "plt.ylabel('Max Temp')\n",
    "plt.annotate(line_eq,(8,25),fontsize=15,color=\"red\")\n",
    "\n",
    "# Print r square value\n",
    "print(f\"The r-squared is: {rvalue}\")\n",
    "\n",
    "# Show plot\n",
    "plt.show()\n",
    "\n",
    "#save plot to images folder\n",
    "plt.savefig(os.path.join(\"Images\",\"Northern_Temp_v_Latitude.png\"))"
   ]
  },
  {
   "cell_type": "markdown",
   "metadata": {},
   "source": [
    "**ANALYSIS:** There appears to be an outlier; it shouldn't be in the data I don't think.  The rest are clustered appropriately."
   ]
  },
  {
   "cell_type": "code",
   "execution_count": 68,
   "metadata": {},
   "outputs": [
    {
     "data": {
      "text/plain": [
       "Text(0, 0.5, 'Max Temperature')"
      ]
     },
     "execution_count": 68,
     "metadata": {},
     "output_type": "execute_result"
    },
    {
     "data": {
      "image/png": "[encoded data removed]",
      "text/plain": [
       "<Figure size 432x288 with 1 Axes>"
      ]
     },
     "metadata": {
      "needs_background": "light"
     },
     "output_type": "display_data"
    }
   ],
   "source": [
    "#run linear regression on max temp v lat (southern hemisphere)\n",
    "\n",
    "#create scatter plot\n",
    "x_values = southern_df[\"Lat\"]\n",
    "y_values = southern_df[\"Max Temp\"]\n",
    "plt.scatter(x_values, y_values, edgecolors=\"black\")\n",
    "plt.xlabel(\"Latitude\")\n",
    "plt.ylabel(\"Max Temperature\")"
   ]
  },
  {
   "cell_type": "code",
   "execution_count": 69,
   "metadata": {},
   "outputs": [
    {
     "name": "stdout",
     "output_type": "stream",
     "text": [
      "0    89.44542\n",
      "1    87.67624\n",
      "2    85.42834\n",
      "Name: Lat, dtype: float64\n"
     ]
    }
   ],
   "source": [
    "#perform a linear regression on temp v lat\n",
    "(slope, intercept, rvalue, pvalue, stderr) = stats.linregress(x_values, y_values)\n",
    "\n",
    "#get regression values\n",
    "regress_values = x_values * slope + intercept\n",
    "print(regress_values)"
   ]
  },
  {
   "cell_type": "code",
   "execution_count": 70,
   "metadata": {},
   "outputs": [
    {
     "name": "stdout",
     "output_type": "stream",
     "text": [
      "y = 2.08x +90.94\n"
     ]
    }
   ],
   "source": [
    "#create line equation string\n",
    "line_eq = \"y = \" + str(round(slope,2)) + \"x +\" + str(round(intercept,2))\n",
    "print(line_eq)"
   ]
  },
  {
   "cell_type": "code",
   "execution_count": 71,
   "metadata": {},
   "outputs": [
    {
     "name": "stdout",
     "output_type": "stream",
     "text": [
      "The r-squared is: 0.9929813801601053\n"
     ]
    },
    {
     "data": {
      "image/png": "[encoded data removed]",
      "text/plain": [
       "<Figure size 432x288 with 1 Axes>"
      ]
     },
     "metadata": {
      "needs_background": "light"
     },
     "output_type": "display_data"
    },
    {
     "data": {
      "text/plain": [
       "<Figure size 432x288 with 0 Axes>"
      ]
     },
     "metadata": {},
     "output_type": "display_data"
    }
   ],
   "source": [
    "#create plot\n",
    "plt.scatter(x_values,y_values)\n",
    "plt.plot(x_values,regress_values,\"r-\")\n",
    "\n",
    "#label plot and annotate the line equation\n",
    "plt.xlabel('Latitude')\n",
    "plt.ylabel('Max Temp')\n",
    "plt.annotate(line_eq,(8,25),fontsize=15,color=\"red\")\n",
    "\n",
    "# Print r square value\n",
    "print(f\"The r-squared is: {rvalue}\")\n",
    "\n",
    "# Show plot\n",
    "plt.show()\n",
    "\n",
    "#save scatter plot to Images Folder\n",
    "plt.savefig(os.path.join(\"Images\",\"Southern_Temp_v_Latitude.png\"))"
   ]
  },
  {
   "cell_type": "markdown",
   "metadata": {},
   "source": [
    "**ANALYSIS:** This graph appears to be small due to the small data set.  I ran everything with the full range of lats and longs, and the graph appeared 'normal.\""
   ]
  },
  {
   "cell_type": "code",
   "execution_count": 72,
   "metadata": {},
   "outputs": [
    {
     "data": {
      "text/plain": [
       "Text(0, 0.5, 'Humidity')"
      ]
     },
     "execution_count": 72,
     "metadata": {},
     "output_type": "execute_result"
    },
    {
     "data": {
      "image/png": "[encoded data removed]",
      "text/plain": [
       "<Figure size 432x288 with 1 Axes>"
      ]
     },
     "metadata": {
      "needs_background": "light"
     },
     "output_type": "display_data"
    }
   ],
   "source": [
    "#run linear regression on humidity v lat (northern hemisphere)\n",
    "\n",
    "#create scatter plot\n",
    "x_values = northern_df[\"Lat\"]\n",
    "y_values = northern_df[\"Humidity\"]\n",
    "plt.scatter(x_values, y_values, edgecolors=\"black\")\n",
    "plt.xlabel(\"Latitude\")\n",
    "plt.ylabel(\"Humidity\")"
   ]
  },
  {
   "cell_type": "code",
   "execution_count": 73,
   "metadata": {},
   "outputs": [
    {
     "name": "stdout",
     "output_type": "stream",
     "text": [
      "0    50.065087\n",
      "1    78.196177\n",
      "2    49.654471\n",
      "3    49.360067\n",
      "4    49.724198\n",
      "Name: Lat, dtype: float64\n"
     ]
    }
   ],
   "source": [
    "#perform a linear regression on humidity v lat\n",
    "(slope, intercept, rvalue, pvalue, stderr) = stats.linregress(x_values, y_values)\n",
    "\n",
    "#get regression values\n",
    "regress_values = x_values * slope + intercept\n",
    "print(regress_values)"
   ]
  },
  {
   "cell_type": "code",
   "execution_count": 74,
   "metadata": {},
   "outputs": [
    {
     "name": "stdout",
     "output_type": "stream",
     "text": [
      "y = 0.77x +45.58\n"
     ]
    }
   ],
   "source": [
    "#create line equation string\n",
    "line_eq = \"y = \" + str(round(slope,2)) + \"x +\" + str(round(intercept,2))\n",
    "print(line_eq)"
   ]
  },
  {
   "cell_type": "code",
   "execution_count": 75,
   "metadata": {},
   "outputs": [
    {
     "name": "stdout",
     "output_type": "stream",
     "text": [
      "The r-squared is: 0.7977111737698639\n"
     ]
    },
    {
     "data": {
      "image/png": "[encoded data removed]",
      "text/plain": [
       "<Figure size 432x288 with 1 Axes>"
      ]
     },
     "metadata": {
      "needs_background": "light"
     },
     "output_type": "display_data"
    },
    {
     "data": {
      "text/plain": [
       "<Figure size 432x288 with 0 Axes>"
      ]
     },
     "metadata": {},
     "output_type": "display_data"
    }
   ],
   "source": [
    "#create Plot\n",
    "plt.scatter(x_values,y_values)\n",
    "plt.plot(x_values,regress_values,\"r-\")\n",
    "\n",
    "#label plot and annotate the line equation\n",
    "plt.xlabel('Latitude')\n",
    "plt.ylabel('Humidity')\n",
    "plt.annotate(line_eq,(20,40),fontsize=15,color=\"red\")\n",
    "\n",
    "# Print r square value\n",
    "print(f\"The r-squared is: {rvalue}\")\n",
    "\n",
    "# Show plot\n",
    "plt.show()\n",
    "\n",
    "#save plot to images folder\n",
    "plt.savefig(os.path.join(\"Images\",\"Northern_Humidity_v_Latitude.png\"))"
   ]
  },
  {
   "cell_type": "markdown",
   "metadata": {},
   "source": [
    "**ANALYSIS:**  Again we have that outlier.  A spread of temps, concentrated latitudes."
   ]
  },
  {
   "cell_type": "code",
   "execution_count": 76,
   "metadata": {},
   "outputs": [
    {
     "data": {
      "text/plain": [
       "Text(0, 0.5, 'Humidity')"
      ]
     },
     "execution_count": 76,
     "metadata": {},
     "output_type": "execute_result"
    },
    {
     "data": {
      "image/png": "[encoded data removed]",
      "text/plain": [
       "<Figure size 432x288 with 1 Axes>"
      ]
     },
     "metadata": {
      "needs_background": "light"
     },
     "output_type": "display_data"
    }
   ],
   "source": [
    "#plot linear regression on humidity v lat (southern hemisphere)\n",
    "\n",
    "#create scatter plot\n",
    "x_values = southern_df[\"Lat\"]\n",
    "y_values = southern_df[\"Humidity\"]\n",
    "plt.scatter(x_values, y_values, edgecolors=\"black\")\n",
    "plt.xlabel(\"Latitude\")\n",
    "plt.ylabel(\"Humidity\")"
   ]
  },
  {
   "cell_type": "code",
   "execution_count": 77,
   "metadata": {},
   "outputs": [
    {
     "name": "stdout",
     "output_type": "stream",
     "text": [
      "0    69.301650\n",
      "1    70.247978\n",
      "2    71.450372\n",
      "Name: Lat, dtype: float64\n"
     ]
    }
   ],
   "source": [
    "#perform a linear regression on humidity vs. latitude\n",
    "(slope, intercept, rvalue, pvalue, stderr) = stats.linregress(x_values, y_values)\n",
    "\n",
    "#get regression values\n",
    "regress_values = x_values * slope + intercept\n",
    "print(regress_values)"
   ]
  },
  {
   "cell_type": "code",
   "execution_count": 78,
   "metadata": {},
   "outputs": [
    {
     "name": "stdout",
     "output_type": "stream",
     "text": [
      "y = -1.11x +68.5\n"
     ]
    }
   ],
   "source": [
    "#create line equation string\n",
    "line_eq = \"y = \" + str(round(slope,2)) + \"x +\" + str(round(intercept,2))\n",
    "print(line_eq)"
   ]
  },
  {
   "cell_type": "code",
   "execution_count": 79,
   "metadata": {},
   "outputs": [
    {
     "name": "stdout",
     "output_type": "stream",
     "text": [
      "The r-squared is: -0.7049974260985756\n"
     ]
    },
    {
     "data": {
      "image/png": "[encoded data removed]",
      "text/plain": [
       "<Figure size 432x288 with 1 Axes>"
      ]
     },
     "metadata": {
      "needs_background": "light"
     },
     "output_type": "display_data"
    },
    {
     "data": {
      "text/plain": [
       "<Figure size 432x288 with 0 Axes>"
      ]
     },
     "metadata": {},
     "output_type": "display_data"
    }
   ],
   "source": [
    "#create plot\n",
    "plt.scatter(x_values,y_values)\n",
    "plt.plot(x_values,regress_values,\"r-\")\n",
    "\n",
    "#label plot and annotate the line equation\n",
    "plt.xlabel('Latitude')\n",
    "plt.ylabel('Humidity')\n",
    "plt.annotate(line_eq,(20,40),fontsize=15,color=\"red\")\n",
    "\n",
    "# Print r square value\n",
    "print(f\"The r-squared is: {rvalue}\")\n",
    "\n",
    "# Show plot\n",
    "plt.show()\n",
    "\n",
    "#save to Images Folder\n",
    "plt.savefig(os.path.join(\"Images\",\"Southern_Humidity_v_Latitude.png\"))"
   ]
  },
  {
   "cell_type": "markdown",
   "metadata": {},
   "source": [
    "**ANALYSIS:**  Again, our graph comes up very small.  Will want to do another check after I create the rest!"
   ]
  },
  {
   "cell_type": "code",
   "execution_count": 80,
   "metadata": {},
   "outputs": [
    {
     "data": {
      "text/plain": [
       "Text(0, 0.5, 'Cloudiness')"
      ]
     },
     "execution_count": 80,
     "metadata": {},
     "output_type": "execute_result"
    },
    {
     "data": {
      "image/png": "[encoded data removed]",
      "text/plain": [
       "<Figure size 432x288 with 1 Axes>"
      ]
     },
     "metadata": {
      "needs_background": "light"
     },
     "output_type": "display_data"
    }
   ],
   "source": [
    "#plot cloudiness v lat linear regression (northern hemisphere)\n",
    "\n",
    "x_values = northern_df[\"Lat\"]\n",
    "y_values = northern_df[\"Cloudiness\"]\n",
    "plt.scatter(x_values, y_values, edgecolors=\"black\")\n",
    "plt.xlabel(\"Latitude\")\n",
    "plt.ylabel(\"Cloudiness\")"
   ]
  },
  {
   "cell_type": "code",
   "execution_count": 81,
   "metadata": {},
   "outputs": [
    {
     "name": "stdout",
     "output_type": "stream",
     "text": [
      "0    49.514803\n",
      "1     0.397683\n",
      "2    50.231742\n",
      "3    50.745774\n",
      "4    50.109998\n",
      "Name: Lat, dtype: float64\n"
     ]
    }
   ],
   "source": [
    "#perform a linear regression on humidity vs. latitude\n",
    "(slope, intercept, rvalue, pvalue, stderr) = stats.linregress(x_values, y_values)\n",
    "\n",
    "#get regression values\n",
    "regress_values = x_values * slope + intercept\n",
    "print(regress_values)"
   ]
  },
  {
   "cell_type": "code",
   "execution_count": 82,
   "metadata": {},
   "outputs": [
    {
     "name": "stdout",
     "output_type": "stream",
     "text": [
      "y = -1.35x +57.35\n"
     ]
    }
   ],
   "source": [
    "#create line equation string\n",
    "line_eq = \"y = \" + str(round(slope,2)) + \"x +\" + str(round(intercept,2))\n",
    "print(line_eq)"
   ]
  },
  {
   "cell_type": "code",
   "execution_count": 83,
   "metadata": {},
   "outputs": [
    {
     "name": "stdout",
     "output_type": "stream",
     "text": [
      "The r-squared is: -0.7616663666860908\n"
     ]
    },
    {
     "data": {
      "image/png": "[encoded data removed]",
      "text/plain": [
       "<Figure size 432x288 with 1 Axes>"
      ]
     },
     "metadata": {
      "needs_background": "light"
     },
     "output_type": "display_data"
    },
    {
     "data": {
      "text/plain": [
       "<Figure size 432x288 with 0 Axes>"
      ]
     },
     "metadata": {},
     "output_type": "display_data"
    }
   ],
   "source": [
    "#create Plot\n",
    "plt.scatter(x_values,y_values)\n",
    "plt.plot(x_values,regress_values,\"r-\")\n",
    "\n",
    "#label plot and annotate the line equation\n",
    "plt.xlabel('Latitude')\n",
    "plt.ylabel('Cloudiness')\n",
    "plt.annotate(line_eq,(20,40),fontsize=15,color=\"red\")\n",
    "\n",
    "# Print r square value\n",
    "print(f\"The r-squared is: {rvalue}\")\n",
    "\n",
    "# Show plot\n",
    "plt.show()\n",
    "\n",
    "\n",
    "#save scatter plot to Images Folder\n",
    "plt.savefig(os.path.join(\"Images\",\"Northern_Cloudiness_v_Latitude.png\"))"
   ]
  },
  {
   "cell_type": "markdown",
   "metadata": {},
   "source": [
    "**ANALYSIS:** This graph is normal size!"
   ]
  },
  {
   "cell_type": "code",
   "execution_count": 84,
   "metadata": {},
   "outputs": [
    {
     "data": {
      "text/plain": [
       "Text(0, 0.5, 'Cloudiness')"
      ]
     },
     "execution_count": 84,
     "metadata": {},
     "output_type": "execute_result"
    },
    {
     "data": {
      "image/png": "[encoded data removed]",
      "text/plain": [
       "<Figure size 432x288 with 1 Axes>"
      ]
     },
     "metadata": {
      "needs_background": "light"
     },
     "output_type": "display_data"
    }
   ],
   "source": [
    "#plot cloudiness v lat linear regression (southern hemisphere)\n",
    "\n",
    "x_values = southern_df[\"Lat\"]\n",
    "y_values = southern_df[\"Cloudiness\"]\n",
    "plt.scatter(x_values, y_values, edgecolors=\"black\")\n",
    "plt.xlabel(\"Latitude\")\n",
    "plt.ylabel(\"Cloudiness\")"
   ]
  },
  {
   "cell_type": "code",
   "execution_count": 85,
   "metadata": {},
   "outputs": [
    {
     "name": "stdout",
     "output_type": "stream",
     "text": [
      "0     35.613809\n",
      "1     64.097545\n",
      "2    100.288646\n",
      "Name: Lat, dtype: float64\n"
     ]
    }
   ],
   "source": [
    "#perform a linear regression on cloudiness v lat\n",
    "(slope, intercept, rvalue, pvalue, stderr) = stats.linregress(x_values, y_values)\n",
    "\n",
    "#get regression values\n",
    "regress_values = x_values * slope + intercept\n",
    "print(regress_values)"
   ]
  },
  {
   "cell_type": "code",
   "execution_count": 86,
   "metadata": {},
   "outputs": [
    {
     "name": "stdout",
     "output_type": "stream",
     "text": [
      "y = -33.51x +11.49\n"
     ]
    }
   ],
   "source": [
    "#create line equation string\n",
    "line_eq = \"y = \" + str(round(slope,2)) + \"x +\" + str(round(intercept,2))\n",
    "print(line_eq)"
   ]
  },
  {
   "cell_type": "code",
   "execution_count": 87,
   "metadata": {},
   "outputs": [
    {
     "name": "stdout",
     "output_type": "stream",
     "text": [
      "The r-squared is: -0.801054980729366\n"
     ]
    },
    {
     "data": {
      "image/png": "[encoded data removed]",
      "text/plain": [
       "<Figure size 432x288 with 1 Axes>"
      ]
     },
     "metadata": {
      "needs_background": "light"
     },
     "output_type": "display_data"
    },
    {
     "data": {
      "text/plain": [
       "<Figure size 432x288 with 0 Axes>"
      ]
     },
     "metadata": {},
     "output_type": "display_data"
    }
   ],
   "source": [
    "#create Plot\n",
    "plt.scatter(x_values,y_values)\n",
    "plt.plot(x_values,regress_values,\"r-\")\n",
    "\n",
    "#label plot and annotate the line equation\n",
    "plt.xlabel('Latitude')\n",
    "plt.ylabel('Cloudiness')\n",
    "plt.annotate(line_eq,(20,40),fontsize=15,color=\"red\")\n",
    "\n",
    "# Print r square value\n",
    "print(f\"The r-squared is: {rvalue}\")\n",
    "\n",
    "# Show plot\n",
    "plt.show()\n",
    "\n",
    "#save scatter plot to Images Folder\n",
    "plt.savefig(os.path.join(\"Images\",\"Southern_Cloudiness_v_Latitude.png\"))"
   ]
  },
  {
   "cell_type": "markdown",
   "metadata": {},
   "source": [
    "**ANALYSIS:** Again the graph is very small.  Will need to check by running a larger sample.\n"
   ]
  },
  {
   "cell_type": "code",
   "execution_count": 88,
   "metadata": {},
   "outputs": [
    {
     "data": {
      "text/plain": [
       "Text(0, 0.5, 'Wind Speed')"
      ]
     },
     "execution_count": 88,
     "metadata": {},
     "output_type": "execute_result"
    },
    {
     "data": {
      "image/png": "[encoded data removed]",
      "text/plain": [
       "<Figure size 432x288 with 1 Axes>"
      ]
     },
     "metadata": {
      "needs_background": "light"
     },
     "output_type": "display_data"
    }
   ],
   "source": [
    "#plot wind speed v lat linear regression (northern hemisphere)\n",
    "\n",
    "x_values = northern_df[\"Lat\"]\n",
    "y_values = northern_df[\"Wind Speed\"]\n",
    "plt.scatter(x_values, y_values, edgecolors=\"black\")\n",
    "plt.xlabel(\"Latitude\")\n",
    "plt.ylabel(\"Wind Speed\")"
   ]
  },
  {
   "cell_type": "code",
   "execution_count": 89,
   "metadata": {},
   "outputs": [
    {
     "name": "stdout",
     "output_type": "stream",
     "text": [
      "0    9.281525\n",
      "1    9.146932\n",
      "2    9.283489\n",
      "3    9.284898\n",
      "4    9.283156\n",
      "Name: Lat, dtype: float64\n"
     ]
    }
   ],
   "source": [
    "#perform a linear regression on wind speed v lat\n",
    "(slope, intercept, rvalue, pvalue, stderr) = stats.linregress(x_values, y_values)\n",
    "\n",
    "#get regression values\n",
    "regress_values = x_values * slope + intercept\n",
    "print(regress_values)"
   ]
  },
  {
   "cell_type": "code",
   "execution_count": 90,
   "metadata": {},
   "outputs": [
    {
     "name": "stdout",
     "output_type": "stream",
     "text": [
      "y = -0.0x +9.3\n"
     ]
    }
   ],
   "source": [
    "#create line equation string\n",
    "line_eq = \"y = \" + str(round(slope,2)) + \"x +\" + str(round(intercept,2))\n",
    "print(line_eq)"
   ]
  },
  {
   "cell_type": "code",
   "execution_count": 91,
   "metadata": {},
   "outputs": [
    {
     "name": "stdout",
     "output_type": "stream",
     "text": [
      "The r-squared is: -0.03561326024581664\n"
     ]
    },
    {
     "data": {
      "image/png": "[encoded data removed]",
      "text/plain": [
       "<Figure size 432x288 with 1 Axes>"
      ]
     },
     "metadata": {
      "needs_background": "light"
     },
     "output_type": "display_data"
    },
    {
     "data": {
      "text/plain": [
       "<Figure size 432x288 with 0 Axes>"
      ]
     },
     "metadata": {},
     "output_type": "display_data"
    }
   ],
   "source": [
    "#create Plot\n",
    "plt.scatter(x_values,y_values)\n",
    "plt.plot(x_values,regress_values,\"r-\")\n",
    "\n",
    "#label plot and annotate the line equation\n",
    "plt.xlabel('Latitude')\n",
    "plt.ylabel('Wind Speed')\n",
    "plt.annotate(line_eq,(15,8),fontsize=15,color=\"red\")\n",
    "\n",
    "# Print r square value\n",
    "print(f\"The r-squared is: {rvalue}\")\n",
    "\n",
    "# Show plot\n",
    "plt.show()\n",
    "\n",
    "#save scatter plot to Images Folder\n",
    "plt.savefig(os.path.join(\"Images\",\"Northern_WindSpeed_v_Latitude.png\"))"
   ]
  },
  {
   "cell_type": "markdown",
   "metadata": {},
   "source": [
    "**ANALYSIS:** This graph appears to be normal sized.  The outlier is still there."
   ]
  },
  {
   "cell_type": "code",
   "execution_count": 92,
   "metadata": {},
   "outputs": [
    {
     "data": {
      "text/plain": [
       "Text(0, 0.5, 'Wind Speed')"
      ]
     },
     "execution_count": 92,
     "metadata": {},
     "output_type": "execute_result"
    },
    {
     "data": {
      "image/png": "[encoded data removed]",
      "text/plain": [
       "<Figure size 432x288 with 1 Axes>"
      ]
     },
     "metadata": {
      "needs_background": "light"
     },
     "output_type": "display_data"
    }
   ],
   "source": [
    "#plot wind speed v lat linear regression (southern hemisphere)\n",
    "\n",
    "x_values = southern_df[\"Lat\"]\n",
    "y_values = southern_df[\"Wind Speed\"]\n",
    "plt.scatter(x_values, y_values, edgecolors=\"black\")\n",
    "plt.xlabel(\"Latitude\")\n",
    "plt.ylabel(\"Wind Speed\")"
   ]
  },
  {
   "cell_type": "code",
   "execution_count": 93,
   "metadata": {},
   "outputs": [
    {
     "name": "stdout",
     "output_type": "stream",
     "text": [
      "0    8.990668\n",
      "1    8.213437\n",
      "2    7.225896\n",
      "Name: Lat, dtype: float64\n"
     ]
    }
   ],
   "source": [
    "#perform a linear regression on wind speed v lat\n",
    "(slope, intercept, rvalue, pvalue, stderr) = stats.linregress(x_values, y_values)\n",
    "\n",
    "#get regression values\n",
    "regress_values = x_values * slope + intercept\n",
    "print(regress_values)"
   ]
  },
  {
   "cell_type": "code",
   "execution_count": 94,
   "metadata": {},
   "outputs": [
    {
     "name": "stdout",
     "output_type": "stream",
     "text": [
      "y = 0.91x +9.65\n"
     ]
    }
   ],
   "source": [
    "#create line equation string\n",
    "line_eq = \"y = \" + str(round(slope,2)) + \"x +\" + str(round(intercept,2))\n",
    "print(line_eq)"
   ]
  },
  {
   "cell_type": "code",
   "execution_count": 95,
   "metadata": {},
   "outputs": [
    {
     "name": "stdout",
     "output_type": "stream",
     "text": [
      "The r-squared is: 0.22938325479848592\n"
     ]
    },
    {
     "data": {
      "image/png": "[encoded data removed]",
      "text/plain": [
       "<Figure size 432x288 with 1 Axes>"
      ]
     },
     "metadata": {
      "needs_background": "light"
     },
     "output_type": "display_data"
    },
    {
     "data": {
      "text/plain": [
       "<Figure size 432x288 with 0 Axes>"
      ]
     },
     "metadata": {},
     "output_type": "display_data"
    }
   ],
   "source": [
    "#create plot\n",
    "plt.scatter(x_values,y_values)\n",
    "plt.plot(x_values,regress_values,\"r-\")\n",
    "\n",
    "#label plot and annotate the line equation\n",
    "plt.xlabel('Latitude')\n",
    "plt.ylabel('Wind Speed')\n",
    "plt.annotate(line_eq,(15,8),fontsize=15,color=\"red\")\n",
    "\n",
    "# Print r square value\n",
    "print(f\"The r-squared is: {rvalue}\")\n",
    "\n",
    "# Show plot\n",
    "plt.show()\n",
    "\n",
    "#save scatter plot to images folder\n",
    "plt.savefig(os.path.join(\"Images\",\"Southern_WindSpeed_v_Latitude.png\"))"
   ]
  },
  {
   "cell_type": "markdown",
   "metadata": {},
   "source": [
    "**ANALYSIS:** Again the graph is small, but I bet this will change when I broaden my lat and lng scope."
   ]
  },
  {
   "cell_type": "code",
   "execution_count": null,
   "metadata": {},
   "outputs": [],
   "source": []
  }
 ],
 "metadata": {
  "kernelspec": {
   "display_name": "Python 3",
   "language": "python",
   "name": "python3"
  },
  "language_info": {
   "codemirror_mode": {
    "name": "ipython",
    "version": 3
   },
   "file_extension": ".py",
   "mimetype": "text/x-python",
   "name": "python",
   "nbconvert_exporter": "python",
   "pygments_lexer": "ipython3",
   "version": "3.7.4"
  }
 },
 "nbformat": 4,
 "nbformat_minor": 2
}
