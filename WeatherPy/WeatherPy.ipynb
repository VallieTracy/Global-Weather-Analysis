{
 "cells": [
  {
   "cell_type": "code",
   "execution_count": 1,
   "metadata": {},
   "outputs": [],
   "source": [
    "#dependencies and Setup\n",
    "import matplotlib.pyplot as plt\n",
    "import pandas as pd\n",
    "import numpy as np\n",
    "import requests\n",
    "import time\n",
    "import os\n",
    "from scipy.stats import linregress\n",
    "from scipy import stats\n",
    "\n",
    "#import api key\n",
    "from config import weather_api_key\n",
    "\n",
    "#incorporated citipy to determine city based on latitude and longitude\n",
    "from citipy import citipy\n",
    "\n",
    "#output file (csv)\n",
    "output_data_file = \"output_data/cities.csv\"\n",
    "\n",
    "#range of latitudes and longitudes\n",
    "lat_range = (-90, 90)\n",
    "lng_range = (-180, 180)\n",
    "#lat_range = (-10, 4)\n",
    "#lng_range = (1, 2)\n",
    "\n",
    "#formatting for bold text\n",
    "class color:\n",
    "   BOLD = '\\033[1m'\n",
    "   END = '\\033[0m'"
   ]
  },
  {
   "cell_type": "code",
   "execution_count": 2,
   "metadata": {},
   "outputs": [
    {
     "data": {
      "text/plain": [
       "{'coord': {'lon': -93.26, 'lat': 44.98},\n",
       " 'weather': [{'id': 804,\n",
       "   'main': 'Clouds',\n",
       "   'description': 'overcast clouds',\n",
       "   'icon': '04d'}],\n",
       " 'base': 'stations',\n",
       " 'main': {'temp': 34.07,\n",
       "  'feels_like': 24.85,\n",
       "  'temp_min': 32,\n",
       "  'temp_max': 36,\n",
       "  'pressure': 1012,\n",
       "  'humidity': 80},\n",
       " 'visibility': 14484,\n",
       " 'wind': {'speed': 9.17, 'deg': 210, 'gust': 18.34},\n",
       " 'clouds': {'all': 90},\n",
       " 'dt': 1579707038,\n",
       " 'sys': {'type': 1,\n",
       "  'id': 4984,\n",
       "  'country': 'US',\n",
       "  'sunrise': 1579700584,\n",
       "  'sunset': 1579734337},\n",
       " 'timezone': -21600,\n",
       " 'id': 5037649,\n",
       " 'name': 'Minneapolis',\n",
       " 'cod': 200}"
      ]
     },
     "execution_count": 2,
     "metadata": {},
     "output_type": "execute_result"
    }
   ],
   "source": [
    "#printing out the minneapolis json to see the data\n",
    "url = \"http://api.openweathermap.org/data/2.5/weather?\"\n",
    "units = \"imperial\"\n",
    "query_url = f\"{url}appid={weather_api_key}&units={units}&q=\"\n",
    "response = requests.get(query_url + \"minneapolis\").json()\n",
    "response"
   ]
  },
  {
   "cell_type": "code",
   "execution_count": 3,
   "metadata": {},
   "outputs": [
    {
     "data": {
      "text/plain": [
       "611"
      ]
     },
     "execution_count": 3,
     "metadata": {},
     "output_type": "execute_result"
    }
   ],
   "source": [
    "#List for holding lat_lngs and cities\n",
    "lat_lngs = []\n",
    "cities = []\n",
    "\n",
    "#create a set of random lat and lng combinations\n",
    "lats = np.random.uniform(low=-90.000, high=90.000, size=1500)\n",
    "lngs = np.random.uniform(low=-180.000, high=180.000, size=1500)\n",
    "lat_lngs = zip(lats, lngs)\n",
    "\n",
    "# Add a one second interval between queries to stay within API query limits\n",
    "time.sleep(1)\n",
    "\n",
    "#identify nearest city for each lat, lng combination\n",
    "for lat_lng in lat_lngs:\n",
    "    city = citipy.nearest_city(lat_lng[0], lat_lng[1]).city_name\n",
    "    \n",
    "    # If the city is unique, then add it to a our cities list\n",
    "    if city not in cities:\n",
    "        cities.append(city)\n",
    "\n",
    "#print the city count to confirm sufficient count\n",
    "len(cities)"
   ]
  },
  {
   "cell_type": "code",
   "execution_count": 4,
   "metadata": {},
   "outputs": [
    {
     "name": "stdout",
     "output_type": "stream",
     "text": [
      "Beginning Data Retrieval\n",
      "--------------------------------\n",
      "Processing Record 1 of Set 1 | tiksi\n",
      "Processing Record 2 of Set 1 | canon city\n",
      "Processing Record 3 of Set 1 | lompoc\n",
      "Processing Record 4 of Set 1 | qaanaaq\n",
      "Processing Record 5 of Set 1 | rikitea\n",
      "Processing Record 6 of Set 1 | barinas\n",
      "Processing Record 7 of Set 1 | kavieng\n",
      "Processing Record 8 of Set 1 | kamaishi\n",
      "Processing Record 9 of Set 1 | pangnirtung\n",
      "Processing Record 10 of Set 1 | vanimo\n",
      "Processing Record 11 of Set 1 | vaini\n",
      "Processing Record 12 of Set 1 | asau\n",
      "Processing Record 13 of Set 1 | puerto ayora\n",
      "Processing Record 14 of Set 1 | mataura\n",
      "Processing Record 15 of Set 1 | louisbourg\n",
      "City \u001b[1mnot \u001b[0mfound. Skipping...\n",
      "Processing Record 16 of Set 1 | khandbari\n",
      "Processing Record 17 of Set 1 | ushuaia\n",
      "Processing Record 18 of Set 1 | tessalit\n",
      "Processing Record 19 of Set 1 | punta arenas\n",
      "Processing Record 20 of Set 1 | saint george\n",
      "Processing Record 21 of Set 1 | general pico\n",
      "Processing Record 22 of Set 1 | kapaa\n",
      "Processing Record 23 of Set 1 | illoqqortoormiut\n",
      "City \u001b[1mnot \u001b[0mfound. Skipping...\n",
      "Processing Record 24 of Set 1 | chapais\n",
      "Processing Record 25 of Set 1 | carnarvon\n",
      "Processing Record 26 of Set 1 | carutapera\n",
      "Processing Record 27 of Set 1 | upernavik\n",
      "Processing Record 28 of Set 1 | aksarka\n",
      "Processing Record 29 of Set 1 | hermanus\n",
      "Processing Record 30 of Set 1 | saint-philippe\n",
      "Processing Record 31 of Set 1 | akdepe\n",
      "Processing Record 32 of Set 1 | honningsvag\n",
      "Processing Record 33 of Set 1 | coquimbo\n",
      "Processing Record 34 of Set 1 | barrow\n",
      "Processing Record 35 of Set 1 | beloha\n",
      "Processing Record 36 of Set 1 | vaitupu\n",
      "City \u001b[1mnot \u001b[0mfound. Skipping...\n",
      "Processing Record 37 of Set 1 | waipawa\n",
      "Processing Record 38 of Set 1 | hamilton\n",
      "Processing Record 39 of Set 1 | port shepstone\n",
      "Processing Record 40 of Set 1 | burica\n",
      "City \u001b[1mnot \u001b[0mfound. Skipping...\n",
      "Processing Record 41 of Set 1 | huejuquilla el alto\n",
      "Processing Record 42 of Set 1 | krasnogorodsk\n",
      "Processing Record 43 of Set 1 | broken hill\n",
      "Processing Record 44 of Set 1 | geraldton\n",
      "Processing Record 45 of Set 1 | busselton\n",
      "Processing Record 46 of Set 1 | westport\n",
      "Processing Record 47 of Set 1 | arraial do cabo\n",
      "Processing Record 48 of Set 1 | barentsburg\n",
      "City \u001b[1mnot \u001b[0mfound. Skipping...\n",
      "Processing Record 49 of Set 1 | mount gambier\n",
      "Processing Record 50 of Set 1 | thompson\n",
      "Processing Record 0 of Set 2 | taolanaro\n",
      "City \u001b[1mnot \u001b[0mfound. Skipping...\n",
      "Processing Record 1 of Set 2 | cozumel\n",
      "Processing Record 2 of Set 2 | nuuk\n",
      "Processing Record 3 of Set 2 | bluff\n",
      "Processing Record 4 of Set 2 | georgetown\n",
      "Processing Record 5 of Set 2 | castro\n",
      "Processing Record 6 of Set 2 | albany\n",
      "Processing Record 7 of Set 2 | bredasdorp\n",
      "Processing Record 8 of Set 2 | nikolskoye\n",
      "Processing Record 9 of Set 2 | nam tha\n",
      "City \u001b[1mnot \u001b[0mfound. Skipping...\n",
      "Processing Record 10 of Set 2 | fairbanks\n",
      "Processing Record 11 of Set 2 | mar del plata\n",
      "Processing Record 12 of Set 2 | tazovskiy\n",
      "Processing Record 13 of Set 2 | hithadhoo\n",
      "Processing Record 14 of Set 2 | kodiak\n",
      "Processing Record 15 of Set 2 | new norfolk\n",
      "Processing Record 16 of Set 2 | pakxan\n",
      "Processing Record 17 of Set 2 | mataquescuintla\n",
      "Processing Record 18 of Set 2 | sinnamary\n",
      "Processing Record 19 of Set 2 | port hedland\n",
      "Processing Record 20 of Set 2 | baykalsk\n",
      "Processing Record 21 of Set 2 | pacific grove\n",
      "Processing Record 22 of Set 2 | yellowknife\n",
      "Processing Record 23 of Set 2 | bonavista\n",
      "Processing Record 24 of Set 2 | severo-kurilsk\n",
      "Processing Record 25 of Set 2 | oranjestad\n",
      "Processing Record 26 of Set 2 | comodoro rivadavia\n",
      "Processing Record 27 of Set 2 | saskylakh\n",
      "Processing Record 28 of Set 2 | san cristobal\n",
      "Processing Record 29 of Set 2 | kingaroy\n",
      "Processing Record 30 of Set 2 | la rioja\n",
      "Processing Record 31 of Set 2 | nhulunbuy\n",
      "Processing Record 32 of Set 2 | khatanga\n",
      "Processing Record 33 of Set 2 | vila franca do campo\n",
      "Processing Record 34 of Set 2 | port alfred\n",
      "Processing Record 35 of Set 2 | axim\n",
      "Processing Record 36 of Set 2 | tura\n",
      "Processing Record 37 of Set 2 | iwaki\n",
      "Processing Record 38 of Set 2 | baykit\n",
      "Processing Record 39 of Set 2 | esperance\n",
      "Processing Record 40 of Set 2 | ribeira grande\n",
      "Processing Record 41 of Set 2 | atuona\n",
      "Processing Record 42 of Set 2 | camacha\n",
      "Processing Record 43 of Set 2 | bulancak\n",
      "Processing Record 44 of Set 2 | fortuna\n",
      "Processing Record 45 of Set 2 | bambous virieux\n",
      "Processing Record 46 of Set 2 | panapakkam\n",
      "City \u001b[1mnot \u001b[0mfound. Skipping...\n",
      "Processing Record 47 of Set 2 | port lincoln\n",
      "Processing Record 48 of Set 2 | san patricio\n",
      "Processing Record 49 of Set 2 | cape town\n",
      "Processing Record 0 of Set 3 | attawapiskat\n",
      "City \u001b[1mnot \u001b[0mfound. Skipping...\n",
      "Processing Record 1 of Set 3 | atar\n",
      "Processing Record 2 of Set 3 | illela\n",
      "Processing Record 3 of Set 3 | sitka\n",
      "Processing Record 4 of Set 3 | plettenberg bay\n",
      "Processing Record 5 of Set 3 | yarmouth\n",
      "Processing Record 6 of Set 3 | talcahuano\n",
      "Processing Record 7 of Set 3 | puteyets\n",
      "Processing Record 8 of Set 3 | okato\n",
      "Processing Record 9 of Set 3 | sentyabrskiy\n",
      "City \u001b[1mnot \u001b[0mfound. Skipping...\n",
      "Processing Record 10 of Set 3 | college\n",
      "Processing Record 11 of Set 3 | isangel\n",
      "Processing Record 12 of Set 3 | kutum\n",
      "Processing Record 13 of Set 3 | cherskiy\n",
      "Processing Record 14 of Set 3 | lebu\n",
      "Processing Record 15 of Set 3 | mitsamiouli\n",
      "Processing Record 16 of Set 3 | angleton\n",
      "Processing Record 17 of Set 3 | hobart\n",
      "Processing Record 18 of Set 3 | pevek\n",
      "Processing Record 19 of Set 3 | chimore\n",
      "Processing Record 20 of Set 3 | tezu\n",
      "Processing Record 21 of Set 3 | jamestown\n",
      "Processing Record 22 of Set 3 | east stroudsburg\n",
      "Processing Record 23 of Set 3 | marica\n",
      "Processing Record 24 of Set 3 | nur\n",
      "Processing Record 25 of Set 3 | nishihara\n",
      "Processing Record 26 of Set 3 | devils lake\n",
      "Processing Record 27 of Set 3 | mahebourg\n",
      "Processing Record 28 of Set 3 | mount isa\n",
      "Processing Record 29 of Set 3 | aklavik\n",
      "Processing Record 30 of Set 3 | tuktoyaktuk\n",
      "Processing Record 31 of Set 3 | luderitz\n",
      "Processing Record 32 of Set 3 | riyadh\n",
      "Processing Record 33 of Set 3 | kendari\n",
      "Processing Record 34 of Set 3 | avarua\n",
      "Processing Record 35 of Set 3 | tubruq\n",
      "City \u001b[1mnot \u001b[0mfound. Skipping...\n",
      "Processing Record 36 of Set 3 | wanning\n",
      "Processing Record 37 of Set 3 | tarudant\n",
      "City \u001b[1mnot \u001b[0mfound. Skipping...\n",
      "Processing Record 38 of Set 3 | keti bandar\n",
      "Processing Record 39 of Set 3 | umm kaddadah\n",
      "Processing Record 40 of Set 3 | nizhniy kuranakh\n",
      "Processing Record 41 of Set 3 | monrovia\n",
      "Processing Record 42 of Set 3 | rawson\n",
      "Processing Record 43 of Set 3 | artyk\n",
      "City \u001b[1mnot \u001b[0mfound. Skipping...\n",
      "Processing Record 44 of Set 3 | guiberoua\n",
      "Processing Record 45 of Set 3 | gorontalo\n",
      "Processing Record 46 of Set 3 | escanaba\n",
      "Processing Record 47 of Set 3 | kortkeros\n",
      "Processing Record 48 of Set 3 | sur\n",
      "Processing Record 49 of Set 3 | salon-de-provence\n",
      "Processing Record 0 of Set 4 | victoria\n",
      "Processing Record 1 of Set 4 | yar-sale\n",
      "Processing Record 2 of Set 4 | chumikan\n",
      "Processing Record 3 of Set 4 | qandala\n",
      "Processing Record 4 of Set 4 | merke\n",
      "Processing Record 5 of Set 4 | aguimes\n",
      "Processing Record 6 of Set 4 | codrington\n",
      "Processing Record 7 of Set 4 | pisco\n",
      "Processing Record 8 of Set 4 | hilo\n",
      "Processing Record 9 of Set 4 | guerrero negro\n",
      "Processing Record 10 of Set 4 | tevriz\n",
      "Processing Record 11 of Set 4 | la romana\n",
      "Processing Record 12 of Set 4 | pierre\n",
      "Processing Record 13 of Set 4 | kunda\n",
      "Processing Record 14 of Set 4 | egvekinot\n",
      "Processing Record 15 of Set 4 | mackay\n",
      "Processing Record 16 of Set 4 | korvekula\n",
      "City \u001b[1mnot \u001b[0mfound. Skipping...\n",
      "Processing Record 17 of Set 4 | katsuura\n",
      "Processing Record 18 of Set 4 | nizhneyansk\n",
      "City \u001b[1mnot \u001b[0mfound. Skipping...\n",
      "Processing Record 19 of Set 4 | vardo\n",
      "Processing Record 20 of Set 4 | nyurba\n",
      "Processing Record 21 of Set 4 | ancud\n",
      "Processing Record 22 of Set 4 | chagda\n",
      "City \u001b[1mnot \u001b[0mfound. Skipping...\n",
      "Processing Record 23 of Set 4 | urumqi\n",
      "Processing Record 24 of Set 4 | kukushtan\n",
      "Processing Record 25 of Set 4 | bengkulu\n",
      "Processing Record 26 of Set 4 | itanhem\n",
      "Processing Record 27 of Set 4 | deputatskiy\n",
      "Processing Record 28 of Set 4 | torbay\n",
      "Processing Record 29 of Set 4 | provideniya\n",
      "Processing Record 30 of Set 4 | faanui\n",
      "Processing Record 31 of Set 4 | norman wells\n",
      "Processing Record 32 of Set 4 | yatou\n"
     ]
    },
    {
     "name": "stdout",
     "output_type": "stream",
     "text": [
      "Processing Record 33 of Set 4 | kavaratti\n",
      "Processing Record 34 of Set 4 | shenjiamen\n",
      "Processing Record 35 of Set 4 | evensk\n",
      "Processing Record 36 of Set 4 | dikson\n",
      "Processing Record 37 of Set 4 | iskateley\n",
      "Processing Record 38 of Set 4 | maldonado\n",
      "Processing Record 39 of Set 4 | cheney\n",
      "Processing Record 40 of Set 4 | bestobe\n",
      "Processing Record 41 of Set 4 | bubaque\n",
      "Processing Record 42 of Set 4 | fairfield\n",
      "Processing Record 43 of Set 4 | whitianga\n",
      "Processing Record 44 of Set 4 | birin\n",
      "Processing Record 45 of Set 4 | bethel\n",
      "Processing Record 46 of Set 4 | palaiokhora\n",
      "City \u001b[1mnot \u001b[0mfound. Skipping...\n",
      "Processing Record 47 of Set 4 | soe\n",
      "Processing Record 48 of Set 4 | athabasca\n",
      "Processing Record 49 of Set 4 | mys shmidta\n",
      "City \u001b[1mnot \u001b[0mfound. Skipping...\n",
      "Processing Record 0 of Set 5 | pangai\n",
      "Processing Record 1 of Set 5 | sorland\n",
      "Processing Record 2 of Set 5 | lazaro cardenas\n",
      "Processing Record 3 of Set 5 | meyungs\n",
      "City \u001b[1mnot \u001b[0mfound. Skipping...\n",
      "Processing Record 4 of Set 5 | husavik\n",
      "Processing Record 5 of Set 5 | tasiilaq\n",
      "Processing Record 6 of Set 5 | turayf\n",
      "Processing Record 7 of Set 5 | svetlogorsk\n",
      "Processing Record 8 of Set 5 | gravdal\n",
      "Processing Record 9 of Set 5 | chala\n",
      "Processing Record 10 of Set 5 | kant\n",
      "Processing Record 11 of Set 5 | diapaga\n",
      "Processing Record 12 of Set 5 | taoudenni\n",
      "Processing Record 13 of Set 5 | riaba\n",
      "City \u001b[1mnot \u001b[0mfound. Skipping...\n",
      "Processing Record 14 of Set 5 | bucerias\n",
      "Processing Record 15 of Set 5 | butaritari\n",
      "Processing Record 16 of Set 5 | blagoyevo\n",
      "Processing Record 17 of Set 5 | san quintin\n",
      "Processing Record 18 of Set 5 | lolua\n",
      "City \u001b[1mnot \u001b[0mfound. Skipping...\n",
      "Processing Record 19 of Set 5 | bangsund\n",
      "Processing Record 20 of Set 5 | kinablangan\n",
      "Processing Record 21 of Set 5 | amderma\n",
      "City \u001b[1mnot \u001b[0mfound. Skipping...\n",
      "Processing Record 22 of Set 5 | ponta do sol\n",
      "Processing Record 23 of Set 5 | saint-louis\n",
      "Processing Record 24 of Set 5 | foix\n",
      "Processing Record 25 of Set 5 | nosivka\n",
      "Processing Record 26 of Set 5 | necochea\n",
      "Processing Record 27 of Set 5 | dunedin\n",
      "Processing Record 28 of Set 5 | hambantota\n",
      "Processing Record 29 of Set 5 | east london\n",
      "Processing Record 30 of Set 5 | walvis bay\n",
      "Processing Record 31 of Set 5 | markova\n",
      "Processing Record 32 of Set 5 | blytheville\n",
      "Processing Record 33 of Set 5 | omboue\n",
      "Processing Record 34 of Set 5 | la ronge\n",
      "Processing Record 35 of Set 5 | carikar\n",
      "City \u001b[1mnot \u001b[0mfound. Skipping...\n",
      "Processing Record 36 of Set 5 | kaitangata\n",
      "Processing Record 37 of Set 5 | nyahururu\n",
      "Processing Record 38 of Set 5 | riberalta\n",
      "Processing Record 39 of Set 5 | hillsboro\n",
      "Processing Record 40 of Set 5 | ilulissat\n",
      "Processing Record 41 of Set 5 | moses lake\n",
      "Processing Record 42 of Set 5 | gelibolu\n",
      "Processing Record 43 of Set 5 | aden\n",
      "Processing Record 44 of Set 5 | najran\n",
      "Processing Record 45 of Set 5 | avera\n",
      "Processing Record 46 of Set 5 | murray bridge\n",
      "Processing Record 47 of Set 5 | tagusao\n",
      "Processing Record 48 of Set 5 | ust-nera\n",
      "Processing Record 49 of Set 5 | cidreira\n",
      "Processing Record 0 of Set 6 | othaya\n",
      "Processing Record 1 of Set 6 | chokurdakh\n",
      "Processing Record 2 of Set 6 | troitsko-pechorsk\n",
      "Processing Record 3 of Set 6 | adrar\n",
      "Processing Record 4 of Set 6 | airai\n",
      "Processing Record 5 of Set 6 | los llanos de aridane\n",
      "Processing Record 6 of Set 6 | ostrovnoy\n",
      "Processing Record 7 of Set 6 | hay river\n",
      "Processing Record 8 of Set 6 | nemuro\n",
      "Processing Record 9 of Set 6 | lorengau\n",
      "Processing Record 10 of Set 6 | chuy\n",
      "Processing Record 11 of Set 6 | yulara\n",
      "Processing Record 12 of Set 6 | toda raisingh\n",
      "Processing Record 13 of Set 6 | nakusp\n",
      "Processing Record 14 of Set 6 | ulaangom\n",
      "Processing Record 15 of Set 6 | ryotsu\n",
      "Processing Record 16 of Set 6 | malanje\n",
      "Processing Record 17 of Set 6 | kampot\n",
      "Processing Record 18 of Set 6 | balabac\n",
      "Processing Record 19 of Set 6 | langsa\n",
      "Processing Record 20 of Set 6 | cockburn town\n",
      "Processing Record 21 of Set 6 | quatre cocos\n",
      "Processing Record 22 of Set 6 | aksu\n",
      "Processing Record 23 of Set 6 | haines junction\n",
      "Processing Record 24 of Set 6 | iqaluit\n",
      "Processing Record 25 of Set 6 | crestview\n",
      "Processing Record 26 of Set 6 | longyearbyen\n",
      "Processing Record 27 of Set 6 | muyezerskiy\n",
      "Processing Record 28 of Set 6 | maghama\n",
      "City \u001b[1mnot \u001b[0mfound. Skipping...\n",
      "Processing Record 29 of Set 6 | coria\n",
      "Processing Record 30 of Set 6 | puerto escondido\n",
      "Processing Record 31 of Set 6 | mouzakion\n",
      "City \u001b[1mnot \u001b[0mfound. Skipping...\n",
      "Processing Record 32 of Set 6 | hovd\n",
      "Processing Record 33 of Set 6 | olinda\n",
      "Processing Record 34 of Set 6 | brae\n",
      "Processing Record 35 of Set 6 | murmashi\n",
      "Processing Record 36 of Set 6 | concordia\n",
      "Processing Record 37 of Set 6 | zacualtipan\n",
      "Processing Record 38 of Set 6 | palabuhanratu\n",
      "City \u001b[1mnot \u001b[0mfound. Skipping...\n",
      "Processing Record 39 of Set 6 | mehamn\n",
      "Processing Record 40 of Set 6 | nouadhibou\n",
      "Processing Record 41 of Set 6 | cortez\n",
      "Processing Record 42 of Set 6 | sompeta\n",
      "Processing Record 43 of Set 6 | yeppoon\n",
      "Processing Record 44 of Set 6 | ekibastuz\n",
      "Processing Record 45 of Set 6 | urambo\n",
      "Processing Record 46 of Set 6 | dauphin\n",
      "Processing Record 47 of Set 6 | talakan\n",
      "Processing Record 48 of Set 6 | gornopravdinsk\n",
      "Processing Record 49 of Set 6 | tocopilla\n",
      "Processing Record 0 of Set 7 | constitucion\n",
      "Processing Record 1 of Set 7 | halifax\n",
      "Processing Record 2 of Set 7 | namatanai\n",
      "Processing Record 3 of Set 7 | vao\n",
      "Processing Record 4 of Set 7 | betsiamites\n",
      "Processing Record 5 of Set 7 | kahului\n",
      "Processing Record 6 of Set 7 | labuhan\n",
      "Processing Record 7 of Set 7 | tiznit\n",
      "Processing Record 8 of Set 7 | sistranda\n",
      "Processing Record 9 of Set 7 | novikovo\n",
      "Processing Record 10 of Set 7 | kaabong\n",
      "Processing Record 11 of Set 7 | ciudad bolivar\n",
      "Processing Record 12 of Set 7 | grand river south east\n",
      "City \u001b[1mnot \u001b[0mfound. Skipping...\n",
      "Processing Record 13 of Set 7 | diffa\n",
      "Processing Record 14 of Set 7 | arzgir\n",
      "Processing Record 15 of Set 7 | samarai\n",
      "Processing Record 16 of Set 7 | maceio\n",
      "Processing Record 17 of Set 7 | turbat\n",
      "Processing Record 18 of Set 7 | port elizabeth\n",
      "Processing Record 19 of Set 7 | havre-saint-pierre\n",
      "Processing Record 20 of Set 7 | sisimiut\n",
      "Processing Record 21 of Set 7 | portland\n",
      "Processing Record 22 of Set 7 | kyrksaeterora\n",
      "Processing Record 23 of Set 7 | hami\n",
      "Processing Record 24 of Set 7 | atasu\n",
      "Processing Record 25 of Set 7 | banda aceh\n",
      "Processing Record 26 of Set 7 | malakal\n",
      "Processing Record 27 of Set 7 | san bartolome\n",
      "Processing Record 28 of Set 7 | ibiruba\n",
      "Processing Record 29 of Set 7 | baijiantan\n",
      "Processing Record 30 of Set 7 | brakel\n",
      "Processing Record 31 of Set 7 | nanortalik\n",
      "Processing Record 32 of Set 7 | oneonta\n",
      "Processing Record 33 of Set 7 | baiyin\n",
      "Processing Record 34 of Set 7 | cabo san lucas\n",
      "Processing Record 35 of Set 7 | wahran\n",
      "City \u001b[1mnot \u001b[0mfound. Skipping...\n",
      "Processing Record 36 of Set 7 | tual\n",
      "Processing Record 37 of Set 7 | voyinka\n",
      "Processing Record 38 of Set 7 | emba\n",
      "Processing Record 39 of Set 7 | sao felix do xingu\n",
      "Processing Record 40 of Set 7 | chipinge\n",
      "Processing Record 41 of Set 7 | kamenskoye\n",
      "City \u001b[1mnot \u001b[0mfound. Skipping...\n",
      "Processing Record 42 of Set 7 | mayya\n",
      "Processing Record 43 of Set 7 | baherden\n",
      "Processing Record 44 of Set 7 | mahibadhoo\n",
      "Processing Record 45 of Set 7 | lagoa\n",
      "Processing Record 46 of Set 7 | corvallis\n",
      "Processing Record 47 of Set 7 | lufilufi\n",
      "Processing Record 48 of Set 7 | samusu\n",
      "City \u001b[1mnot \u001b[0mfound. Skipping...\n",
      "Processing Record 49 of Set 7 | namibe\n",
      "Processing Record 0 of Set 8 | rancho palos verdes\n",
      "Processing Record 1 of Set 8 | narsaq\n",
      "Processing Record 2 of Set 8 | kimberley\n",
      "Processing Record 3 of Set 8 | tapes\n",
      "Processing Record 4 of Set 8 | primo tapia\n",
      "Processing Record 5 of Set 8 | mabama\n",
      "Processing Record 6 of Set 8 | kralendijk\n",
      "Processing Record 7 of Set 8 | southbridge\n",
      "Processing Record 8 of Set 8 | grand baie\n",
      "Processing Record 9 of Set 8 | kenai\n",
      "Processing Record 10 of Set 8 | atambua\n",
      "Processing Record 11 of Set 8 | redlands\n",
      "Processing Record 12 of Set 8 | yalvac\n",
      "Processing Record 13 of Set 8 | teknaf\n",
      "Processing Record 14 of Set 8 | tirlyanskiy\n",
      "Processing Record 15 of Set 8 | hasaki\n",
      "Processing Record 16 of Set 8 | guisijan\n",
      "Processing Record 17 of Set 8 | hare bay\n",
      "Processing Record 18 of Set 8 | kieta\n",
      "Processing Record 19 of Set 8 | nguiu\n",
      "City \u001b[1mnot \u001b[0mfound. Skipping...\n",
      "Processing Record 20 of Set 8 | kyra\n"
     ]
    },
    {
     "name": "stdout",
     "output_type": "stream",
     "text": [
      "Processing Record 21 of Set 8 | seymchan\n",
      "Processing Record 22 of Set 8 | stornoway\n",
      "Processing Record 23 of Set 8 | khonuu\n",
      "City \u001b[1mnot \u001b[0mfound. Skipping...\n",
      "Processing Record 24 of Set 8 | general roca\n",
      "Processing Record 25 of Set 8 | tandalti\n",
      "Processing Record 26 of Set 8 | awjilah\n",
      "Processing Record 27 of Set 8 | hokitika\n",
      "Processing Record 28 of Set 8 | meulaboh\n",
      "Processing Record 29 of Set 8 | khandyga\n",
      "Processing Record 30 of Set 8 | tianpeng\n",
      "Processing Record 31 of Set 8 | maloy\n",
      "Processing Record 32 of Set 8 | gorno-chuyskiy\n",
      "City \u001b[1mnot \u001b[0mfound. Skipping...\n",
      "Processing Record 33 of Set 8 | high level\n",
      "Processing Record 34 of Set 8 | amahai\n",
      "Processing Record 35 of Set 8 | kayerkan\n",
      "Processing Record 36 of Set 8 | dandong\n",
      "Processing Record 37 of Set 8 | belushya guba\n",
      "City \u001b[1mnot \u001b[0mfound. Skipping...\n",
      "Processing Record 38 of Set 8 | kracheh\n",
      "City \u001b[1mnot \u001b[0mfound. Skipping...\n",
      "Processing Record 39 of Set 8 | ruidoso\n",
      "Processing Record 40 of Set 8 | ishigaki\n",
      "Processing Record 41 of Set 8 | phu ly\n",
      "Processing Record 42 of Set 8 | lavrentiya\n",
      "Processing Record 43 of Set 8 | tanout\n",
      "Processing Record 44 of Set 8 | san andres\n",
      "Processing Record 45 of Set 8 | mukhen\n",
      "Processing Record 46 of Set 8 | okhotsk\n",
      "Processing Record 47 of Set 8 | laranjeiras do sul\n",
      "Processing Record 48 of Set 8 | kloulklubed\n",
      "Processing Record 49 of Set 8 | gat\n",
      "Processing Record 0 of Set 9 | boyolangu\n",
      "Processing Record 1 of Set 9 | martapura\n",
      "Processing Record 2 of Set 9 | olafsvik\n",
      "Processing Record 3 of Set 9 | lahaina\n",
      "Processing Record 4 of Set 9 | vestmannaeyjar\n",
      "Processing Record 5 of Set 9 | khash\n",
      "Processing Record 6 of Set 9 | katangli\n",
      "Processing Record 7 of Set 9 | hunza\n",
      "City \u001b[1mnot \u001b[0mfound. Skipping...\n",
      "Processing Record 8 of Set 9 | petropavlovsk-kamchatskiy\n",
      "Processing Record 9 of Set 9 | quelimane\n",
      "Processing Record 10 of Set 9 | laguna\n",
      "Processing Record 11 of Set 9 | mashivka\n",
      "Processing Record 12 of Set 9 | mercedes\n",
      "Processing Record 13 of Set 9 | baiao\n",
      "Processing Record 14 of Set 9 | bagli\n",
      "Processing Record 15 of Set 9 | grootfontein\n",
      "Processing Record 16 of Set 9 | mirnyy\n",
      "Processing Record 17 of Set 9 | yerbogachen\n",
      "Processing Record 18 of Set 9 | mumford\n",
      "Processing Record 19 of Set 9 | sile\n",
      "Processing Record 20 of Set 9 | sao filipe\n",
      "Processing Record 21 of Set 9 | shiraz\n",
      "Processing Record 22 of Set 9 | caslav\n",
      "Processing Record 23 of Set 9 | colwyn bay\n",
      "Processing Record 24 of Set 9 | concepcion del uruguay\n",
      "Processing Record 25 of Set 9 | kang\n",
      "Processing Record 26 of Set 9 | ahipara\n",
      "Processing Record 27 of Set 9 | tahta\n",
      "Processing Record 28 of Set 9 | klaksvik\n",
      "Processing Record 29 of Set 9 | grindavik\n",
      "Processing Record 30 of Set 9 | chita\n",
      "Processing Record 31 of Set 9 | tilichiki\n",
      "Processing Record 32 of Set 9 | paamiut\n",
      "Processing Record 33 of Set 9 | kampene\n",
      "Processing Record 34 of Set 9 | klitos\n",
      "Processing Record 35 of Set 9 | passo de camaragibe\n",
      "Processing Record 36 of Set 9 | groves\n",
      "Processing Record 37 of Set 9 | kruisfontein\n",
      "Processing Record 38 of Set 9 | sulangan\n",
      "Processing Record 39 of Set 9 | porto novo\n",
      "Processing Record 40 of Set 9 | llangefni\n",
      "Processing Record 41 of Set 9 | bathsheba\n",
      "Processing Record 42 of Set 9 | daultala\n",
      "Processing Record 43 of Set 9 | saleaula\n",
      "City \u001b[1mnot \u001b[0mfound. Skipping...\n",
      "Processing Record 44 of Set 9 | tank\n",
      "Processing Record 45 of Set 9 | kurumkan\n",
      "Processing Record 46 of Set 9 | fostoria\n",
      "Processing Record 47 of Set 9 | chapleau\n",
      "Processing Record 48 of Set 9 | galgani\n",
      "City \u001b[1mnot \u001b[0mfound. Skipping...\n",
      "Processing Record 49 of Set 9 | umzimvubu\n",
      "City \u001b[1mnot \u001b[0mfound. Skipping...\n",
      "Processing Record 0 of Set 10 | miri\n",
      "Processing Record 1 of Set 10 | roma\n",
      "Processing Record 2 of Set 10 | kawana waters\n",
      "City \u001b[1mnot \u001b[0mfound. Skipping...\n",
      "Processing Record 3 of Set 10 | sabang\n",
      "Processing Record 4 of Set 10 | richards bay\n",
      "Processing Record 5 of Set 10 | byron bay\n",
      "Processing Record 6 of Set 10 | salalah\n",
      "Processing Record 7 of Set 10 | lucapa\n",
      "Processing Record 8 of Set 10 | yumen\n",
      "Processing Record 9 of Set 10 | cayenne\n",
      "Processing Record 10 of Set 10 | broome\n",
      "Processing Record 11 of Set 10 | tahe\n",
      "Processing Record 12 of Set 10 | oistins\n",
      "Processing Record 13 of Set 10 | itoman\n",
      "Processing Record 14 of Set 10 | hobyo\n",
      "Processing Record 15 of Set 10 | zhigansk\n",
      "Processing Record 16 of Set 10 | dingle\n",
      "Processing Record 17 of Set 10 | pasighat\n",
      "Processing Record 18 of Set 10 | olga\n",
      "Processing Record 19 of Set 10 | colares\n",
      "Processing Record 20 of Set 10 | sumbawa\n",
      "City \u001b[1mnot \u001b[0mfound. Skipping...\n",
      "Processing Record 21 of Set 10 | waingapu\n",
      "Processing Record 22 of Set 10 | den helder\n",
      "Processing Record 23 of Set 10 | kalmunai\n",
      "Processing Record 24 of Set 10 | kupang\n",
      "Processing Record 25 of Set 10 | ukiah\n",
      "Processing Record 26 of Set 10 | tiassale\n",
      "Processing Record 27 of Set 10 | margate\n",
      "Processing Record 28 of Set 10 | varadero\n",
      "Processing Record 29 of Set 10 | boda\n",
      "Processing Record 30 of Set 10 | malwan\n",
      "City \u001b[1mnot \u001b[0mfound. Skipping...\n",
      "Processing Record 31 of Set 10 | kalaleh\n",
      "Processing Record 32 of Set 10 | port moresby\n",
      "Processing Record 33 of Set 10 | ino\n",
      "Processing Record 34 of Set 10 | ust-kut\n",
      "Processing Record 35 of Set 10 | kikwit\n",
      "Processing Record 36 of Set 10 | tombouctou\n",
      "Processing Record 37 of Set 10 | nova olimpia\n",
      "Processing Record 38 of Set 10 | jahrom\n",
      "City \u001b[1mnot \u001b[0mfound. Skipping...\n",
      "Processing Record 39 of Set 10 | bara\n",
      "Processing Record 40 of Set 10 | viligili\n",
      "City \u001b[1mnot \u001b[0mfound. Skipping...\n",
      "Processing Record 41 of Set 10 | kirakira\n",
      "Processing Record 42 of Set 10 | vila do maio\n",
      "Processing Record 43 of Set 10 | liaoyang\n",
      "Processing Record 44 of Set 10 | rylsk\n",
      "Processing Record 45 of Set 10 | radhan\n",
      "Processing Record 46 of Set 10 | sakakah\n",
      "Processing Record 47 of Set 10 | lakes entrance\n",
      "Processing Record 48 of Set 10 | gien\n",
      "Processing Record 49 of Set 10 | greensburg\n",
      "Processing Record 0 of Set 11 | vung tau\n",
      "Processing Record 1 of Set 11 | juba\n",
      "Processing Record 2 of Set 11 | aybak\n",
      "City \u001b[1mnot \u001b[0mfound. Skipping...\n",
      "Processing Record 3 of Set 11 | dudinka\n",
      "Processing Record 4 of Set 11 | marsh harbour\n",
      "Processing Record 5 of Set 11 | gulshat\n",
      "City \u001b[1mnot \u001b[0mfound. Skipping...\n",
      "Processing Record 6 of Set 11 | verkhnyaya toyma\n",
      "Processing Record 7 of Set 11 | sibolga\n",
      "Processing Record 8 of Set 11 | gangotri\n",
      "City \u001b[1mnot \u001b[0mfound. Skipping...\n",
      "Processing Record 9 of Set 11 | padang\n",
      "Processing Record 10 of Set 11 | mogwase\n",
      "Processing Record 11 of Set 11 | doaba\n",
      "Processing Record 12 of Set 11 | bosaso\n",
      "Processing Record 13 of Set 11 | inhambane\n",
      "Processing Record 14 of Set 11 | saint-augustin\n",
      "Processing Record 15 of Set 11 | zhuzhou\n",
      "Processing Record 16 of Set 11 | fort-shevchenko\n",
      "Processing Record 17 of Set 11 | sheregesh\n",
      "Processing Record 18 of Set 11 | vila\n",
      "Processing Record 19 of Set 11 | westpunt\n",
      "City \u001b[1mnot \u001b[0mfound. Skipping...\n",
      "Processing Record 20 of Set 11 | seoul\n",
      "Processing Record 21 of Set 11 | saint anthony\n",
      "Processing Record 22 of Set 11 | auki\n",
      "Processing Record 23 of Set 11 | mpika\n",
      "Processing Record 24 of Set 11 | krasnoselkup\n",
      "Processing Record 25 of Set 11 | aswan\n",
      "Processing Record 26 of Set 11 | buseresere\n",
      "Processing Record 27 of Set 11 | filadelfia\n",
      "Processing Record 28 of Set 11 | sorong\n",
      "Processing Record 29 of Set 11 | pochutla\n",
      "Processing Record 30 of Set 11 | simiti\n",
      "Processing Record 31 of Set 11 | reserva\n",
      "Processing Record 32 of Set 11 | anadyr\n",
      "Processing Record 33 of Set 11 | suntar\n",
      "Processing Record 34 of Set 11 | coralville\n",
      "Processing Record 35 of Set 11 | chau doc\n",
      "Processing Record 36 of Set 11 | sirnak\n",
      "Processing Record 37 of Set 11 | minab\n",
      "Processing Record 38 of Set 11 | toamasina\n",
      "Processing Record 39 of Set 11 | edendale\n",
      "Processing Record 40 of Set 11 | pocatello\n",
      "Processing Record 41 of Set 11 | marcona\n",
      "City \u001b[1mnot \u001b[0mfound. Skipping...\n",
      "Processing Record 42 of Set 11 | tumannyy\n",
      "City \u001b[1mnot \u001b[0mfound. Skipping...\n",
      "Processing Record 43 of Set 11 | estevan\n",
      "Processing Record 44 of Set 11 | kedrovyy\n",
      "Processing Record 45 of Set 11 | komsomolskiy\n",
      "Processing Record 46 of Set 11 | ust-kuyga\n",
      "Processing Record 47 of Set 11 | les cayes\n",
      "Processing Record 48 of Set 11 | san vito\n",
      "Processing Record 49 of Set 11 | port hardy\n",
      "Processing Record 0 of Set 12 | alabaster\n",
      "Processing Record 1 of Set 12 | sri aman\n",
      "Processing Record 2 of Set 12 | cairns\n"
     ]
    },
    {
     "name": "stdout",
     "output_type": "stream",
     "text": [
      "Processing Record 3 of Set 12 | praia da vitoria\n",
      "Processing Record 4 of Set 12 | morehead\n",
      "Processing Record 5 of Set 12 | dese\n",
      "Processing Record 6 of Set 12 | bambanglipuro\n",
      "Processing Record 7 of Set 12 | xam nua\n",
      "Processing Record 8 of Set 12 | fare\n",
      "Processing Record 9 of Set 12 | pozzallo\n",
      "Processing Record 10 of Set 12 | monte alegre de sergipe\n",
      "Processing Record 11 of Set 12 | haibowan\n",
      "City \u001b[1mnot \u001b[0mfound. Skipping...\n",
      "Processing Record 12 of Set 12 | pitimbu\n",
      "Processing Record 13 of Set 12 | villarrica\n",
      "Processing Record 14 of Set 12 | souillac\n",
      "Processing Record 15 of Set 12 | udhampur\n",
      "Processing Record 16 of Set 12 | dien bien\n",
      "City \u001b[1mnot \u001b[0mfound. Skipping...\n",
      "Processing Record 17 of Set 12 | korcula\n",
      "Processing Record 18 of Set 12 | segalstad\n",
      "City \u001b[1mnot \u001b[0mfound. Skipping...\n",
      "Processing Record 19 of Set 12 | menongue\n",
      "Processing Record 20 of Set 12 | luena\n",
      "Processing Record 21 of Set 12 | cururupu\n",
      "Processing Record 22 of Set 12 | iringa\n",
      "Processing Record 23 of Set 12 | gardelegen\n",
      "Processing Record 24 of Set 12 | birjand\n",
      "Processing Record 25 of Set 12 | clyde river\n",
      "Processing Record 26 of Set 12 | toliary\n",
      "City \u001b[1mnot \u001b[0mfound. Skipping...\n",
      "Processing Record 27 of Set 12 | the valley\n",
      "Processing Record 28 of Set 12 | kumluca\n",
      "Processing Record 29 of Set 12 | daru\n",
      "Processing Record 30 of Set 12 | suba\n",
      "Processing Record 31 of Set 12 | nanakuli\n",
      "Processing Record 32 of Set 12 | kuche\n",
      "City \u001b[1mnot \u001b[0mfound. Skipping...\n",
      "Processing Record 33 of Set 12 | inirida\n",
      "Processing Record 34 of Set 12 | sayyan\n",
      "Processing Record 35 of Set 12 | polazna\n",
      "Processing Record 36 of Set 12 | florence\n",
      "Processing Record 37 of Set 12 | halalo\n",
      "City \u001b[1mnot \u001b[0mfound. Skipping...\n",
      "Processing Record 38 of Set 12 | naze\n",
      "Processing Record 39 of Set 12 | shetpe\n",
      "Processing Record 40 of Set 12 | chiredzi\n",
      "Processing Record 41 of Set 12 | flinders\n",
      "Processing Record 42 of Set 12 | puerto colombia\n",
      "Processing Record 43 of Set 12 | saldanha\n",
      "Processing Record 44 of Set 12 | cartagena\n",
      "Processing Record 45 of Set 12 | barbar\n",
      "City \u001b[1mnot \u001b[0mfound. Skipping...\n",
      "Processing Record 46 of Set 12 | iisalmi\n",
      "Processing Record 47 of Set 12 | moshi\n",
      "Processing Record 48 of Set 12 | zorritos\n",
      "Processing Record 49 of Set 12 | bathurst\n",
      "Processing Record 0 of Set 13 | hofn\n",
      "Processing Record 1 of Set 13 | saint-pierre\n",
      "Processing Record 2 of Set 13 | xuddur\n",
      "Processing Record 3 of Set 13 | ngunguru\n",
      "Processing Record 4 of Set 13 | port blair\n",
      "Processing Record 5 of Set 13 | alice springs\n",
      "Processing Record 6 of Set 13 | soligalich\n",
      "Processing Record 7 of Set 13 | dire\n",
      "Processing Record 8 of Set 13 | vila velha\n",
      "Processing Record 9 of Set 13 | tautira\n",
      "Processing Record 10 of Set 13 | tafresh\n",
      "------------------------\n",
      "Data Retrieval Complete\n",
      "------------------------\n"
     ]
    }
   ],
   "source": [
    "#Perform API Calls\n",
    "#write something more descriptive...\n",
    "\n",
    "#base url\n",
    "url = \"http://api.openweathermap.org/data/2.5/weather?\"\n",
    "units = \"imperial\"\n",
    "#build partial query url\n",
    "query_url = f\"{url}appid={weather_api_key}&units={units}&q=\"\n",
    "\n",
    "city_info = []\n",
    "\n",
    "#in order to print the print log according to how the homework looks (change comment before final draft)\n",
    "i = 1\n",
    "set_number = 1\n",
    "\n",
    "print(\"Beginning Data Retrieval\") \n",
    "print(\"--------------------------------\")\n",
    "\n",
    "for j, city in enumerate(cities):\n",
    "    \n",
    "    if (j % 50 == 0 and j >= 50):\n",
    "        set_number = set_number + 1\n",
    "        i = 0\n",
    "    print(f\"Processing Record {i} of Set {set_number} | {city}\")\n",
    "    i=i+1\n",
    "   \n",
    "    response = requests.get(query_url + city).json()\n",
    "    \n",
    "    # Add a one second interval between queries to stay within API query limits\n",
    "    time.sleep(1)\n",
    "    \n",
    "    try:\n",
    "        lat = response['coord']['lat']\n",
    "        name = response['name']\n",
    "        cloudiness = response['clouds']['all']\n",
    "        country = response['sys']['country']\n",
    "        date = response['dt']\n",
    "        humidity = response['main']['humidity']\n",
    "        lngs = response['coord']['lon']\n",
    "        max_temp = response['main']['temp_max']\n",
    "        wind_speed = response['wind']['speed']\n",
    "        city_info.append({\"City\": name,\n",
    "                          \"Cloudiness\": cloudiness,\n",
    "                          \"Country\": country,\n",
    "                          \"Date\": date,\n",
    "                          \"Humidity\": humidity,\n",
    "                          \"Lat\": lat,\n",
    "                          \"Lng\": lngs,\n",
    "                          \"Max Temp\": max_temp,\n",
    "                          \"Wind Speed\": wind_speed})\n",
    "    except:\n",
    "        print(\"City \" + color.BOLD + \"not \" + color.END + \"found. Skipping...\")\n",
    "        pass\n",
    "\n",
    "print(\"------------------------\")\n",
    "print(\"Data Retrieval Complete\")\n",
    "print(\"------------------------\")"
   ]
  },
  {
   "cell_type": "code",
   "execution_count": 5,
   "metadata": {},
   "outputs": [
    {
     "data": {
      "text/html": [
       "<div>\n",
       "<style scoped>\n",
       "    .dataframe tbody tr th:only-of-type {\n",
       "        vertical-align: middle;\n",
       "    }\n",
       "\n",
       "    .dataframe tbody tr th {\n",
       "        vertical-align: top;\n",
       "    }\n",
       "\n",
       "    .dataframe thead th {\n",
       "        text-align: right;\n",
       "    }\n",
       "</style>\n",
       "<table border=\"1\" class=\"dataframe\">\n",
       "  <thead>\n",
       "    <tr style=\"text-align: right;\">\n",
       "      <th></th>\n",
       "      <th>City</th>\n",
       "      <th>Cloudiness</th>\n",
       "      <th>Country</th>\n",
       "      <th>Date</th>\n",
       "      <th>Humidity</th>\n",
       "      <th>Lat</th>\n",
       "      <th>Lng</th>\n",
       "      <th>Max Temp</th>\n",
       "      <th>Wind Speed</th>\n",
       "    </tr>\n",
       "  </thead>\n",
       "  <tbody>\n",
       "    <tr>\n",
       "      <td>0</td>\n",
       "      <td>Tiksi</td>\n",
       "      <td>100</td>\n",
       "      <td>RU</td>\n",
       "      <td>1579706571</td>\n",
       "      <td>85</td>\n",
       "      <td>71.69</td>\n",
       "      <td>128.87</td>\n",
       "      <td>-23.78</td>\n",
       "      <td>5.55</td>\n",
       "    </tr>\n",
       "    <tr>\n",
       "      <td>1</td>\n",
       "      <td>Canon City</td>\n",
       "      <td>1</td>\n",
       "      <td>US</td>\n",
       "      <td>1579707130</td>\n",
       "      <td>59</td>\n",
       "      <td>38.44</td>\n",
       "      <td>-105.24</td>\n",
       "      <td>44.01</td>\n",
       "      <td>9.17</td>\n",
       "    </tr>\n",
       "    <tr>\n",
       "      <td>2</td>\n",
       "      <td>Lompoc</td>\n",
       "      <td>90</td>\n",
       "      <td>US</td>\n",
       "      <td>1579706976</td>\n",
       "      <td>93</td>\n",
       "      <td>34.64</td>\n",
       "      <td>-120.46</td>\n",
       "      <td>50.00</td>\n",
       "      <td>6.93</td>\n",
       "    </tr>\n",
       "    <tr>\n",
       "      <td>3</td>\n",
       "      <td>Qaanaaq</td>\n",
       "      <td>0</td>\n",
       "      <td>GL</td>\n",
       "      <td>1579706567</td>\n",
       "      <td>51</td>\n",
       "      <td>77.48</td>\n",
       "      <td>-69.36</td>\n",
       "      <td>-12.69</td>\n",
       "      <td>7.49</td>\n",
       "    </tr>\n",
       "    <tr>\n",
       "      <td>4</td>\n",
       "      <td>Rikitea</td>\n",
       "      <td>0</td>\n",
       "      <td>PF</td>\n",
       "      <td>1579707159</td>\n",
       "      <td>79</td>\n",
       "      <td>-23.12</td>\n",
       "      <td>-134.97</td>\n",
       "      <td>77.88</td>\n",
       "      <td>10.87</td>\n",
       "    </tr>\n",
       "    <tr>\n",
       "      <td>...</td>\n",
       "      <td>...</td>\n",
       "      <td>...</td>\n",
       "      <td>...</td>\n",
       "      <td>...</td>\n",
       "      <td>...</td>\n",
       "      <td>...</td>\n",
       "      <td>...</td>\n",
       "      <td>...</td>\n",
       "      <td>...</td>\n",
       "    </tr>\n",
       "    <tr>\n",
       "      <td>549</td>\n",
       "      <td>Soligalich</td>\n",
       "      <td>100</td>\n",
       "      <td>RU</td>\n",
       "      <td>1579707834</td>\n",
       "      <td>90</td>\n",
       "      <td>59.08</td>\n",
       "      <td>42.29</td>\n",
       "      <td>26.37</td>\n",
       "      <td>8.86</td>\n",
       "    </tr>\n",
       "    <tr>\n",
       "      <td>550</td>\n",
       "      <td>Dire</td>\n",
       "      <td>100</td>\n",
       "      <td>ML</td>\n",
       "      <td>1579707836</td>\n",
       "      <td>10</td>\n",
       "      <td>12.28</td>\n",
       "      <td>-10.97</td>\n",
       "      <td>104.22</td>\n",
       "      <td>2.51</td>\n",
       "    </tr>\n",
       "    <tr>\n",
       "      <td>551</td>\n",
       "      <td>Vila Velha</td>\n",
       "      <td>75</td>\n",
       "      <td>BR</td>\n",
       "      <td>1579707785</td>\n",
       "      <td>78</td>\n",
       "      <td>-20.33</td>\n",
       "      <td>-40.29</td>\n",
       "      <td>81.00</td>\n",
       "      <td>13.87</td>\n",
       "    </tr>\n",
       "    <tr>\n",
       "      <td>552</td>\n",
       "      <td>Tautira</td>\n",
       "      <td>42</td>\n",
       "      <td>PF</td>\n",
       "      <td>1579707838</td>\n",
       "      <td>74</td>\n",
       "      <td>-17.73</td>\n",
       "      <td>-149.15</td>\n",
       "      <td>78.80</td>\n",
       "      <td>9.17</td>\n",
       "    </tr>\n",
       "    <tr>\n",
       "      <td>553</td>\n",
       "      <td>Tafresh</td>\n",
       "      <td>69</td>\n",
       "      <td>IR</td>\n",
       "      <td>1579707839</td>\n",
       "      <td>84</td>\n",
       "      <td>34.69</td>\n",
       "      <td>50.01</td>\n",
       "      <td>25.90</td>\n",
       "      <td>16.60</td>\n",
       "    </tr>\n",
       "  </tbody>\n",
       "</table>\n",
       "<p>554 rows × 9 columns</p>\n",
       "</div>"
      ],
      "text/plain": [
       "           City  Cloudiness Country        Date  Humidity    Lat     Lng  \\\n",
       "0         Tiksi         100      RU  1579706571        85  71.69  128.87   \n",
       "1    Canon City           1      US  1579707130        59  38.44 -105.24   \n",
       "2        Lompoc          90      US  1579706976        93  34.64 -120.46   \n",
       "3       Qaanaaq           0      GL  1579706567        51  77.48  -69.36   \n",
       "4       Rikitea           0      PF  1579707159        79 -23.12 -134.97   \n",
       "..          ...         ...     ...         ...       ...    ...     ...   \n",
       "549  Soligalich         100      RU  1579707834        90  59.08   42.29   \n",
       "550        Dire         100      ML  1579707836        10  12.28  -10.97   \n",
       "551  Vila Velha          75      BR  1579707785        78 -20.33  -40.29   \n",
       "552     Tautira          42      PF  1579707838        74 -17.73 -149.15   \n",
       "553     Tafresh          69      IR  1579707839        84  34.69   50.01   \n",
       "\n",
       "     Max Temp  Wind Speed  \n",
       "0      -23.78        5.55  \n",
       "1       44.01        9.17  \n",
       "2       50.00        6.93  \n",
       "3      -12.69        7.49  \n",
       "4       77.88       10.87  \n",
       "..        ...         ...  \n",
       "549     26.37        8.86  \n",
       "550    104.22        2.51  \n",
       "551     81.00       13.87  \n",
       "552     78.80        9.17  \n",
       "553     25.90       16.60  \n",
       "\n",
       "[554 rows x 9 columns]"
      ]
     },
     "execution_count": 5,
     "metadata": {},
     "output_type": "execute_result"
    }
   ],
   "source": [
    "#export the city data into a csv\n",
    "#display the dataframe\n",
    "\n",
    "city_df = pd.DataFrame(city_info)\n",
    "\n",
    "city_df.to_csv('cities.csv', encoding=\"utf-8\", index_label=\"City_ID\")\n",
    "\n",
    "city_df"
   ]
  },
  {
   "cell_type": "code",
   "execution_count": 6,
   "metadata": {},
   "outputs": [
    {
     "data": {
      "image/png": "[encoded data removed]",
      "text/plain": [
       "<Figure size 432x288 with 1 Axes>"
      ]
     },
     "metadata": {
      "needs_background": "light"
     },
     "output_type": "display_data"
    }
   ],
   "source": [
    "#plot latitude v temperature\n",
    "x_values = city_df[\"Lat\"]\n",
    "y_values = city_df[\"Max Temp\"]\n",
    "plt.scatter(x_values, y_values, edgecolors=\"black\")\n",
    "plt.title(\"City Latitude vs Max Temperature (1/21/20)\")\n",
    "plt.xlabel(\"Latitude\")\n",
    "plt.ylabel(\"Max Temperature (F)\")\n",
    "plt.grid()\n",
    "\n",
    "\n",
    "#save scatter plot to Images Folder\n",
    "plt.savefig(os.path.join(\"Images\",\"Temp_v_Latitude.png\"))\n",
    "\n",
    "#for reference on setting limits:\n",
    "#plt.xlim(-50, 35)\n",
    "#plt.ylim(20, 100)"
   ]
  },
  {
   "cell_type": "markdown",
   "metadata": {},
   "source": [
    "**CODE:**  This code is utilizing www.openweathermap.org to gather data on cities around the globe.  We specifically called for info on city name, latitudes, longitudes, cloudiness, humidity, wind speed, country and date.  For the above scatter plot, we looked at max temperature versus the city latitude.\n",
    "\n",
    "**ANALYSIS:**  For testing purposes, we're looking at a small cluster, so it makes sense that the scatter plot is focused. "
   ]
  },
  {
   "cell_type": "code",
   "execution_count": 7,
   "metadata": {},
   "outputs": [
    {
     "data": {
      "image/png": "[encoded data removed]",
      "text/plain": [
       "<Figure size 432x288 with 1 Axes>"
      ]
     },
     "metadata": {
      "needs_background": "light"
     },
     "output_type": "display_data"
    }
   ],
   "source": [
    "#plot latitude v humidity\n",
    "x_values = city_df[\"Lat\"]\n",
    "y_values = city_df[\"Humidity\"]\n",
    "plt.scatter(x_values, y_values, edgecolors=\"black\")\n",
    "plt.title(\"City Latitude vs Humidity (DATE!)\")\n",
    "plt.xlabel(\"Latitude\")\n",
    "plt.ylabel(\"Humidity (%)\")\n",
    "plt.grid()\n",
    "\n",
    "\n",
    "#save scatter plot to Images Folder\n",
    "plt.savefig(os.path.join(\"Images\",\"Humidity_v_Latitude.png\"))"
   ]
  },
  {
   "cell_type": "markdown",
   "metadata": {},
   "source": [
    "**CODE:**  For the above scatter plot, we looked at humidity relative to city latitude.\n",
    "\n",
    "**ANALYSIS:**  For testing purposes, we're looking at a small cluster, so it makes sense that the scatter plot is focused. "
   ]
  },
  {
   "cell_type": "code",
   "execution_count": 8,
   "metadata": {},
   "outputs": [
    {
     "data": {
      "image/png": "[encoded data removed]",
      "text/plain": [
       "<Figure size 432x288 with 1 Axes>"
      ]
     },
     "metadata": {
      "needs_background": "light"
     },
     "output_type": "display_data"
    }
   ],
   "source": [
    "#plot latitude v cloudiness\n",
    "x_values = city_df[\"Lat\"]\n",
    "y_values = city_df[\"Cloudiness\"]\n",
    "plt.scatter(x_values, y_values, edgecolors=\"black\")\n",
    "plt.title(\"City Latitude vs Cloudiness (DATE!)\")\n",
    "plt.xlabel(\"Latitude\")\n",
    "plt.ylabel(\"Cloudiness (%)\")\n",
    "plt.grid()\n",
    "\n",
    "\n",
    "#save scatter plot to Images Folder\n",
    "plt.savefig(os.path.join(\"Images\",\"Cloudiness_v_Latitude.png\"))"
   ]
  },
  {
   "cell_type": "markdown",
   "metadata": {},
   "source": [
    "**CODE:**  For the above scatter plot, we looked at cloudiness versus the city latitude.\n",
    "\n",
    "**ANALYSIS:**  For testing purposes, we're looking at a small cluster, so it makes sense that the scatter plot is focused. "
   ]
  },
  {
   "cell_type": "code",
   "execution_count": 9,
   "metadata": {},
   "outputs": [
    {
     "data": {
      "image/png": "[encoded data removed]",
      "text/plain": [
       "<Figure size 432x288 with 1 Axes>"
      ]
     },
     "metadata": {
      "needs_background": "light"
     },
     "output_type": "display_data"
    }
   ],
   "source": [
    "#plot latitude v wind speed\n",
    "x_values = city_df[\"Lat\"]\n",
    "y_values = city_df[\"Wind Speed\"]\n",
    "plt.scatter(x_values, y_values, edgecolors=\"black\")\n",
    "plt.title(\"City Latitude vs Wind Speed (DATE)\")\n",
    "plt.xlabel(\"Latitude\")\n",
    "plt.ylabel(\"Wind Speed (mph)\")\n",
    "plt.grid()\n",
    "\n",
    "\n",
    "#save scatter plot to Images Folder\n",
    "plt.savefig(os.path.join(\"Images\",\"Wind_Speed_v_Latitude.png\"))"
   ]
  },
  {
   "cell_type": "markdown",
   "metadata": {},
   "source": [
    "**CODE:**  For the above scatter plot, we looked at wind speed versus the city latitude.\n",
    "\n",
    "**ANALYSIS:**  For testing purposes, we're looking at a small cluster, so it makes sense that the scatter plot is focused. "
   ]
  },
  {
   "cell_type": "code",
   "execution_count": 10,
   "metadata": {},
   "outputs": [],
   "source": [
    "#run linear regressions on the above relationships, by hemisphere\n",
    "#max temp (F) v latitude\n",
    "#humidity (%) v latitude\n",
    "#cloudiness (%) v latitude\n",
    "#wind speed (mph) v latitude"
   ]
  },
  {
   "cell_type": "code",
   "execution_count": 11,
   "metadata": {},
   "outputs": [
    {
     "data": {
      "text/html": [
       "<div>\n",
       "<style scoped>\n",
       "    .dataframe tbody tr th:only-of-type {\n",
       "        vertical-align: middle;\n",
       "    }\n",
       "\n",
       "    .dataframe tbody tr th {\n",
       "        vertical-align: top;\n",
       "    }\n",
       "\n",
       "    .dataframe thead th {\n",
       "        text-align: right;\n",
       "    }\n",
       "</style>\n",
       "<table border=\"1\" class=\"dataframe\">\n",
       "  <thead>\n",
       "    <tr style=\"text-align: right;\">\n",
       "      <th></th>\n",
       "      <th>City</th>\n",
       "      <th>Cloudiness</th>\n",
       "      <th>Country</th>\n",
       "      <th>Date</th>\n",
       "      <th>Humidity</th>\n",
       "      <th>Lat</th>\n",
       "      <th>Lng</th>\n",
       "      <th>Max Temp</th>\n",
       "      <th>Wind Speed</th>\n",
       "    </tr>\n",
       "  </thead>\n",
       "  <tbody>\n",
       "    <tr>\n",
       "      <td>0</td>\n",
       "      <td>Tiksi</td>\n",
       "      <td>100</td>\n",
       "      <td>RU</td>\n",
       "      <td>1579706571</td>\n",
       "      <td>85</td>\n",
       "      <td>71.69</td>\n",
       "      <td>128.87</td>\n",
       "      <td>-23.78</td>\n",
       "      <td>5.55</td>\n",
       "    </tr>\n",
       "    <tr>\n",
       "      <td>1</td>\n",
       "      <td>Canon City</td>\n",
       "      <td>1</td>\n",
       "      <td>US</td>\n",
       "      <td>1579707130</td>\n",
       "      <td>59</td>\n",
       "      <td>38.44</td>\n",
       "      <td>-105.24</td>\n",
       "      <td>44.01</td>\n",
       "      <td>9.17</td>\n",
       "    </tr>\n",
       "    <tr>\n",
       "      <td>2</td>\n",
       "      <td>Lompoc</td>\n",
       "      <td>90</td>\n",
       "      <td>US</td>\n",
       "      <td>1579706976</td>\n",
       "      <td>93</td>\n",
       "      <td>34.64</td>\n",
       "      <td>-120.46</td>\n",
       "      <td>50.00</td>\n",
       "      <td>6.93</td>\n",
       "    </tr>\n",
       "    <tr>\n",
       "      <td>3</td>\n",
       "      <td>Qaanaaq</td>\n",
       "      <td>0</td>\n",
       "      <td>GL</td>\n",
       "      <td>1579706567</td>\n",
       "      <td>51</td>\n",
       "      <td>77.48</td>\n",
       "      <td>-69.36</td>\n",
       "      <td>-12.69</td>\n",
       "      <td>7.49</td>\n",
       "    </tr>\n",
       "    <tr>\n",
       "      <td>4</td>\n",
       "      <td>Barinas</td>\n",
       "      <td>42</td>\n",
       "      <td>VE</td>\n",
       "      <td>1579707160</td>\n",
       "      <td>47</td>\n",
       "      <td>8.62</td>\n",
       "      <td>-70.21</td>\n",
       "      <td>87.82</td>\n",
       "      <td>9.04</td>\n",
       "    </tr>\n",
       "    <tr>\n",
       "      <td>...</td>\n",
       "      <td>...</td>\n",
       "      <td>...</td>\n",
       "      <td>...</td>\n",
       "      <td>...</td>\n",
       "      <td>...</td>\n",
       "      <td>...</td>\n",
       "      <td>...</td>\n",
       "      <td>...</td>\n",
       "      <td>...</td>\n",
       "    </tr>\n",
       "    <tr>\n",
       "      <td>385</td>\n",
       "      <td>Oddur</td>\n",
       "      <td>34</td>\n",
       "      <td>SO</td>\n",
       "      <td>1579707830</td>\n",
       "      <td>28</td>\n",
       "      <td>4.12</td>\n",
       "      <td>43.89</td>\n",
       "      <td>88.43</td>\n",
       "      <td>14.54</td>\n",
       "    </tr>\n",
       "    <tr>\n",
       "      <td>386</td>\n",
       "      <td>Port Blair</td>\n",
       "      <td>88</td>\n",
       "      <td>IN</td>\n",
       "      <td>1579707832</td>\n",
       "      <td>79</td>\n",
       "      <td>11.67</td>\n",
       "      <td>92.75</td>\n",
       "      <td>81.14</td>\n",
       "      <td>16.02</td>\n",
       "    </tr>\n",
       "    <tr>\n",
       "      <td>387</td>\n",
       "      <td>Soligalich</td>\n",
       "      <td>100</td>\n",
       "      <td>RU</td>\n",
       "      <td>1579707834</td>\n",
       "      <td>90</td>\n",
       "      <td>59.08</td>\n",
       "      <td>42.29</td>\n",
       "      <td>26.37</td>\n",
       "      <td>8.86</td>\n",
       "    </tr>\n",
       "    <tr>\n",
       "      <td>388</td>\n",
       "      <td>Dire</td>\n",
       "      <td>100</td>\n",
       "      <td>ML</td>\n",
       "      <td>1579707836</td>\n",
       "      <td>10</td>\n",
       "      <td>12.28</td>\n",
       "      <td>-10.97</td>\n",
       "      <td>104.22</td>\n",
       "      <td>2.51</td>\n",
       "    </tr>\n",
       "    <tr>\n",
       "      <td>389</td>\n",
       "      <td>Tafresh</td>\n",
       "      <td>69</td>\n",
       "      <td>IR</td>\n",
       "      <td>1579707839</td>\n",
       "      <td>84</td>\n",
       "      <td>34.69</td>\n",
       "      <td>50.01</td>\n",
       "      <td>25.90</td>\n",
       "      <td>16.60</td>\n",
       "    </tr>\n",
       "  </tbody>\n",
       "</table>\n",
       "<p>390 rows × 9 columns</p>\n",
       "</div>"
      ],
      "text/plain": [
       "           City  Cloudiness Country        Date  Humidity    Lat     Lng  \\\n",
       "0         Tiksi         100      RU  1579706571        85  71.69  128.87   \n",
       "1    Canon City           1      US  1579707130        59  38.44 -105.24   \n",
       "2        Lompoc          90      US  1579706976        93  34.64 -120.46   \n",
       "3       Qaanaaq           0      GL  1579706567        51  77.48  -69.36   \n",
       "4       Barinas          42      VE  1579707160        47   8.62  -70.21   \n",
       "..          ...         ...     ...         ...       ...    ...     ...   \n",
       "385       Oddur          34      SO  1579707830        28   4.12   43.89   \n",
       "386  Port Blair          88      IN  1579707832        79  11.67   92.75   \n",
       "387  Soligalich         100      RU  1579707834        90  59.08   42.29   \n",
       "388        Dire         100      ML  1579707836        10  12.28  -10.97   \n",
       "389     Tafresh          69      IR  1579707839        84  34.69   50.01   \n",
       "\n",
       "     Max Temp  Wind Speed  \n",
       "0      -23.78        5.55  \n",
       "1       44.01        9.17  \n",
       "2       50.00        6.93  \n",
       "3      -12.69        7.49  \n",
       "4       87.82        9.04  \n",
       "..        ...         ...  \n",
       "385     88.43       14.54  \n",
       "386     81.14       16.02  \n",
       "387     26.37        8.86  \n",
       "388    104.22        2.51  \n",
       "389     25.90       16.60  \n",
       "\n",
       "[390 rows x 9 columns]"
      ]
     },
     "execution_count": 11,
     "metadata": {},
     "output_type": "execute_result"
    }
   ],
   "source": [
    "#create northern hemisphere dataframe\n",
    "\n",
    "#logic test/conditional statement returns a series of boolean values; make sure on the right track\n",
    "northern_hem = city_df[\"Lat\"] >= 0\n",
    "\n",
    "#locate where the 'Lat' values are >= 0; reset index for cleaner formatting\n",
    "northern_df = city_df.loc[city_df[\"Lat\"] >= 0, :].reset_index()\n",
    "\n",
    "#get rid of newly created 'index' column resulting from above code\n",
    "northern_df = northern_df[[\"City\", \"Cloudiness\", \"Country\", \"Date\", \"Humidity\", \"Lat\", \"Lng\", \"Max Temp\", \"Wind Speed\"]]\n",
    "northern_df"
   ]
  },
  {
   "cell_type": "code",
   "execution_count": 12,
   "metadata": {},
   "outputs": [
    {
     "data": {
      "text/html": [
       "<div>\n",
       "<style scoped>\n",
       "    .dataframe tbody tr th:only-of-type {\n",
       "        vertical-align: middle;\n",
       "    }\n",
       "\n",
       "    .dataframe tbody tr th {\n",
       "        vertical-align: top;\n",
       "    }\n",
       "\n",
       "    .dataframe thead th {\n",
       "        text-align: right;\n",
       "    }\n",
       "</style>\n",
       "<table border=\"1\" class=\"dataframe\">\n",
       "  <thead>\n",
       "    <tr style=\"text-align: right;\">\n",
       "      <th></th>\n",
       "      <th>City</th>\n",
       "      <th>Cloudiness</th>\n",
       "      <th>Country</th>\n",
       "      <th>Date</th>\n",
       "      <th>Humidity</th>\n",
       "      <th>Lat</th>\n",
       "      <th>Lng</th>\n",
       "      <th>Max Temp</th>\n",
       "      <th>Wind Speed</th>\n",
       "    </tr>\n",
       "  </thead>\n",
       "  <tbody>\n",
       "    <tr>\n",
       "      <td>0</td>\n",
       "      <td>Rikitea</td>\n",
       "      <td>0</td>\n",
       "      <td>PF</td>\n",
       "      <td>1579707159</td>\n",
       "      <td>79</td>\n",
       "      <td>-23.12</td>\n",
       "      <td>-134.97</td>\n",
       "      <td>77.88</td>\n",
       "      <td>10.87</td>\n",
       "    </tr>\n",
       "    <tr>\n",
       "      <td>1</td>\n",
       "      <td>Kavieng</td>\n",
       "      <td>0</td>\n",
       "      <td>PG</td>\n",
       "      <td>1579706578</td>\n",
       "      <td>75</td>\n",
       "      <td>-2.57</td>\n",
       "      <td>150.80</td>\n",
       "      <td>83.01</td>\n",
       "      <td>10.29</td>\n",
       "    </tr>\n",
       "    <tr>\n",
       "      <td>2</td>\n",
       "      <td>Vanimo</td>\n",
       "      <td>30</td>\n",
       "      <td>PG</td>\n",
       "      <td>1579707165</td>\n",
       "      <td>81</td>\n",
       "      <td>-2.67</td>\n",
       "      <td>141.30</td>\n",
       "      <td>82.33</td>\n",
       "      <td>13.73</td>\n",
       "    </tr>\n",
       "    <tr>\n",
       "      <td>3</td>\n",
       "      <td>Vaini</td>\n",
       "      <td>40</td>\n",
       "      <td>TO</td>\n",
       "      <td>1579706566</td>\n",
       "      <td>100</td>\n",
       "      <td>-21.20</td>\n",
       "      <td>-175.20</td>\n",
       "      <td>73.40</td>\n",
       "      <td>1.12</td>\n",
       "    </tr>\n",
       "    <tr>\n",
       "      <td>4</td>\n",
       "      <td>Puerto Ayora</td>\n",
       "      <td>20</td>\n",
       "      <td>EC</td>\n",
       "      <td>1579707168</td>\n",
       "      <td>74</td>\n",
       "      <td>-0.74</td>\n",
       "      <td>-90.35</td>\n",
       "      <td>80.60</td>\n",
       "      <td>3.36</td>\n",
       "    </tr>\n",
       "    <tr>\n",
       "      <td>...</td>\n",
       "      <td>...</td>\n",
       "      <td>...</td>\n",
       "      <td>...</td>\n",
       "      <td>...</td>\n",
       "      <td>...</td>\n",
       "      <td>...</td>\n",
       "      <td>...</td>\n",
       "      <td>...</td>\n",
       "      <td>...</td>\n",
       "    </tr>\n",
       "    <tr>\n",
       "      <td>159</td>\n",
       "      <td>Saint-Pierre</td>\n",
       "      <td>100</td>\n",
       "      <td>RE</td>\n",
       "      <td>1579707298</td>\n",
       "      <td>94</td>\n",
       "      <td>-21.34</td>\n",
       "      <td>55.48</td>\n",
       "      <td>80.60</td>\n",
       "      <td>14.99</td>\n",
       "    </tr>\n",
       "    <tr>\n",
       "      <td>160</td>\n",
       "      <td>Ngunguru</td>\n",
       "      <td>0</td>\n",
       "      <td>NZ</td>\n",
       "      <td>1579707831</td>\n",
       "      <td>84</td>\n",
       "      <td>-35.62</td>\n",
       "      <td>174.50</td>\n",
       "      <td>60.01</td>\n",
       "      <td>7.00</td>\n",
       "    </tr>\n",
       "    <tr>\n",
       "      <td>161</td>\n",
       "      <td>Alice Springs</td>\n",
       "      <td>71</td>\n",
       "      <td>AU</td>\n",
       "      <td>1579707833</td>\n",
       "      <td>33</td>\n",
       "      <td>-23.70</td>\n",
       "      <td>133.88</td>\n",
       "      <td>89.60</td>\n",
       "      <td>5.82</td>\n",
       "    </tr>\n",
       "    <tr>\n",
       "      <td>162</td>\n",
       "      <td>Vila Velha</td>\n",
       "      <td>75</td>\n",
       "      <td>BR</td>\n",
       "      <td>1579707785</td>\n",
       "      <td>78</td>\n",
       "      <td>-20.33</td>\n",
       "      <td>-40.29</td>\n",
       "      <td>81.00</td>\n",
       "      <td>13.87</td>\n",
       "    </tr>\n",
       "    <tr>\n",
       "      <td>163</td>\n",
       "      <td>Tautira</td>\n",
       "      <td>42</td>\n",
       "      <td>PF</td>\n",
       "      <td>1579707838</td>\n",
       "      <td>74</td>\n",
       "      <td>-17.73</td>\n",
       "      <td>-149.15</td>\n",
       "      <td>78.80</td>\n",
       "      <td>9.17</td>\n",
       "    </tr>\n",
       "  </tbody>\n",
       "</table>\n",
       "<p>164 rows × 9 columns</p>\n",
       "</div>"
      ],
      "text/plain": [
       "              City  Cloudiness Country        Date  Humidity    Lat     Lng  \\\n",
       "0          Rikitea           0      PF  1579707159        79 -23.12 -134.97   \n",
       "1          Kavieng           0      PG  1579706578        75  -2.57  150.80   \n",
       "2           Vanimo          30      PG  1579707165        81  -2.67  141.30   \n",
       "3            Vaini          40      TO  1579706566       100 -21.20 -175.20   \n",
       "4     Puerto Ayora          20      EC  1579707168        74  -0.74  -90.35   \n",
       "..             ...         ...     ...         ...       ...    ...     ...   \n",
       "159   Saint-Pierre         100      RE  1579707298        94 -21.34   55.48   \n",
       "160       Ngunguru           0      NZ  1579707831        84 -35.62  174.50   \n",
       "161  Alice Springs          71      AU  1579707833        33 -23.70  133.88   \n",
       "162     Vila Velha          75      BR  1579707785        78 -20.33  -40.29   \n",
       "163        Tautira          42      PF  1579707838        74 -17.73 -149.15   \n",
       "\n",
       "     Max Temp  Wind Speed  \n",
       "0       77.88       10.87  \n",
       "1       83.01       10.29  \n",
       "2       82.33       13.73  \n",
       "3       73.40        1.12  \n",
       "4       80.60        3.36  \n",
       "..        ...         ...  \n",
       "159     80.60       14.99  \n",
       "160     60.01        7.00  \n",
       "161     89.60        5.82  \n",
       "162     81.00       13.87  \n",
       "163     78.80        9.17  \n",
       "\n",
       "[164 rows x 9 columns]"
      ]
     },
     "execution_count": 12,
     "metadata": {},
     "output_type": "execute_result"
    }
   ],
   "source": [
    "#create southern hemisphere dataframe\n",
    "\n",
    "#logic test for my own knowledge; not necessarily needed to create the dataframe\n",
    "southern_hem = city_df[\"Lat\"] < 0\n",
    "\n",
    "#create southern hemisphere dataframe\n",
    "southern_df = city_df.loc[city_df[\"Lat\"] < 0, :].reset_index()\n",
    "southern_df = southern_df[[\"City\", \"Cloudiness\", \"Country\", \"Date\", \"Humidity\", \"Lat\", \"Lng\", \"Max Temp\", \"Wind Speed\"]]\n",
    "southern_df"
   ]
  },
  {
   "cell_type": "code",
   "execution_count": 13,
   "metadata": {},
   "outputs": [
    {
     "data": {
      "text/plain": [
       "Text(0, 0.5, 'Max Temperature')"
      ]
     },
     "execution_count": 13,
     "metadata": {},
     "output_type": "execute_result"
    },
    {
     "data": {
      "image/png": "[encoded data removed]",
      "text/plain": [
       "<Figure size 432x288 with 1 Axes>"
      ]
     },
     "metadata": {
      "needs_background": "light"
     },
     "output_type": "display_data"
    }
   ],
   "source": [
    "#run linear regression on max temp v latitude (northern hemisphere)\n",
    "\n",
    "#first create scatter plot\n",
    "x_values = northern_df[\"Lat\"]\n",
    "y_values = northern_df[\"Max Temp\"]\n",
    "plt.scatter(x_values, y_values, edgecolors=\"black\")\n",
    "plt.xlabel(\"Latitude\")\n",
    "plt.ylabel(\"Max Temperature\")"
   ]
  },
  {
   "cell_type": "code",
   "execution_count": 14,
   "metadata": {},
   "outputs": [
    {
     "name": "stdout",
     "output_type": "stream",
     "text": [
      "0      -4.990240\n",
      "1      41.334321\n",
      "2      46.628557\n",
      "3     -13.056983\n",
      "4      82.880138\n",
      "         ...    \n",
      "385    89.149627\n",
      "386    78.630817\n",
      "387    12.578263\n",
      "388    77.780953\n",
      "389    46.558896\n",
      "Name: Lat, Length: 390, dtype: float64\n"
     ]
    }
   ],
   "source": [
    "#perform a linear regression on temp v lat\n",
    "(slope, intercept, rvalue, pvalue, stderr) = stats.linregress(x_values, y_values)\n",
    "\n",
    "#get regression values\n",
    "regress_values = x_values * slope + intercept\n",
    "print(regress_values)"
   ]
  },
  {
   "cell_type": "code",
   "execution_count": 15,
   "metadata": {},
   "outputs": [
    {
     "name": "stdout",
     "output_type": "stream",
     "text": [
      "y = -1.39x +94.89\n"
     ]
    }
   ],
   "source": [
    "#create line equation string\n",
    "line_eq = \"y = \" + str(round(slope,2)) + \"x +\" + str(round(intercept,2))\n",
    "print(line_eq)"
   ]
  },
  {
   "cell_type": "code",
   "execution_count": 16,
   "metadata": {},
   "outputs": [
    {
     "name": "stdout",
     "output_type": "stream",
     "text": [
      "The r-squared is: -0.8693581062591113\n"
     ]
    },
    {
     "data": {
      "image/png": "[encoded data removed]",
      "text/plain": [
       "<Figure size 432x288 with 1 Axes>"
      ]
     },
     "metadata": {
      "needs_background": "light"
     },
     "output_type": "display_data"
    },
    {
     "data": {
      "text/plain": [
       "<Figure size 432x288 with 0 Axes>"
      ]
     },
     "metadata": {},
     "output_type": "display_data"
    }
   ],
   "source": [
    "#create plot\n",
    "plt.scatter(x_values,y_values)\n",
    "plt.plot(x_values,regress_values,\"r-\")\n",
    "\n",
    "#label plot and annotate the line equation\n",
    "plt.xlabel('Latitude')\n",
    "plt.ylabel('Max Temp')\n",
    "plt.annotate(line_eq,(8,25),fontsize=15,color=\"red\")\n",
    "\n",
    "# Print r square value\n",
    "print(f\"The r-squared is: {rvalue}\")\n",
    "\n",
    "# Show plot\n",
    "plt.show()\n",
    "\n",
    "#save plot to images folder\n",
    "plt.savefig(os.path.join(\"Images\",\"Northern_Temp_v_Latitude.png\"))"
   ]
  },
  {
   "cell_type": "markdown",
   "metadata": {},
   "source": [
    "**ANALYSIS:** There appears to be an outlier; it shouldn't be in the data I don't think.  The rest are clustered appropriately."
   ]
  },
  {
   "cell_type": "code",
   "execution_count": 17,
   "metadata": {},
   "outputs": [
    {
     "data": {
      "text/plain": [
       "Text(0, 0.5, 'Max Temperature')"
      ]
     },
     "execution_count": 17,
     "metadata": {},
     "output_type": "execute_result"
    },
    {
     "data": {
      "image/png": "[encoded data removed]",
      "text/plain": [
       "<Figure size 432x288 with 1 Axes>"
      ]
     },
     "metadata": {
      "needs_background": "light"
     },
     "output_type": "display_data"
    }
   ],
   "source": [
    "#run linear regression on max temp v lat (southern hemisphere)\n",
    "\n",
    "#create scatter plot\n",
    "x_values = southern_df[\"Lat\"]\n",
    "y_values = southern_df[\"Max Temp\"]\n",
    "plt.scatter(x_values, y_values, edgecolors=\"black\")\n",
    "plt.xlabel(\"Latitude\")\n",
    "plt.ylabel(\"Max Temperature\")"
   ]
  },
  {
   "cell_type": "code",
   "execution_count": 18,
   "metadata": {},
   "outputs": [
    {
     "name": "stdout",
     "output_type": "stream",
     "text": [
      "0      75.398466\n",
      "1      82.865196\n",
      "2      82.828862\n",
      "3      76.096087\n",
      "4      83.530117\n",
      "         ...    \n",
      "159    76.045219\n",
      "160    70.856659\n",
      "161    75.187726\n",
      "162    76.412197\n",
      "163    77.356893\n",
      "Name: Lat, Length: 164, dtype: float64\n"
     ]
    }
   ],
   "source": [
    "#perform a linear regression on temp v lat\n",
    "(slope, intercept, rvalue, pvalue, stderr) = stats.linregress(x_values, y_values)\n",
    "\n",
    "#get regression values\n",
    "regress_values = x_values * slope + intercept\n",
    "print(regress_values)"
   ]
  },
  {
   "cell_type": "code",
   "execution_count": 19,
   "metadata": {},
   "outputs": [
    {
     "name": "stdout",
     "output_type": "stream",
     "text": [
      "y = 0.36x +83.8\n"
     ]
    }
   ],
   "source": [
    "#create line equation string\n",
    "line_eq = \"y = \" + str(round(slope,2)) + \"x +\" + str(round(intercept,2))\n",
    "print(line_eq)"
   ]
  },
  {
   "cell_type": "code",
   "execution_count": 20,
   "metadata": {},
   "outputs": [
    {
     "name": "stdout",
     "output_type": "stream",
     "text": [
      "The r-squared is: 0.5329929598400703\n"
     ]
    },
    {
     "data": {
      "image/png": "[encoded data removed]",
      "text/plain": [
       "<Figure size 432x288 with 1 Axes>"
      ]
     },
     "metadata": {
      "needs_background": "light"
     },
     "output_type": "display_data"
    },
    {
     "data": {
      "text/plain": [
       "<Figure size 432x288 with 0 Axes>"
      ]
     },
     "metadata": {},
     "output_type": "display_data"
    }
   ],
   "source": [
    "#create plot\n",
    "plt.scatter(x_values,y_values)\n",
    "plt.plot(x_values,regress_values,\"r-\")\n",
    "\n",
    "#label plot and annotate the line equation\n",
    "plt.xlabel('Latitude')\n",
    "plt.ylabel('Max Temp')\n",
    "plt.annotate(line_eq,(8,25),fontsize=15,color=\"red\")\n",
    "\n",
    "# Print r square value\n",
    "print(f\"The r-squared is: {rvalue}\")\n",
    "\n",
    "# Show plot\n",
    "plt.show()\n",
    "\n",
    "#save scatter plot to Images Folder\n",
    "plt.savefig(os.path.join(\"Images\",\"Southern_Temp_v_Latitude.png\"))"
   ]
  },
  {
   "cell_type": "markdown",
   "metadata": {},
   "source": [
    "**ANALYSIS:** This graph appears to be small due to the small data set.  I ran everything with the full range of lats and longs, and the graph appeared 'normal.\""
   ]
  },
  {
   "cell_type": "code",
   "execution_count": 21,
   "metadata": {},
   "outputs": [
    {
     "data": {
      "text/plain": [
       "Text(0, 0.5, 'Humidity')"
      ]
     },
     "execution_count": 21,
     "metadata": {},
     "output_type": "execute_result"
    },
    {
     "data": {
      "image/png": "[encoded data removed]",
      "text/plain": [
       "<Figure size 432x288 with 1 Axes>"
      ]
     },
     "metadata": {
      "needs_background": "light"
     },
     "output_type": "display_data"
    }
   ],
   "source": [
    "#run linear regression on humidity v lat (northern hemisphere)\n",
    "\n",
    "#create scatter plot\n",
    "x_values = northern_df[\"Lat\"]\n",
    "y_values = northern_df[\"Humidity\"]\n",
    "plt.scatter(x_values, y_values, edgecolors=\"black\")\n",
    "plt.xlabel(\"Latitude\")\n",
    "plt.ylabel(\"Humidity\")"
   ]
  },
  {
   "cell_type": "code",
   "execution_count": 22,
   "metadata": {},
   "outputs": [
    {
     "name": "stdout",
     "output_type": "stream",
     "text": [
      "0      87.942943\n",
      "1      72.970955\n",
      "2      71.259870\n",
      "3      90.550096\n",
      "4      59.543445\n",
      "         ...    \n",
      "385    57.517160\n",
      "386    60.916815\n",
      "387    82.264845\n",
      "388    61.191489\n",
      "389    71.282384\n",
      "Name: Lat, Length: 390, dtype: float64\n"
     ]
    }
   ],
   "source": [
    "#perform a linear regression on humidity v lat\n",
    "(slope, intercept, rvalue, pvalue, stderr) = stats.linregress(x_values, y_values)\n",
    "\n",
    "#get regression values\n",
    "regress_values = x_values * slope + intercept\n",
    "print(regress_values)"
   ]
  },
  {
   "cell_type": "code",
   "execution_count": 23,
   "metadata": {},
   "outputs": [
    {
     "name": "stdout",
     "output_type": "stream",
     "text": [
      "y = 0.45x +55.66\n"
     ]
    }
   ],
   "source": [
    "#create line equation string\n",
    "line_eq = \"y = \" + str(round(slope,2)) + \"x +\" + str(round(intercept,2))\n",
    "print(line_eq)"
   ]
  },
  {
   "cell_type": "code",
   "execution_count": 24,
   "metadata": {},
   "outputs": [
    {
     "name": "stdout",
     "output_type": "stream",
     "text": [
      "The r-squared is: 0.419514460775526\n"
     ]
    },
    {
     "data": {
      "image/png": "[encoded data removed]",
      "text/plain": [
       "<Figure size 432x288 with 1 Axes>"
      ]
     },
     "metadata": {
      "needs_background": "light"
     },
     "output_type": "display_data"
    },
    {
     "data": {
      "text/plain": [
       "<Figure size 432x288 with 0 Axes>"
      ]
     },
     "metadata": {},
     "output_type": "display_data"
    }
   ],
   "source": [
    "#create Plot\n",
    "plt.scatter(x_values,y_values)\n",
    "plt.plot(x_values,regress_values,\"r-\")\n",
    "\n",
    "#label plot and annotate the line equation\n",
    "plt.xlabel('Latitude')\n",
    "plt.ylabel('Humidity')\n",
    "plt.annotate(line_eq,(20,40),fontsize=15,color=\"red\")\n",
    "\n",
    "# Print r square value\n",
    "print(f\"The r-squared is: {rvalue}\")\n",
    "\n",
    "# Show plot\n",
    "plt.show()\n",
    "\n",
    "#save plot to images folder\n",
    "plt.savefig(os.path.join(\"Images\",\"Northern_Humidity_v_Latitude.png\"))"
   ]
  },
  {
   "cell_type": "markdown",
   "metadata": {},
   "source": [
    "**ANALYSIS:**  Again we have that outlier.  A spread of temps, concentrated latitudes."
   ]
  },
  {
   "cell_type": "code",
   "execution_count": 25,
   "metadata": {},
   "outputs": [
    {
     "data": {
      "text/plain": [
       "Text(0, 0.5, 'Humidity')"
      ]
     },
     "execution_count": 25,
     "metadata": {},
     "output_type": "execute_result"
    },
    {
     "data": {
      "image/png": "[encoded data removed]",
      "text/plain": [
       "<Figure size 432x288 with 1 Axes>"
      ]
     },
     "metadata": {
      "needs_background": "light"
     },
     "output_type": "display_data"
    }
   ],
   "source": [
    "#plot linear regression on humidity v lat (southern hemisphere)\n",
    "\n",
    "#create scatter plot\n",
    "x_values = southern_df[\"Lat\"]\n",
    "y_values = southern_df[\"Humidity\"]\n",
    "plt.scatter(x_values, y_values, edgecolors=\"black\")\n",
    "plt.xlabel(\"Latitude\")\n",
    "plt.ylabel(\"Humidity\")"
   ]
  },
  {
   "cell_type": "code",
   "execution_count": 26,
   "metadata": {},
   "outputs": [
    {
     "name": "stdout",
     "output_type": "stream",
     "text": [
      "0      73.776620\n",
      "1      76.443431\n",
      "2      76.430453\n",
      "3      74.025782\n",
      "4      76.680913\n",
      "         ...    \n",
      "159    74.007614\n",
      "160    72.154473\n",
      "161    73.701353\n",
      "162    74.138684\n",
      "163    74.476090\n",
      "Name: Lat, Length: 164, dtype: float64\n"
     ]
    }
   ],
   "source": [
    "#perform a linear regression on humidity vs. latitude\n",
    "(slope, intercept, rvalue, pvalue, stderr) = stats.linregress(x_values, y_values)\n",
    "\n",
    "#get regression values\n",
    "regress_values = x_values * slope + intercept\n",
    "print(regress_values)"
   ]
  },
  {
   "cell_type": "code",
   "execution_count": 27,
   "metadata": {},
   "outputs": [
    {
     "name": "stdout",
     "output_type": "stream",
     "text": [
      "y = 0.13x +76.78\n"
     ]
    }
   ],
   "source": [
    "#create line equation string\n",
    "line_eq = \"y = \" + str(round(slope,2)) + \"x +\" + str(round(intercept,2))\n",
    "print(line_eq)"
   ]
  },
  {
   "cell_type": "code",
   "execution_count": 28,
   "metadata": {},
   "outputs": [
    {
     "name": "stdout",
     "output_type": "stream",
     "text": [
      "The r-squared is: 0.09430570205126637\n"
     ]
    },
    {
     "data": {
      "image/png": "[encoded data removed]",
      "text/plain": [
       "<Figure size 432x288 with 1 Axes>"
      ]
     },
     "metadata": {
      "needs_background": "light"
     },
     "output_type": "display_data"
    },
    {
     "data": {
      "text/plain": [
       "<Figure size 432x288 with 0 Axes>"
      ]
     },
     "metadata": {},
     "output_type": "display_data"
    }
   ],
   "source": [
    "#create plot\n",
    "plt.scatter(x_values,y_values)\n",
    "plt.plot(x_values,regress_values,\"r-\")\n",
    "\n",
    "#label plot and annotate the line equation\n",
    "plt.xlabel('Latitude')\n",
    "plt.ylabel('Humidity')\n",
    "plt.annotate(line_eq,(20,40),fontsize=15,color=\"red\")\n",
    "\n",
    "# Print r square value\n",
    "print(f\"The r-squared is: {rvalue}\")\n",
    "\n",
    "# Show plot\n",
    "plt.show()\n",
    "\n",
    "#save to Images Folder\n",
    "plt.savefig(os.path.join(\"Images\",\"Southern_Humidity_v_Latitude.png\"))"
   ]
  },
  {
   "cell_type": "markdown",
   "metadata": {},
   "source": [
    "**ANALYSIS:**  Again, our graph comes up very small.  Will want to do another check after I create the rest!"
   ]
  },
  {
   "cell_type": "code",
   "execution_count": 29,
   "metadata": {},
   "outputs": [
    {
     "data": {
      "text/plain": [
       "Text(0, 0.5, 'Cloudiness')"
      ]
     },
     "execution_count": 29,
     "metadata": {},
     "output_type": "execute_result"
    },
    {
     "data": {
      "image/png": "[encoded data removed]",
      "text/plain": [
       "<Figure size 432x288 with 1 Axes>"
      ]
     },
     "metadata": {
      "needs_background": "light"
     },
     "output_type": "display_data"
    }
   ],
   "source": [
    "#plot cloudiness v lat linear regression (northern hemisphere)\n",
    "\n",
    "x_values = northern_df[\"Lat\"]\n",
    "y_values = northern_df[\"Cloudiness\"]\n",
    "plt.scatter(x_values, y_values, edgecolors=\"black\")\n",
    "plt.xlabel(\"Latitude\")\n",
    "plt.ylabel(\"Cloudiness\")"
   ]
  },
  {
   "cell_type": "code",
   "execution_count": 30,
   "metadata": {},
   "outputs": [
    {
     "name": "stdout",
     "output_type": "stream",
     "text": [
      "0      77.088325\n",
      "1      56.880287\n",
      "2      54.570797\n",
      "3      80.607258\n",
      "4      38.756867\n",
      "         ...    \n",
      "385    36.021945\n",
      "386    40.610537\n",
      "387    69.424464\n",
      "388    40.981271\n",
      "389    54.601185\n",
      "Name: Lat, Length: 390, dtype: float64\n"
     ]
    }
   ],
   "source": [
    "#perform a linear regression on humidity vs. latitude\n",
    "(slope, intercept, rvalue, pvalue, stderr) = stats.linregress(x_values, y_values)\n",
    "\n",
    "#get regression values\n",
    "regress_values = x_values * slope + intercept\n",
    "print(regress_values)"
   ]
  },
  {
   "cell_type": "code",
   "execution_count": 31,
   "metadata": {},
   "outputs": [
    {
     "name": "stdout",
     "output_type": "stream",
     "text": [
      "y = 0.61x +33.52\n"
     ]
    }
   ],
   "source": [
    "#create line equation string\n",
    "line_eq = \"y = \" + str(round(slope,2)) + \"x +\" + str(round(intercept,2))\n",
    "print(line_eq)"
   ]
  },
  {
   "cell_type": "code",
   "execution_count": 32,
   "metadata": {},
   "outputs": [
    {
     "name": "stdout",
     "output_type": "stream",
     "text": [
      "The r-squared is: 0.3133702816586716\n"
     ]
    },
    {
     "data": {
      "image/png": "[encoded data removed]",
      "text/plain": [
       "<Figure size 432x288 with 1 Axes>"
      ]
     },
     "metadata": {
      "needs_background": "light"
     },
     "output_type": "display_data"
    },
    {
     "data": {
      "text/plain": [
       "<Figure size 432x288 with 0 Axes>"
      ]
     },
     "metadata": {},
     "output_type": "display_data"
    }
   ],
   "source": [
    "#create Plot\n",
    "plt.scatter(x_values,y_values)\n",
    "plt.plot(x_values,regress_values,\"r-\")\n",
    "\n",
    "#label plot and annotate the line equation\n",
    "plt.xlabel('Latitude')\n",
    "plt.ylabel('Cloudiness')\n",
    "plt.annotate(line_eq,(20,40),fontsize=15,color=\"red\")\n",
    "\n",
    "# Print r square value\n",
    "print(f\"The r-squared is: {rvalue}\")\n",
    "\n",
    "# Show plot\n",
    "plt.show()\n",
    "\n",
    "\n",
    "#save scatter plot to Images Folder\n",
    "plt.savefig(os.path.join(\"Images\",\"Northern_Cloudiness_v_Latitude.png\"))"
   ]
  },
  {
   "cell_type": "markdown",
   "metadata": {},
   "source": [
    "**ANALYSIS:** This graph is normal size!"
   ]
  },
  {
   "cell_type": "code",
   "execution_count": 33,
   "metadata": {},
   "outputs": [
    {
     "data": {
      "text/plain": [
       "Text(0, 0.5, 'Cloudiness')"
      ]
     },
     "execution_count": 33,
     "metadata": {},
     "output_type": "execute_result"
    },
    {
     "data": {
      "image/png": "[encoded data removed]",
      "text/plain": [
       "<Figure size 432x288 with 1 Axes>"
      ]
     },
     "metadata": {
      "needs_background": "light"
     },
     "output_type": "display_data"
    }
   ],
   "source": [
    "#plot cloudiness v lat linear regression (southern hemisphere)\n",
    "\n",
    "x_values = southern_df[\"Lat\"]\n",
    "y_values = southern_df[\"Cloudiness\"]\n",
    "plt.scatter(x_values, y_values, edgecolors=\"black\")\n",
    "plt.xlabel(\"Latitude\")\n",
    "plt.ylabel(\"Cloudiness\")"
   ]
  },
  {
   "cell_type": "code",
   "execution_count": 34,
   "metadata": {},
   "outputs": [
    {
     "name": "stdout",
     "output_type": "stream",
     "text": [
      "0      61.370481\n",
      "1      71.617819\n",
      "2      71.567954\n",
      "3      62.327896\n",
      "4      72.530356\n",
      "         ...    \n",
      "159    62.258085\n",
      "160    55.137307\n",
      "161    61.081262\n",
      "162    62.761725\n",
      "163    64.058226\n",
      "Name: Lat, Length: 164, dtype: float64\n"
     ]
    }
   ],
   "source": [
    "#perform a linear regression on cloudiness v lat\n",
    "(slope, intercept, rvalue, pvalue, stderr) = stats.linregress(x_values, y_values)\n",
    "\n",
    "#get regression values\n",
    "regress_values = x_values * slope + intercept\n",
    "print(regress_values)"
   ]
  },
  {
   "cell_type": "code",
   "execution_count": 35,
   "metadata": {},
   "outputs": [
    {
     "name": "stdout",
     "output_type": "stream",
     "text": [
      "y = 0.5x +72.9\n"
     ]
    }
   ],
   "source": [
    "#create line equation string\n",
    "line_eq = \"y = \" + str(round(slope,2)) + \"x +\" + str(round(intercept,2))\n",
    "print(line_eq)"
   ]
  },
  {
   "cell_type": "code",
   "execution_count": 36,
   "metadata": {},
   "outputs": [
    {
     "name": "stdout",
     "output_type": "stream",
     "text": [
      "The r-squared is: 0.19317910951573186\n"
     ]
    },
    {
     "data": {
      "image/png": "[encoded data removed]",
      "text/plain": [
       "<Figure size 432x288 with 1 Axes>"
      ]
     },
     "metadata": {
      "needs_background": "light"
     },
     "output_type": "display_data"
    },
    {
     "data": {
      "text/plain": [
       "<Figure size 432x288 with 0 Axes>"
      ]
     },
     "metadata": {},
     "output_type": "display_data"
    }
   ],
   "source": [
    "#create Plot\n",
    "plt.scatter(x_values,y_values)\n",
    "plt.plot(x_values,regress_values,\"r-\")\n",
    "\n",
    "#label plot and annotate the line equation\n",
    "plt.xlabel('Latitude')\n",
    "plt.ylabel('Cloudiness')\n",
    "plt.annotate(line_eq,(20,40),fontsize=15,color=\"red\")\n",
    "\n",
    "# Print r square value\n",
    "print(f\"The r-squared is: {rvalue}\")\n",
    "\n",
    "# Show plot\n",
    "plt.show()\n",
    "\n",
    "#save scatter plot to Images Folder\n",
    "plt.savefig(os.path.join(\"Images\",\"Southern_Cloudiness_v_Latitude.png\"))"
   ]
  },
  {
   "cell_type": "markdown",
   "metadata": {},
   "source": [
    "**ANALYSIS:** Again the graph is very small.  Will need to check by running a larger sample.\n"
   ]
  },
  {
   "cell_type": "code",
   "execution_count": 37,
   "metadata": {},
   "outputs": [
    {
     "data": {
      "text/plain": [
       "Text(0, 0.5, 'Wind Speed')"
      ]
     },
     "execution_count": 37,
     "metadata": {},
     "output_type": "execute_result"
    },
    {
     "data": {
      "image/png": "[encoded data removed]",
      "text/plain": [
       "<Figure size 432x288 with 1 Axes>"
      ]
     },
     "metadata": {
      "needs_background": "light"
     },
     "output_type": "display_data"
    }
   ],
   "source": [
    "#plot wind speed v lat linear regression (northern hemisphere)\n",
    "\n",
    "x_values = northern_df[\"Lat\"]\n",
    "y_values = northern_df[\"Wind Speed\"]\n",
    "plt.scatter(x_values, y_values, edgecolors=\"black\")\n",
    "plt.xlabel(\"Latitude\")\n",
    "plt.ylabel(\"Wind Speed\")"
   ]
  },
  {
   "cell_type": "code",
   "execution_count": 38,
   "metadata": {},
   "outputs": [
    {
     "name": "stdout",
     "output_type": "stream",
     "text": [
      "0      11.303621\n",
      "1       9.501834\n",
      "2       9.295916\n",
      "3      11.617376\n",
      "4       7.885916\n",
      "         ...    \n",
      "385     7.642065\n",
      "386     8.051193\n",
      "387    10.620297\n",
      "388     8.084248\n",
      "389     9.298625\n",
      "Name: Lat, Length: 390, dtype: float64\n"
     ]
    }
   ],
   "source": [
    "#perform a linear regression on wind speed v lat\n",
    "(slope, intercept, rvalue, pvalue, stderr) = stats.linregress(x_values, y_values)\n",
    "\n",
    "#get regression values\n",
    "regress_values = x_values * slope + intercept\n",
    "print(regress_values)"
   ]
  },
  {
   "cell_type": "code",
   "execution_count": 39,
   "metadata": {},
   "outputs": [
    {
     "name": "stdout",
     "output_type": "stream",
     "text": [
      "y = 0.05x +7.42\n"
     ]
    }
   ],
   "source": [
    "#create line equation string\n",
    "line_eq = \"y = \" + str(round(slope,2)) + \"x +\" + str(round(intercept,2))\n",
    "print(line_eq)"
   ]
  },
  {
   "cell_type": "code",
   "execution_count": 40,
   "metadata": {},
   "outputs": [
    {
     "name": "stdout",
     "output_type": "stream",
     "text": [
      "The r-squared is: 0.11598637328050583\n"
     ]
    },
    {
     "data": {
      "image/png": "[encoded data removed]",
      "text/plain": [
       "<Figure size 432x288 with 1 Axes>"
      ]
     },
     "metadata": {
      "needs_background": "light"
     },
     "output_type": "display_data"
    },
    {
     "data": {
      "text/plain": [
       "<Figure size 432x288 with 0 Axes>"
      ]
     },
     "metadata": {},
     "output_type": "display_data"
    }
   ],
   "source": [
    "#create Plot\n",
    "plt.scatter(x_values,y_values)\n",
    "plt.plot(x_values,regress_values,\"r-\")\n",
    "\n",
    "#label plot and annotate the line equation\n",
    "plt.xlabel('Latitude')\n",
    "plt.ylabel('Wind Speed')\n",
    "plt.annotate(line_eq,(15,8),fontsize=15,color=\"red\")\n",
    "\n",
    "# Print r square value\n",
    "print(f\"The r-squared is: {rvalue}\")\n",
    "\n",
    "# Show plot\n",
    "plt.show()\n",
    "\n",
    "#save scatter plot to Images Folder\n",
    "plt.savefig(os.path.join(\"Images\",\"Northern_WindSpeed_v_Latitude.png\"))"
   ]
  },
  {
   "cell_type": "markdown",
   "metadata": {},
   "source": [
    "**ANALYSIS:** This graph appears to be normal sized.  The outlier is still there."
   ]
  },
  {
   "cell_type": "code",
   "execution_count": 41,
   "metadata": {},
   "outputs": [
    {
     "data": {
      "text/plain": [
       "Text(0, 0.5, 'Wind Speed')"
      ]
     },
     "execution_count": 41,
     "metadata": {},
     "output_type": "execute_result"
    },
    {
     "data": {
      "image/png": "[encoded data removed]",
      "text/plain": [
       "<Figure size 432x288 with 1 Axes>"
      ]
     },
     "metadata": {
      "needs_background": "light"
     },
     "output_type": "display_data"
    }
   ],
   "source": [
    "#plot wind speed v lat linear regression (southern hemisphere)\n",
    "\n",
    "x_values = southern_df[\"Lat\"]\n",
    "y_values = southern_df[\"Wind Speed\"]\n",
    "plt.scatter(x_values, y_values, edgecolors=\"black\")\n",
    "plt.xlabel(\"Latitude\")\n",
    "plt.ylabel(\"Wind Speed\")"
   ]
  },
  {
   "cell_type": "code",
   "execution_count": 42,
   "metadata": {},
   "outputs": [
    {
     "name": "stdout",
     "output_type": "stream",
     "text": [
      "0       9.757627\n",
      "1       7.217950\n",
      "2       7.230308\n",
      "3       9.520343\n",
      "4       6.991789\n",
      "         ...    \n",
      "159     9.537645\n",
      "160    11.302443\n",
      "161     9.829306\n",
      "162     9.412824\n",
      "163     9.091502\n",
      "Name: Lat, Length: 164, dtype: float64\n"
     ]
    }
   ],
   "source": [
    "#perform a linear regression on wind speed v lat\n",
    "(slope, intercept, rvalue, pvalue, stderr) = stats.linregress(x_values, y_values)\n",
    "\n",
    "#get regression values\n",
    "regress_values = x_values * slope + intercept\n",
    "print(regress_values)"
   ]
  },
  {
   "cell_type": "code",
   "execution_count": 43,
   "metadata": {},
   "outputs": [
    {
     "name": "stdout",
     "output_type": "stream",
     "text": [
      "y = -0.12x +6.9\n"
     ]
    }
   ],
   "source": [
    "#create line equation string\n",
    "line_eq = \"y = \" + str(round(slope,2)) + \"x +\" + str(round(intercept,2))\n",
    "print(line_eq)"
   ]
  },
  {
   "cell_type": "code",
   "execution_count": 44,
   "metadata": {},
   "outputs": [
    {
     "name": "stdout",
     "output_type": "stream",
     "text": [
      "The r-squared is: -0.29902595165976176\n"
     ]
    },
    {
     "data": {
      "image/png": "[encoded data removed]",
      "text/plain": [
       "<Figure size 432x288 with 1 Axes>"
      ]
     },
     "metadata": {
      "needs_background": "light"
     },
     "output_type": "display_data"
    },
    {
     "data": {
      "text/plain": [
       "<Figure size 432x288 with 0 Axes>"
      ]
     },
     "metadata": {},
     "output_type": "display_data"
    }
   ],
   "source": [
    "#create plot\n",
    "plt.scatter(x_values,y_values)\n",
    "plt.plot(x_values,regress_values,\"r-\")\n",
    "\n",
    "#label plot and annotate the line equation\n",
    "plt.xlabel('Latitude')\n",
    "plt.ylabel('Wind Speed')\n",
    "plt.annotate(line_eq,(15,8),fontsize=15,color=\"red\")\n",
    "\n",
    "# Print r square value\n",
    "print(f\"The r-squared is: {rvalue}\")\n",
    "\n",
    "# Show plot\n",
    "plt.show()\n",
    "\n",
    "#save scatter plot to images folder\n",
    "plt.savefig(os.path.join(\"Images\",\"Southern_WindSpeed_v_Latitude.png\"))"
   ]
  },
  {
   "cell_type": "markdown",
   "metadata": {},
   "source": [
    "**ANALYSIS:** Again the graph is small, but I bet this will change when I broaden my lat and lng scope."
   ]
  },
  {
   "cell_type": "code",
   "execution_count": null,
   "metadata": {},
   "outputs": [],
   "source": []
  }
 ],
 "metadata": {
  "kernelspec": {
   "display_name": "Python 3",
   "language": "python",
   "name": "python3"
  },
  "language_info": {
   "codemirror_mode": {
    "name": "ipython",
    "version": 3
   },
   "file_extension": ".py",
   "mimetype": "text/x-python",
   "name": "python",
   "nbconvert_exporter": "python",
   "pygments_lexer": "ipython3",
   "version": "3.7.4"
  }
 },
 "nbformat": 4,
 "nbformat_minor": 2
}
