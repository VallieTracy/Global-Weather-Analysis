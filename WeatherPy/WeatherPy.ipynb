{
 "cells": [
  {
   "cell_type": "markdown",
   "metadata": {},
   "source": [
    "Three Observable Trends\n",
    "------------------------------------\n",
    "    1.)\n",
    "    2.)\n",
    "    3.)"
   ]
  },
  {
   "cell_type": "code",
   "execution_count": 1,
   "metadata": {},
   "outputs": [],
   "source": [
    "#dependencies and Setup\n",
    "import matplotlib.pyplot as plt\n",
    "import pandas as pd\n",
    "import numpy as np\n",
    "import requests\n",
    "import time\n",
    "import os\n",
    "from scipy.stats import linregress\n",
    "from scipy import stats\n",
    "\n",
    "#import api key\n",
    "from config import weather_api_key\n",
    "\n",
    "#incorporated citipy to determine city based on latitude and longitude\n",
    "from citipy import citipy\n",
    "\n",
    "#output file (csv)\n",
    "output_data_file = \"output_data/cities.csv\"\n",
    "\n",
    "#range of latitudes and longitudes\n",
    "#lat_range = (-90, 90)\n",
    "#lng_range = (-180, 180)\n",
    "lat_range = (-10, 4)\n",
    "lng_range = (1, 2)\n",
    "\n",
    "#formatting for bold text\n",
    "class color:\n",
    "   BOLD = '\\033[1m'\n",
    "   END = '\\033[0m'"
   ]
  },
  {
   "cell_type": "code",
   "execution_count": 2,
   "metadata": {},
   "outputs": [
    {
     "data": {
      "text/plain": [
       "{'coord': {'lon': -93.26, 'lat': 44.98},\n",
       " 'weather': [{'id': 500,\n",
       "   'main': 'Rain',\n",
       "   'description': 'light rain',\n",
       "   'icon': '10n'},\n",
       "  {'id': 701, 'main': 'Mist', 'description': 'mist', 'icon': '50n'}],\n",
       " 'base': 'stations',\n",
       " 'main': {'temp': 30.51,\n",
       "  'feels_like': 24.76,\n",
       "  'temp_min': 28,\n",
       "  'temp_max': 32,\n",
       "  'pressure': 1018,\n",
       "  'humidity': 98},\n",
       " 'visibility': 6437,\n",
       " 'wind': {'speed': 3.36, 'deg': 20},\n",
       " 'snow': {'1h': 0.25},\n",
       " 'clouds': {'all': 90},\n",
       " 'dt': 1579838601,\n",
       " 'sys': {'type': 1,\n",
       "  'id': 5829,\n",
       "  'country': 'US',\n",
       "  'sunrise': 1579786935,\n",
       "  'sunset': 1579820819},\n",
       " 'timezone': -21600,\n",
       " 'id': 5037649,\n",
       " 'name': 'Minneapolis',\n",
       " 'cod': 200}"
      ]
     },
     "execution_count": 2,
     "metadata": {},
     "output_type": "execute_result"
    }
   ],
   "source": [
    "#printing out the minneapolis json to see the data\n",
    "url = \"http://api.openweathermap.org/data/2.5/weather?\"\n",
    "units = \"imperial\"\n",
    "query_url = f\"{url}appid={weather_api_key}&units={units}&q=\"\n",
    "response = requests.get(query_url + \"minneapolis\").json()\n",
    "response"
   ]
  },
  {
   "cell_type": "code",
   "execution_count": 3,
   "metadata": {},
   "outputs": [
    {
     "data": {
      "text/plain": [
       "9"
      ]
     },
     "execution_count": 3,
     "metadata": {},
     "output_type": "execute_result"
    }
   ],
   "source": [
    "#List for holding lat_lngs and cities\n",
    "lat_lngs = []\n",
    "cities = []\n",
    "\n",
    "#create a set of random lat and lng combinations\n",
    "lats = np.random.uniform(low=-10.000, high=4.000, size=1500)\n",
    "lngs = np.random.uniform(low=1.000, high=2.000, size=1500)\n",
    "lat_lngs = zip(lats, lngs)\n",
    "\n",
    "# Add a one second interval between queries to stay within API query limits\n",
    "time.sleep(1)\n",
    "\n",
    "#identify nearest city for each lat, lng combination\n",
    "for lat_lng in lat_lngs:\n",
    "    city = citipy.nearest_city(lat_lng[0], lat_lng[1]).city_name\n",
    "    \n",
    "    # If the city is unique, then add it to a our cities list\n",
    "    if city not in cities:\n",
    "        cities.append(city)\n",
    "\n",
    "#print the city count to confirm sufficient count\n",
    "len(cities)"
   ]
  },
  {
   "cell_type": "code",
   "execution_count": 4,
   "metadata": {},
   "outputs": [
    {
     "name": "stdout",
     "output_type": "stream",
     "text": [
      "Beginning Data Retrieval\n",
      "--------------------------------\n",
      "Processing Record 1 of Set 1 | port-gentil\n",
      "Processing Record 2 of Set 1 | anloga\n",
      "Processing Record 3 of Set 1 | mumford\n",
      "Processing Record 4 of Set 1 | omboue\n",
      "Processing Record 5 of Set 1 | jamestown\n",
      "Processing Record 6 of Set 1 | takoradi\n",
      "Processing Record 7 of Set 1 | gamba\n",
      "Processing Record 8 of Set 1 | winneba\n",
      "Processing Record 9 of Set 1 | teshie\n",
      "------------------------\n",
      "Data Retrieval Complete\n",
      "------------------------\n"
     ]
    }
   ],
   "source": [
    "#Perform API Calls\n",
    "#write something more descriptive...\n",
    "\n",
    "#base url\n",
    "url = \"http://api.openweathermap.org/data/2.5/weather?\"\n",
    "units = \"imperial\"\n",
    "#build partial query url\n",
    "query_url = f\"{url}appid={weather_api_key}&units={units}&q=\"\n",
    "\n",
    "city_info = []\n",
    "\n",
    "#in order to print the print log according to how the homework looks (change comment before final draft)\n",
    "i = 1\n",
    "set_number = 1\n",
    "\n",
    "print(\"Beginning Data Retrieval\") \n",
    "print(\"--------------------------------\")\n",
    "\n",
    "for j, city in enumerate(cities):\n",
    "    \n",
    "    if (j % 50 == 0 and j >= 50):\n",
    "        set_number = set_number + 1\n",
    "        i = 0\n",
    "    print(f\"Processing Record {i} of Set {set_number} | {city}\")\n",
    "    i=i+1\n",
    "   \n",
    "    response = requests.get(query_url + city).json()\n",
    "    \n",
    "    # Add a one second interval between queries to stay within API query limits\n",
    "    time.sleep(1)\n",
    "    \n",
    "    try:\n",
    "        lat = response['coord']['lat']\n",
    "        name = response['name']\n",
    "        cloudiness = response['clouds']['all']\n",
    "        country = response['sys']['country']\n",
    "        date = response['dt']\n",
    "        humidity = response['main']['humidity']\n",
    "        lngs = response['coord']['lon']\n",
    "        max_temp = response['main']['temp_max']\n",
    "        wind_speed = response['wind']['speed']\n",
    "        city_info.append({\"City\": name,\n",
    "                          \"Cloudiness\": cloudiness,\n",
    "                          \"Country\": country,\n",
    "                          \"Date\": date,\n",
    "                          \"Humidity\": humidity,\n",
    "                          \"Lat\": lat,\n",
    "                          \"Lng\": lngs,\n",
    "                          \"Max Temp\": max_temp,\n",
    "                          \"Wind Speed\": wind_speed})\n",
    "    except:\n",
    "        print(\"City \" + color.BOLD + \"not \" + color.END + \"found. Skipping...\")\n",
    "        pass\n",
    "\n",
    "print(\"------------------------\")\n",
    "print(\"Data Retrieval Complete\")\n",
    "print(\"------------------------\")"
   ]
  },
  {
   "cell_type": "code",
   "execution_count": 5,
   "metadata": {},
   "outputs": [
    {
     "data": {
      "text/html": [
       "<div>\n",
       "<style scoped>\n",
       "    .dataframe tbody tr th:only-of-type {\n",
       "        vertical-align: middle;\n",
       "    }\n",
       "\n",
       "    .dataframe tbody tr th {\n",
       "        vertical-align: top;\n",
       "    }\n",
       "\n",
       "    .dataframe thead th {\n",
       "        text-align: right;\n",
       "    }\n",
       "</style>\n",
       "<table border=\"1\" class=\"dataframe\">\n",
       "  <thead>\n",
       "    <tr style=\"text-align: right;\">\n",
       "      <th></th>\n",
       "      <th>City</th>\n",
       "      <th>Cloudiness</th>\n",
       "      <th>Country</th>\n",
       "      <th>Date</th>\n",
       "      <th>Humidity</th>\n",
       "      <th>Lat</th>\n",
       "      <th>Lng</th>\n",
       "      <th>Max Temp</th>\n",
       "      <th>Wind Speed</th>\n",
       "    </tr>\n",
       "  </thead>\n",
       "  <tbody>\n",
       "    <tr>\n",
       "      <td>0</td>\n",
       "      <td>Port-Gentil</td>\n",
       "      <td>85</td>\n",
       "      <td>GA</td>\n",
       "      <td>1579838768</td>\n",
       "      <td>78</td>\n",
       "      <td>-0.72</td>\n",
       "      <td>8.78</td>\n",
       "      <td>83.10</td>\n",
       "      <td>8.57</td>\n",
       "    </tr>\n",
       "    <tr>\n",
       "      <td>1</td>\n",
       "      <td>Anloga</td>\n",
       "      <td>20</td>\n",
       "      <td>GH</td>\n",
       "      <td>1579838827</td>\n",
       "      <td>88</td>\n",
       "      <td>5.79</td>\n",
       "      <td>0.90</td>\n",
       "      <td>80.60</td>\n",
       "      <td>2.24</td>\n",
       "    </tr>\n",
       "    <tr>\n",
       "      <td>2</td>\n",
       "      <td>Mumford</td>\n",
       "      <td>73</td>\n",
       "      <td>GH</td>\n",
       "      <td>1579838828</td>\n",
       "      <td>94</td>\n",
       "      <td>5.26</td>\n",
       "      <td>-0.76</td>\n",
       "      <td>76.96</td>\n",
       "      <td>3.36</td>\n",
       "    </tr>\n",
       "    <tr>\n",
       "      <td>3</td>\n",
       "      <td>Omboue</td>\n",
       "      <td>16</td>\n",
       "      <td>GA</td>\n",
       "      <td>1579838830</td>\n",
       "      <td>95</td>\n",
       "      <td>-1.57</td>\n",
       "      <td>9.26</td>\n",
       "      <td>75.83</td>\n",
       "      <td>0.36</td>\n",
       "    </tr>\n",
       "    <tr>\n",
       "      <td>4</td>\n",
       "      <td>Jamestown</td>\n",
       "      <td>90</td>\n",
       "      <td>US</td>\n",
       "      <td>1579838791</td>\n",
       "      <td>43</td>\n",
       "      <td>42.10</td>\n",
       "      <td>-79.24</td>\n",
       "      <td>39.00</td>\n",
       "      <td>5.82</td>\n",
       "    </tr>\n",
       "    <tr>\n",
       "      <td>5</td>\n",
       "      <td>Takoradze</td>\n",
       "      <td>2</td>\n",
       "      <td>GH</td>\n",
       "      <td>1579838832</td>\n",
       "      <td>93</td>\n",
       "      <td>4.88</td>\n",
       "      <td>-1.76</td>\n",
       "      <td>77.79</td>\n",
       "      <td>2.55</td>\n",
       "    </tr>\n",
       "    <tr>\n",
       "      <td>6</td>\n",
       "      <td>Gamba</td>\n",
       "      <td>96</td>\n",
       "      <td>GA</td>\n",
       "      <td>1579838833</td>\n",
       "      <td>85</td>\n",
       "      <td>-2.65</td>\n",
       "      <td>10.00</td>\n",
       "      <td>78.55</td>\n",
       "      <td>0.51</td>\n",
       "    </tr>\n",
       "    <tr>\n",
       "      <td>7</td>\n",
       "      <td>Winneba</td>\n",
       "      <td>20</td>\n",
       "      <td>GH</td>\n",
       "      <td>1579838834</td>\n",
       "      <td>88</td>\n",
       "      <td>5.35</td>\n",
       "      <td>-0.62</td>\n",
       "      <td>82.40</td>\n",
       "      <td>4.70</td>\n",
       "    </tr>\n",
       "    <tr>\n",
       "      <td>8</td>\n",
       "      <td>Teshie</td>\n",
       "      <td>20</td>\n",
       "      <td>GH</td>\n",
       "      <td>1579838835</td>\n",
       "      <td>88</td>\n",
       "      <td>5.58</td>\n",
       "      <td>-0.11</td>\n",
       "      <td>82.40</td>\n",
       "      <td>4.70</td>\n",
       "    </tr>\n",
       "  </tbody>\n",
       "</table>\n",
       "</div>"
      ],
      "text/plain": [
       "          City  Cloudiness Country        Date  Humidity    Lat    Lng  \\\n",
       "0  Port-Gentil          85      GA  1579838768        78  -0.72   8.78   \n",
       "1       Anloga          20      GH  1579838827        88   5.79   0.90   \n",
       "2      Mumford          73      GH  1579838828        94   5.26  -0.76   \n",
       "3       Omboue          16      GA  1579838830        95  -1.57   9.26   \n",
       "4    Jamestown          90      US  1579838791        43  42.10 -79.24   \n",
       "5    Takoradze           2      GH  1579838832        93   4.88  -1.76   \n",
       "6        Gamba          96      GA  1579838833        85  -2.65  10.00   \n",
       "7      Winneba          20      GH  1579838834        88   5.35  -0.62   \n",
       "8       Teshie          20      GH  1579838835        88   5.58  -0.11   \n",
       "\n",
       "   Max Temp  Wind Speed  \n",
       "0     83.10        8.57  \n",
       "1     80.60        2.24  \n",
       "2     76.96        3.36  \n",
       "3     75.83        0.36  \n",
       "4     39.00        5.82  \n",
       "5     77.79        2.55  \n",
       "6     78.55        0.51  \n",
       "7     82.40        4.70  \n",
       "8     82.40        4.70  "
      ]
     },
     "execution_count": 5,
     "metadata": {},
     "output_type": "execute_result"
    }
   ],
   "source": [
    "#export the city data into a csv\n",
    "#display the dataframe\n",
    "\n",
    "city_df = pd.DataFrame(city_info)\n",
    "\n",
    "city_df.to_csv('cities.csv', encoding=\"utf-8\", index_label=\"City_ID\")\n",
    "\n",
    "city_df"
   ]
  },
  {
   "cell_type": "code",
   "execution_count": 6,
   "metadata": {},
   "outputs": [
    {
     "data": {
      "image/png": "[encoded data removed]",
      "text/plain": [
       "<Figure size 432x288 with 1 Axes>"
      ]
     },
     "metadata": {
      "needs_background": "light"
     },
     "output_type": "display_data"
    }
   ],
   "source": [
    "#plot latitude v temperature\n",
    "x_values = city_df[\"Lat\"]\n",
    "y_values = city_df[\"Max Temp\"]\n",
    "plt.scatter(x_values, y_values, edgecolors=\"black\")\n",
    "plt.title(\"City Latitude vs Max Temperature (1/21/20)\")\n",
    "plt.xlabel(\"Latitude\")\n",
    "plt.ylabel(\"Max Temperature (F)\")\n",
    "plt.grid()\n",
    "\n",
    "\n",
    "#save scatter plot to Images Folder\n",
    "plt.savefig(os.path.join(\"Images\",\"Temp_v_Latitude.png\"))\n",
    "\n",
    "#for reference on setting limits:\n",
    "#plt.xlim(-50, 35)\n",
    "#plt.ylim(20, 100)"
   ]
  },
  {
   "cell_type": "markdown",
   "metadata": {},
   "source": [
    "**CODE:**  This code is utilizing www.openweathermap.org to gather data on cities around the globe.  We specifically called for info on city name, latitudes, longitudes, cloudiness, humidity, wind speed, country and date.  For the above scatter plot, we looked at max temperature versus the city latitude.\n",
    "\n",
    "**ANALYSIS:**  For testing purposes, we're looking at a small cluster, so it makes sense that the scatter plot is focused. "
   ]
  },
  {
   "cell_type": "code",
   "execution_count": 7,
   "metadata": {},
   "outputs": [
    {
     "data": {
      "image/png": "[encoded data removed]",
      "text/plain": [
       "<Figure size 432x288 with 1 Axes>"
      ]
     },
     "metadata": {
      "needs_background": "light"
     },
     "output_type": "display_data"
    }
   ],
   "source": [
    "#plot latitude v humidity\n",
    "x_values = city_df[\"Lat\"]\n",
    "y_values = city_df[\"Humidity\"]\n",
    "plt.scatter(x_values, y_values, edgecolors=\"black\")\n",
    "plt.title(\"City Latitude vs Humidity (DATE!)\")\n",
    "plt.xlabel(\"Latitude\")\n",
    "plt.ylabel(\"Humidity (%)\")\n",
    "plt.grid()\n",
    "\n",
    "\n",
    "#save scatter plot to Images Folder\n",
    "plt.savefig(os.path.join(\"Images\",\"Humidity_v_Latitude.png\"))"
   ]
  },
  {
   "cell_type": "markdown",
   "metadata": {},
   "source": [
    "**CODE:**  For the above scatter plot, we looked at humidity relative to city latitude.\n",
    "\n",
    "**ANALYSIS:**  For testing purposes, we're looking at a small cluster, so it makes sense that the scatter plot is focused. "
   ]
  },
  {
   "cell_type": "code",
   "execution_count": 8,
   "metadata": {},
   "outputs": [
    {
     "data": {
      "image/png": "[encoded data removed]",
      "text/plain": [
       "<Figure size 432x288 with 1 Axes>"
      ]
     },
     "metadata": {
      "needs_background": "light"
     },
     "output_type": "display_data"
    }
   ],
   "source": [
    "#plot latitude v cloudiness\n",
    "x_values = city_df[\"Lat\"]\n",
    "y_values = city_df[\"Cloudiness\"]\n",
    "plt.scatter(x_values, y_values, edgecolors=\"black\")\n",
    "plt.title(\"City Latitude vs Cloudiness (DATE!)\")\n",
    "plt.xlabel(\"Latitude\")\n",
    "plt.ylabel(\"Cloudiness (%)\")\n",
    "plt.grid()\n",
    "\n",
    "\n",
    "#save scatter plot to Images Folder\n",
    "plt.savefig(os.path.join(\"Images\",\"Cloudiness_v_Latitude.png\"))"
   ]
  },
  {
   "cell_type": "markdown",
   "metadata": {},
   "source": [
    "**CODE:**  For the above scatter plot, we looked at cloudiness versus the city latitude.\n",
    "\n",
    "**ANALYSIS:**  For testing purposes, we're looking at a small cluster, so it makes sense that the scatter plot is focused. "
   ]
  },
  {
   "cell_type": "code",
   "execution_count": 9,
   "metadata": {},
   "outputs": [
    {
     "data": {
      "image/png": "[encoded data removed]",
      "text/plain": [
       "<Figure size 432x288 with 1 Axes>"
      ]
     },
     "metadata": {
      "needs_background": "light"
     },
     "output_type": "display_data"
    }
   ],
   "source": [
    "#plot latitude v wind speed\n",
    "x_values = city_df[\"Lat\"]\n",
    "y_values = city_df[\"Wind Speed\"]\n",
    "plt.scatter(x_values, y_values, edgecolors=\"black\")\n",
    "plt.title(\"City Latitude vs Wind Speed (DATE)\")\n",
    "plt.xlabel(\"Latitude\")\n",
    "plt.ylabel(\"Wind Speed (mph)\")\n",
    "plt.grid()\n",
    "\n",
    "\n",
    "#save scatter plot to Images Folder\n",
    "plt.savefig(os.path.join(\"Images\",\"Wind_Speed_v_Latitude.png\"))"
   ]
  },
  {
   "cell_type": "markdown",
   "metadata": {},
   "source": [
    "**CODE:**  For the above scatter plot, we looked at wind speed versus the city latitude.\n",
    "\n",
    "**ANALYSIS:**  For testing purposes, we're looking at a small cluster, so it makes sense that the scatter plot is focused. "
   ]
  },
  {
   "cell_type": "code",
   "execution_count": 10,
   "metadata": {},
   "outputs": [],
   "source": [
    "#run linear regressions on the above relationships, by hemisphere\n",
    "#max temp (F) v latitude\n",
    "#humidity (%) v latitude\n",
    "#cloudiness (%) v latitude\n",
    "#wind speed (mph) v latitude"
   ]
  },
  {
   "cell_type": "code",
   "execution_count": 11,
   "metadata": {},
   "outputs": [
    {
     "data": {
      "text/html": [
       "<div>\n",
       "<style scoped>\n",
       "    .dataframe tbody tr th:only-of-type {\n",
       "        vertical-align: middle;\n",
       "    }\n",
       "\n",
       "    .dataframe tbody tr th {\n",
       "        vertical-align: top;\n",
       "    }\n",
       "\n",
       "    .dataframe thead th {\n",
       "        text-align: right;\n",
       "    }\n",
       "</style>\n",
       "<table border=\"1\" class=\"dataframe\">\n",
       "  <thead>\n",
       "    <tr style=\"text-align: right;\">\n",
       "      <th></th>\n",
       "      <th>City</th>\n",
       "      <th>Cloudiness</th>\n",
       "      <th>Country</th>\n",
       "      <th>Date</th>\n",
       "      <th>Humidity</th>\n",
       "      <th>Lat</th>\n",
       "      <th>Lng</th>\n",
       "      <th>Max Temp</th>\n",
       "      <th>Wind Speed</th>\n",
       "    </tr>\n",
       "  </thead>\n",
       "  <tbody>\n",
       "    <tr>\n",
       "      <td>0</td>\n",
       "      <td>Anloga</td>\n",
       "      <td>20</td>\n",
       "      <td>GH</td>\n",
       "      <td>1579838827</td>\n",
       "      <td>88</td>\n",
       "      <td>5.79</td>\n",
       "      <td>0.90</td>\n",
       "      <td>80.60</td>\n",
       "      <td>2.24</td>\n",
       "    </tr>\n",
       "    <tr>\n",
       "      <td>1</td>\n",
       "      <td>Mumford</td>\n",
       "      <td>73</td>\n",
       "      <td>GH</td>\n",
       "      <td>1579838828</td>\n",
       "      <td>94</td>\n",
       "      <td>5.26</td>\n",
       "      <td>-0.76</td>\n",
       "      <td>76.96</td>\n",
       "      <td>3.36</td>\n",
       "    </tr>\n",
       "    <tr>\n",
       "      <td>2</td>\n",
       "      <td>Jamestown</td>\n",
       "      <td>90</td>\n",
       "      <td>US</td>\n",
       "      <td>1579838791</td>\n",
       "      <td>43</td>\n",
       "      <td>42.10</td>\n",
       "      <td>-79.24</td>\n",
       "      <td>39.00</td>\n",
       "      <td>5.82</td>\n",
       "    </tr>\n",
       "    <tr>\n",
       "      <td>3</td>\n",
       "      <td>Takoradze</td>\n",
       "      <td>2</td>\n",
       "      <td>GH</td>\n",
       "      <td>1579838832</td>\n",
       "      <td>93</td>\n",
       "      <td>4.88</td>\n",
       "      <td>-1.76</td>\n",
       "      <td>77.79</td>\n",
       "      <td>2.55</td>\n",
       "    </tr>\n",
       "    <tr>\n",
       "      <td>4</td>\n",
       "      <td>Winneba</td>\n",
       "      <td>20</td>\n",
       "      <td>GH</td>\n",
       "      <td>1579838834</td>\n",
       "      <td>88</td>\n",
       "      <td>5.35</td>\n",
       "      <td>-0.62</td>\n",
       "      <td>82.40</td>\n",
       "      <td>4.70</td>\n",
       "    </tr>\n",
       "    <tr>\n",
       "      <td>5</td>\n",
       "      <td>Teshie</td>\n",
       "      <td>20</td>\n",
       "      <td>GH</td>\n",
       "      <td>1579838835</td>\n",
       "      <td>88</td>\n",
       "      <td>5.58</td>\n",
       "      <td>-0.11</td>\n",
       "      <td>82.40</td>\n",
       "      <td>4.70</td>\n",
       "    </tr>\n",
       "  </tbody>\n",
       "</table>\n",
       "</div>"
      ],
      "text/plain": [
       "        City  Cloudiness Country        Date  Humidity    Lat    Lng  \\\n",
       "0     Anloga          20      GH  1579838827        88   5.79   0.90   \n",
       "1    Mumford          73      GH  1579838828        94   5.26  -0.76   \n",
       "2  Jamestown          90      US  1579838791        43  42.10 -79.24   \n",
       "3  Takoradze           2      GH  1579838832        93   4.88  -1.76   \n",
       "4    Winneba          20      GH  1579838834        88   5.35  -0.62   \n",
       "5     Teshie          20      GH  1579838835        88   5.58  -0.11   \n",
       "\n",
       "   Max Temp  Wind Speed  \n",
       "0     80.60        2.24  \n",
       "1     76.96        3.36  \n",
       "2     39.00        5.82  \n",
       "3     77.79        2.55  \n",
       "4     82.40        4.70  \n",
       "5     82.40        4.70  "
      ]
     },
     "execution_count": 11,
     "metadata": {},
     "output_type": "execute_result"
    }
   ],
   "source": [
    "#create northern hemisphere dataframe\n",
    "\n",
    "#logic test/conditional statement returns a series of boolean values; make sure on the right track\n",
    "northern_hem = city_df[\"Lat\"] >= 0\n",
    "\n",
    "#locate where the 'Lat' values are >= 0; reset index for cleaner formatting\n",
    "northern_df = city_df.loc[city_df[\"Lat\"] >= 0, :].reset_index()\n",
    "\n",
    "#get rid of newly created 'index' column resulting from above code\n",
    "northern_df = northern_df[[\"City\", \"Cloudiness\", \"Country\", \"Date\", \"Humidity\", \"Lat\", \"Lng\", \"Max Temp\", \"Wind Speed\"]]\n",
    "northern_df"
   ]
  },
  {
   "cell_type": "code",
   "execution_count": 12,
   "metadata": {},
   "outputs": [
    {
     "data": {
      "text/html": [
       "<div>\n",
       "<style scoped>\n",
       "    .dataframe tbody tr th:only-of-type {\n",
       "        vertical-align: middle;\n",
       "    }\n",
       "\n",
       "    .dataframe tbody tr th {\n",
       "        vertical-align: top;\n",
       "    }\n",
       "\n",
       "    .dataframe thead th {\n",
       "        text-align: right;\n",
       "    }\n",
       "</style>\n",
       "<table border=\"1\" class=\"dataframe\">\n",
       "  <thead>\n",
       "    <tr style=\"text-align: right;\">\n",
       "      <th></th>\n",
       "      <th>City</th>\n",
       "      <th>Cloudiness</th>\n",
       "      <th>Country</th>\n",
       "      <th>Date</th>\n",
       "      <th>Humidity</th>\n",
       "      <th>Lat</th>\n",
       "      <th>Lng</th>\n",
       "      <th>Max Temp</th>\n",
       "      <th>Wind Speed</th>\n",
       "    </tr>\n",
       "  </thead>\n",
       "  <tbody>\n",
       "    <tr>\n",
       "      <td>0</td>\n",
       "      <td>Port-Gentil</td>\n",
       "      <td>85</td>\n",
       "      <td>GA</td>\n",
       "      <td>1579838768</td>\n",
       "      <td>78</td>\n",
       "      <td>-0.72</td>\n",
       "      <td>8.78</td>\n",
       "      <td>83.10</td>\n",
       "      <td>8.57</td>\n",
       "    </tr>\n",
       "    <tr>\n",
       "      <td>1</td>\n",
       "      <td>Omboue</td>\n",
       "      <td>16</td>\n",
       "      <td>GA</td>\n",
       "      <td>1579838830</td>\n",
       "      <td>95</td>\n",
       "      <td>-1.57</td>\n",
       "      <td>9.26</td>\n",
       "      <td>75.83</td>\n",
       "      <td>0.36</td>\n",
       "    </tr>\n",
       "    <tr>\n",
       "      <td>2</td>\n",
       "      <td>Gamba</td>\n",
       "      <td>96</td>\n",
       "      <td>GA</td>\n",
       "      <td>1579838833</td>\n",
       "      <td>85</td>\n",
       "      <td>-2.65</td>\n",
       "      <td>10.00</td>\n",
       "      <td>78.55</td>\n",
       "      <td>0.51</td>\n",
       "    </tr>\n",
       "  </tbody>\n",
       "</table>\n",
       "</div>"
      ],
      "text/plain": [
       "          City  Cloudiness Country        Date  Humidity   Lat    Lng  \\\n",
       "0  Port-Gentil          85      GA  1579838768        78 -0.72   8.78   \n",
       "1       Omboue          16      GA  1579838830        95 -1.57   9.26   \n",
       "2        Gamba          96      GA  1579838833        85 -2.65  10.00   \n",
       "\n",
       "   Max Temp  Wind Speed  \n",
       "0     83.10        8.57  \n",
       "1     75.83        0.36  \n",
       "2     78.55        0.51  "
      ]
     },
     "execution_count": 12,
     "metadata": {},
     "output_type": "execute_result"
    }
   ],
   "source": [
    "#create southern hemisphere dataframe\n",
    "\n",
    "#logic test for my own knowledge; not necessarily needed to create the dataframe\n",
    "southern_hem = city_df[\"Lat\"] < 0\n",
    "\n",
    "#create southern hemisphere dataframe\n",
    "southern_df = city_df.loc[city_df[\"Lat\"] < 0, :].reset_index()\n",
    "southern_df = southern_df[[\"City\", \"Cloudiness\", \"Country\", \"Date\", \"Humidity\", \"Lat\", \"Lng\", \"Max Temp\", \"Wind Speed\"]]\n",
    "southern_df"
   ]
  },
  {
   "cell_type": "code",
   "execution_count": 45,
   "metadata": {},
   "outputs": [
    {
     "data": {
      "image/png": "[encoded data removed]",
      "text/plain": [
       "<Figure size 432x288 with 1 Axes>"
      ]
     },
     "metadata": {
      "needs_background": "light"
     },
     "output_type": "display_data"
    }
   ],
   "source": [
    "#run linear regression on max temp v latitude (northern hemisphere)\n",
    "\n",
    "#first create scatter plot\n",
    "x_values = northern_df[\"Lat\"]\n",
    "y_values = northern_df[\"Max Temp\"]\n",
    "plt.scatter(x_values, y_values, edgecolors=\"black\")\n",
    "plt.xlabel(\"Latitude\")\n",
    "plt.ylabel(\"Max Temperature\")\n",
    "plt.savefig(\"Images/test.png\")"
   ]
  },
  {
   "cell_type": "code",
   "execution_count": 14,
   "metadata": {},
   "outputs": [
    {
     "name": "stdout",
     "output_type": "stream",
     "text": [
      "0    79.549582\n",
      "1    80.140411\n",
      "2    39.072217\n",
      "3    80.564024\n",
      "4    80.040082\n",
      "5    79.783684\n",
      "Name: Lat, dtype: float64\n"
     ]
    }
   ],
   "source": [
    "#perform a linear regression on temp v lat\n",
    "(slope, intercept, rvalue, pvalue, stderr) = stats.linregress(x_values, y_values)\n",
    "\n",
    "#get regression values\n",
    "regress_values = x_values * slope + intercept\n",
    "print(regress_values)"
   ]
  },
  {
   "cell_type": "code",
   "execution_count": 15,
   "metadata": {},
   "outputs": [
    {
     "name": "stdout",
     "output_type": "stream",
     "text": [
      "y = -1.11x +86.0\n"
     ]
    }
   ],
   "source": [
    "#create line equation string\n",
    "line_eq = \"y = \" + str(round(slope,2)) + \"x +\" + str(round(intercept,2))\n",
    "print(line_eq)"
   ]
  },
  {
   "cell_type": "code",
   "execution_count": 16,
   "metadata": {},
   "outputs": [
    {
     "name": "stdout",
     "output_type": "stream",
     "text": [
      "The r-squared is: -0.98897503389494\n"
     ]
    },
    {
     "data": {
      "image/png": "[encoded data removed]",
      "text/plain": [
       "<Figure size 432x288 with 1 Axes>"
      ]
     },
     "metadata": {
      "needs_background": "light"
     },
     "output_type": "display_data"
    },
    {
     "data": {
      "text/plain": [
       "<Figure size 432x288 with 0 Axes>"
      ]
     },
     "metadata": {},
     "output_type": "display_data"
    }
   ],
   "source": [
    "#create plot\n",
    "plt.scatter(x_values,y_values,edgecolors=\"black\")\n",
    "plt.plot(x_values,regress_values,\"r-\")\n",
    "\n",
    "#label plot and annotate the line equation\n",
    "plt.xlabel('Latitude')\n",
    "plt.ylabel('Max Temp')\n",
    "plt.annotate(line_eq,(8,-20),fontsize=15,color=\"red\")\n",
    "\n",
    "# Print r square value\n",
    "print(f\"The r-squared is: {rvalue}\")\n",
    "\n",
    "# Show plot\n",
    "plt.show()\n",
    "\n",
    "#save plot to images folder\n",
    "plt.savefig(os.path.join(\"Images\",\"Northern_Temp_v_Latitude.png\"))"
   ]
  },
  {
   "cell_type": "code",
   "execution_count": 17,
   "metadata": {},
   "outputs": [
    {
     "data": {
      "text/plain": [
       "Text(0, 0.5, 'Max Temperature')"
      ]
     },
     "execution_count": 17,
     "metadata": {},
     "output_type": "execute_result"
    },
    {
     "data": {
      "image/png": "[encoded data removed]",
      "text/plain": [
       "<Figure size 432x288 with 1 Axes>"
      ]
     },
     "metadata": {
      "needs_background": "light"
     },
     "output_type": "display_data"
    }
   ],
   "source": [
    "#run linear regression on max temp v lat (southern hemisphere)\n",
    "\n",
    "#create scatter plot\n",
    "x_values = southern_df[\"Lat\"]\n",
    "y_values = southern_df[\"Max Temp\"]\n",
    "plt.scatter(x_values, y_values, edgecolors=\"black\")\n",
    "plt.xlabel(\"Latitude\")\n",
    "plt.ylabel(\"Max Temperature\")"
   ]
  },
  {
   "cell_type": "code",
   "execution_count": 18,
   "metadata": {},
   "outputs": [
    {
     "name": "stdout",
     "output_type": "stream",
     "text": [
      "0    81.144696\n",
      "1    79.324201\n",
      "2    77.011103\n",
      "Name: Lat, dtype: float64\n"
     ]
    }
   ],
   "source": [
    "#perform a linear regression on temp v lat\n",
    "(slope, intercept, rvalue, pvalue, stderr) = stats.linregress(x_values, y_values)\n",
    "\n",
    "#get regression values\n",
    "regress_values = x_values * slope + intercept\n",
    "print(regress_values)"
   ]
  },
  {
   "cell_type": "code",
   "execution_count": 19,
   "metadata": {},
   "outputs": [
    {
     "name": "stdout",
     "output_type": "stream",
     "text": [
      "y = 2.14x +82.69\n"
     ]
    }
   ],
   "source": [
    "#create line equation string\n",
    "line_eq = \"y = \" + str(round(slope,2)) + \"x +\" + str(round(intercept,2))\n",
    "print(line_eq)"
   ]
  },
  {
   "cell_type": "code",
   "execution_count": 20,
   "metadata": {},
   "outputs": [
    {
     "name": "stdout",
     "output_type": "stream",
     "text": [
      "The r-squared is: 0.5640014334977059\n"
     ]
    },
    {
     "data": {
      "image/png": "[encoded data removed]",
      "text/plain": [
       "<Figure size 432x288 with 1 Axes>"
      ]
     },
     "metadata": {
      "needs_background": "light"
     },
     "output_type": "display_data"
    },
    {
     "data": {
      "text/plain": [
       "<Figure size 432x288 with 0 Axes>"
      ]
     },
     "metadata": {},
     "output_type": "display_data"
    }
   ],
   "source": [
    "#create plot\n",
    "plt.scatter(x_values,y_values, edgecolors=\"black\")\n",
    "plt.plot(x_values,regress_values,\"r-\")\n",
    "\n",
    "#label plot and annotate the line equation\n",
    "plt.xlabel('Latitude')\n",
    "plt.ylabel('Max Temp')\n",
    "plt.annotate(line_eq,(-2,4),fontsize=15,color=\"red\")\n",
    "\n",
    "# Print r square value\n",
    "print(f\"The r-squared is: {rvalue}\")\n",
    "\n",
    "# Show plot\n",
    "plt.show()\n",
    "\n",
    "#save scatter plot to Images Folder\n",
    "plt.savefig(os.path.join(\"Images\",\"Southern_Temp_v_Latitude.png\"))\n",
    "plt.show()"
   ]
  },
  {
   "cell_type": "markdown",
   "metadata": {},
   "source": [
    "**ANALYSIS:**\n",
    "**_Max Temp v Latitude_**     \n",
    "The linear regressions for both hemispheres follow what common sense would dictate.  As you approach the equator, heading south, the max temperatures increase.  Similary, approaching the equator heading north, the max temps increase.  For both hemispheres, the farther distance a location is from the equator, the colder the max temperature.  The reason that the linear regressions have opposite-signed slopes is due to the nature of the latitude coordinates (ie North Pole is at 90 degrees, South Pole is at -90 degrees).  Finally, our r-values do indicate there is a correlation.  "
   ]
  },
  {
   "cell_type": "code",
   "execution_count": 21,
   "metadata": {},
   "outputs": [
    {
     "data": {
      "text/plain": [
       "Text(0, 0.5, 'Humidity')"
      ]
     },
     "execution_count": 21,
     "metadata": {},
     "output_type": "execute_result"
    },
    {
     "data": {
      "image/png": "[encoded data removed]",
      "text/plain": [
       "<Figure size 432x288 with 1 Axes>"
      ]
     },
     "metadata": {
      "needs_background": "light"
     },
     "output_type": "display_data"
    }
   ],
   "source": [
    "#run linear regression on humidity v lat (northern hemisphere)\n",
    "\n",
    "#create scatter plot\n",
    "x_values = northern_df[\"Lat\"]\n",
    "y_values = northern_df[\"Humidity\"]\n",
    "plt.scatter(x_values, y_values, edgecolors=\"black\")\n",
    "plt.xlabel(\"Latitude\")\n",
    "plt.ylabel(\"Humidity\")"
   ]
  },
  {
   "cell_type": "code",
   "execution_count": 22,
   "metadata": {},
   "outputs": [
    {
     "name": "stdout",
     "output_type": "stream",
     "text": [
      "0    89.675619\n",
      "1    90.357924\n",
      "2    42.931307\n",
      "3    90.847123\n",
      "4    90.242061\n",
      "5    89.945966\n",
      "Name: Lat, dtype: float64\n"
     ]
    }
   ],
   "source": [
    "#perform a linear regression on humidity v lat\n",
    "(slope, intercept, rvalue, pvalue, stderr) = stats.linregress(x_values, y_values)\n",
    "\n",
    "#get regression values\n",
    "regress_values = x_values * slope + intercept\n",
    "print(regress_values)"
   ]
  },
  {
   "cell_type": "code",
   "execution_count": 23,
   "metadata": {},
   "outputs": [
    {
     "name": "stdout",
     "output_type": "stream",
     "text": [
      "y = -1.29x +97.13\n"
     ]
    }
   ],
   "source": [
    "#create line equation string\n",
    "line_eq = \"y = \" + str(round(slope,2)) + \"x +\" + str(round(intercept,2))\n",
    "print(line_eq)"
   ]
  },
  {
   "cell_type": "code",
   "execution_count": 24,
   "metadata": {},
   "outputs": [
    {
     "name": "stdout",
     "output_type": "stream",
     "text": [
      "The r-squared is: -0.9921720991305114\n"
     ]
    },
    {
     "data": {
      "image/png": "[encoded data removed]",
      "text/plain": [
       "<Figure size 432x288 with 1 Axes>"
      ]
     },
     "metadata": {
      "needs_background": "light"
     },
     "output_type": "display_data"
    },
    {
     "data": {
      "text/plain": [
       "<Figure size 432x288 with 0 Axes>"
      ]
     },
     "metadata": {},
     "output_type": "display_data"
    }
   ],
   "source": [
    "#create Plot\n",
    "plt.scatter(x_values,y_values, edgecolors=\"black\")\n",
    "plt.plot(x_values,regress_values,\"r-\")\n",
    "\n",
    "#label plot and annotate the line equation\n",
    "plt.xlabel('Latitude')\n",
    "plt.ylabel('Humidity')\n",
    "plt.annotate(line_eq,(40,20),fontsize=15,color=\"red\")\n",
    "\n",
    "# Print r square value\n",
    "print(f\"The r-squared is: {rvalue}\")\n",
    "\n",
    "# Show plot\n",
    "plt.show()\n",
    "\n",
    "#save plot to images folder\n",
    "plt.savefig(os.path.join(\"Images\",\"Northern_Humidity_v_Latitude.png\"))"
   ]
  },
  {
   "cell_type": "code",
   "execution_count": 25,
   "metadata": {},
   "outputs": [
    {
     "data": {
      "text/plain": [
       "Text(0, 0.5, 'Humidity')"
      ]
     },
     "execution_count": 25,
     "metadata": {},
     "output_type": "execute_result"
    },
    {
     "data": {
      "image/png": "[encoded data removed]",
      "text/plain": [
       "<Figure size 432x288 with 1 Axes>"
      ]
     },
     "metadata": {
      "needs_background": "light"
     },
     "output_type": "display_data"
    }
   ],
   "source": [
    "#plot linear regression on humidity v lat (southern hemisphere)\n",
    "\n",
    "#create scatter plot\n",
    "x_values = southern_df[\"Lat\"]\n",
    "y_values = southern_df[\"Humidity\"]\n",
    "plt.scatter(x_values, y_values, edgecolors=\"black\")\n",
    "plt.xlabel(\"Latitude\")\n",
    "plt.ylabel(\"Humidity\")"
   ]
  },
  {
   "cell_type": "code",
   "execution_count": 26,
   "metadata": {},
   "outputs": [
    {
     "name": "stdout",
     "output_type": "stream",
     "text": [
      "0    83.167409\n",
      "1    85.765649\n",
      "2    89.066942\n",
      "Name: Lat, dtype: float64\n"
     ]
    }
   ],
   "source": [
    "#perform a linear regression on humidity vs. latitude\n",
    "(slope, intercept, rvalue, pvalue, stderr) = stats.linregress(x_values, y_values)\n",
    "\n",
    "#get regression values\n",
    "regress_values = x_values * slope + intercept\n",
    "print(regress_values)"
   ]
  },
  {
   "cell_type": "code",
   "execution_count": 27,
   "metadata": {},
   "outputs": [
    {
     "name": "stdout",
     "output_type": "stream",
     "text": [
      "y = -3.06x +80.97\n"
     ]
    }
   ],
   "source": [
    "#create line equation string\n",
    "line_eq = \"y = \" + str(round(slope,2)) + \"x +\" + str(round(intercept,2))\n",
    "print(line_eq)"
   ]
  },
  {
   "cell_type": "code",
   "execution_count": 28,
   "metadata": {},
   "outputs": [
    {
     "name": "stdout",
     "output_type": "stream",
     "text": [
      "The r-squared is: -0.3460602842482666\n"
     ]
    },
    {
     "data": {
      "image/png": "[encoded data removed]",
      "text/plain": [
       "<Figure size 432x288 with 1 Axes>"
      ]
     },
     "metadata": {
      "needs_background": "light"
     },
     "output_type": "display_data"
    },
    {
     "data": {
      "text/plain": [
       "<Figure size 432x288 with 0 Axes>"
      ]
     },
     "metadata": {},
     "output_type": "display_data"
    }
   ],
   "source": [
    "#create plot\n",
    "plt.scatter(x_values,y_values, edgecolors=\"black\")\n",
    "plt.plot(x_values,regress_values,\"r-\")\n",
    "\n",
    "#label plot and annotate the line equation\n",
    "plt.xlabel('Latitude')\n",
    "plt.ylabel('Humidity')\n",
    "plt.annotate(line_eq,(-54,36),fontsize=15,color=\"red\")\n",
    "\n",
    "# Print r square value\n",
    "print(f\"The r-squared is: {rvalue}\")\n",
    "\n",
    "# Show plot\n",
    "plt.show()\n",
    "\n",
    "#save to Images Folder\n",
    "plt.savefig(os.path.join(\"Images\",\"Southern_Humidity_v_Latitude.png\"))"
   ]
  },
  {
   "cell_type": "markdown",
   "metadata": {},
   "source": [
    "**ANALYSIS:**\n",
    "**_Humidity v Latitude_**     \n",
    "The r-values are low, indicating there is not a strong correlation between humidity latitude.  Perhaps there would be a stronger correlation if we narrowed down latitude and added in longitutde.  But across the entirety of the globe, our r-value indicates there is not a strong correlation."
   ]
  },
  {
   "cell_type": "code",
   "execution_count": 29,
   "metadata": {},
   "outputs": [
    {
     "data": {
      "text/plain": [
       "Text(0, 0.5, 'Cloudiness')"
      ]
     },
     "execution_count": 29,
     "metadata": {},
     "output_type": "execute_result"
    },
    {
     "data": {
      "image/png": "[encoded data removed]",
      "text/plain": [
       "<Figure size 432x288 with 1 Axes>"
      ]
     },
     "metadata": {
      "needs_background": "light"
     },
     "output_type": "display_data"
    }
   ],
   "source": [
    "#plot cloudiness v lat linear regression (northern hemisphere)\n",
    "\n",
    "x_values = northern_df[\"Lat\"]\n",
    "y_values = northern_df[\"Cloudiness\"]\n",
    "plt.scatter(x_values, y_values, edgecolors=\"black\")\n",
    "plt.xlabel(\"Latitude\")\n",
    "plt.ylabel(\"Cloudiness\")"
   ]
  },
  {
   "cell_type": "code",
   "execution_count": 30,
   "metadata": {},
   "outputs": [
    {
     "name": "stdout",
     "output_type": "stream",
     "text": [
      "0    27.706307\n",
      "1    26.796198\n",
      "2    90.057385\n",
      "3    26.143667\n",
      "4    26.950745\n",
      "5    27.345698\n",
      "Name: Lat, dtype: float64\n"
     ]
    }
   ],
   "source": [
    "#perform a linear regression on humidity vs. latitude\n",
    "(slope, intercept, rvalue, pvalue, stderr) = stats.linregress(x_values, y_values)\n",
    "\n",
    "#get regression values\n",
    "regress_values = x_values * slope + intercept\n",
    "print(regress_values)"
   ]
  },
  {
   "cell_type": "code",
   "execution_count": 31,
   "metadata": {},
   "outputs": [
    {
     "name": "stdout",
     "output_type": "stream",
     "text": [
      "y = 1.72x +17.76\n"
     ]
    }
   ],
   "source": [
    "#create line equation string\n",
    "line_eq = \"y = \" + str(round(slope,2)) + \"x +\" + str(round(intercept,2))\n",
    "print(line_eq)"
   ]
  },
  {
   "cell_type": "code",
   "execution_count": 32,
   "metadata": {},
   "outputs": [
    {
     "name": "stdout",
     "output_type": "stream",
     "text": [
      "The r-squared is: 0.7316065015254204\n"
     ]
    },
    {
     "data": {
      "image/png": "[encoded data removed]",
      "text/plain": [
       "<Figure size 432x288 with 1 Axes>"
      ]
     },
     "metadata": {
      "needs_background": "light"
     },
     "output_type": "display_data"
    },
    {
     "data": {
      "text/plain": [
       "<Figure size 432x288 with 0 Axes>"
      ]
     },
     "metadata": {},
     "output_type": "display_data"
    }
   ],
   "source": [
    "#create Plot\n",
    "plt.scatter(x_values,y_values, edgecolors=\"black\")\n",
    "plt.plot(x_values,regress_values,\"r-\")\n",
    "\n",
    "#label plot and annotate the line equation\n",
    "plt.xlabel('Latitude')\n",
    "plt.ylabel('Cloudiness')\n",
    "plt.annotate(line_eq,(20,40),fontsize=15,color=\"red\")\n",
    "\n",
    "# Print r square value\n",
    "print(f\"The r-squared is: {rvalue}\")\n",
    "\n",
    "# Show plot\n",
    "plt.show()\n",
    "\n",
    "\n",
    "#save scatter plot to Images Folder\n",
    "plt.savefig(os.path.join(\"Images\",\"Northern_Cloudiness_v_Latitude.png\"))"
   ]
  },
  {
   "cell_type": "code",
   "execution_count": 33,
   "metadata": {},
   "outputs": [
    {
     "data": {
      "text/plain": [
       "Text(0, 0.5, 'Cloudiness')"
      ]
     },
     "execution_count": 33,
     "metadata": {},
     "output_type": "execute_result"
    },
    {
     "data": {
      "image/png": "[encoded data removed]",
      "text/plain": [
       "<Figure size 432x288 with 1 Axes>"
      ]
     },
     "metadata": {
      "needs_background": "light"
     },
     "output_type": "display_data"
    }
   ],
   "source": [
    "#plot cloudiness v lat linear regression (southern hemisphere)\n",
    "\n",
    "x_values = southern_df[\"Lat\"]\n",
    "y_values = southern_df[\"Cloudiness\"]\n",
    "plt.scatter(x_values, y_values, edgecolors=\"black\")\n",
    "plt.xlabel(\"Latitude\")\n",
    "plt.ylabel(\"Cloudiness\")"
   ]
  },
  {
   "cell_type": "code",
   "execution_count": 34,
   "metadata": {},
   "outputs": [
    {
     "name": "stdout",
     "output_type": "stream",
     "text": [
      "0    57.581567\n",
      "1    64.997756\n",
      "2    74.420678\n",
      "Name: Lat, dtype: float64\n"
     ]
    }
   ],
   "source": [
    "#perform a linear regression on cloudiness v lat\n",
    "(slope, intercept, rvalue, pvalue, stderr) = stats.linregress(x_values, y_values)\n",
    "\n",
    "#get regression values\n",
    "regress_values = x_values * slope + intercept\n",
    "print(regress_values)"
   ]
  },
  {
   "cell_type": "code",
   "execution_count": 35,
   "metadata": {},
   "outputs": [
    {
     "name": "stdout",
     "output_type": "stream",
     "text": [
      "y = -8.72x +51.3\n"
     ]
    }
   ],
   "source": [
    "#create line equation string\n",
    "line_eq = \"y = \" + str(round(slope,2)) + \"x +\" + str(round(intercept,2))\n",
    "print(line_eq)"
   ]
  },
  {
   "cell_type": "code",
   "execution_count": 36,
   "metadata": {},
   "outputs": [
    {
     "name": "stdout",
     "output_type": "stream",
     "text": [
      "The r-squared is: -0.1946243902721288\n"
     ]
    },
    {
     "data": {
      "image/png": "[encoded data removed]",
      "text/plain": [
       "<Figure size 432x288 with 1 Axes>"
      ]
     },
     "metadata": {
      "needs_background": "light"
     },
     "output_type": "display_data"
    },
    {
     "data": {
      "text/plain": [
       "<Figure size 432x288 with 0 Axes>"
      ]
     },
     "metadata": {},
     "output_type": "display_data"
    }
   ],
   "source": [
    "#create Plot\n",
    "plt.scatter(x_values,y_values, edgecolors=\"black\")\n",
    "plt.plot(x_values,regress_values,\"r-\")\n",
    "\n",
    "#label plot and annotate the line equation\n",
    "plt.xlabel('Latitude')\n",
    "plt.ylabel('Cloudiness')\n",
    "plt.annotate(line_eq,(-54,40),fontsize=15,color=\"red\")\n",
    "\n",
    "# Print r square value\n",
    "print(f\"The r-squared is: {rvalue}\")\n",
    "\n",
    "# Show plot\n",
    "plt.show()\n",
    "\n",
    "#save scatter plot to Images Folder\n",
    "plt.savefig(os.path.join(\"Images\",\"Southern_Cloudiness_v_Latitude.png\"))"
   ]
  },
  {
   "cell_type": "markdown",
   "metadata": {},
   "source": [
    "**ANALYSIS:**\n",
    "**_Cloudiness v Latitude_**     \n",
    "Similar to humidity v latitude, our r-values are low for both hemispheres when charting humidity v latitude.  Again, my guess is we could correlate cloudiness with other markers, just not latitude (alone)."
   ]
  },
  {
   "cell_type": "code",
   "execution_count": 37,
   "metadata": {},
   "outputs": [
    {
     "data": {
      "text/plain": [
       "Text(0, 0.5, 'Wind Speed')"
      ]
     },
     "execution_count": 37,
     "metadata": {},
     "output_type": "execute_result"
    },
    {
     "data": {
      "image/png": "[encoded data removed]",
      "text/plain": [
       "<Figure size 432x288 with 1 Axes>"
      ]
     },
     "metadata": {
      "needs_background": "light"
     },
     "output_type": "display_data"
    }
   ],
   "source": [
    "#plot wind speed v lat linear regression (northern hemisphere)\n",
    "\n",
    "x_values = northern_df[\"Lat\"]\n",
    "y_values = northern_df[\"Wind Speed\"]\n",
    "plt.scatter(x_values, y_values, edgecolors=\"black\")\n",
    "plt.xlabel(\"Latitude\")\n",
    "plt.ylabel(\"Wind Speed\")"
   ]
  },
  {
   "cell_type": "code",
   "execution_count": 38,
   "metadata": {},
   "outputs": [
    {
     "name": "stdout",
     "output_type": "stream",
     "text": [
      "0    3.535530\n",
      "1    3.502125\n",
      "2    5.824078\n",
      "3    3.478175\n",
      "4    3.507798\n",
      "5    3.522294\n",
      "Name: Lat, dtype: float64\n"
     ]
    }
   ],
   "source": [
    "#perform a linear regression on wind speed v lat\n",
    "(slope, intercept, rvalue, pvalue, stderr) = stats.linregress(x_values, y_values)\n",
    "\n",
    "#get regression values\n",
    "regress_values = x_values * slope + intercept\n",
    "print(regress_values)"
   ]
  },
  {
   "cell_type": "code",
   "execution_count": 39,
   "metadata": {},
   "outputs": [
    {
     "name": "stdout",
     "output_type": "stream",
     "text": [
      "y = 0.06x +3.17\n"
     ]
    }
   ],
   "source": [
    "#create line equation string\n",
    "line_eq = \"y = \" + str(round(slope,2)) + \"x +\" + str(round(intercept,2))\n",
    "print(line_eq)"
   ]
  },
  {
   "cell_type": "code",
   "execution_count": 40,
   "metadata": {},
   "outputs": [
    {
     "name": "stdout",
     "output_type": "stream",
     "text": [
      "The r-squared is: 0.6739437609435861\n"
     ]
    },
    {
     "data": {
      "image/png": "[encoded data removed]",
      "text/plain": [
       "<Figure size 432x288 with 1 Axes>"
      ]
     },
     "metadata": {
      "needs_background": "light"
     },
     "output_type": "display_data"
    },
    {
     "data": {
      "text/plain": [
       "<Figure size 432x288 with 0 Axes>"
      ]
     },
     "metadata": {},
     "output_type": "display_data"
    }
   ],
   "source": [
    "#create Plot\n",
    "plt.scatter(x_values,y_values,edgecolors=\"black\")\n",
    "plt.plot(x_values,regress_values,\"r-\")\n",
    "\n",
    "#label plot and annotate the line equation\n",
    "plt.xlabel('Latitude')\n",
    "plt.ylabel('Wind Speed')\n",
    "plt.annotate(line_eq,(10,35),fontsize=15,color=\"red\")\n",
    "\n",
    "# Print r square value\n",
    "print(f\"The r-squared is: {rvalue}\")\n",
    "\n",
    "# Show plot\n",
    "plt.show()\n",
    "\n",
    "#save scatter plot to Images Folder\n",
    "plt.savefig(os.path.join(\"Images\",\"Northern_WindSpeed_v_Latitude.png\"))"
   ]
  },
  {
   "cell_type": "code",
   "execution_count": 41,
   "metadata": {},
   "outputs": [
    {
     "data": {
      "text/plain": [
       "Text(0, 0.5, 'Wind Speed')"
      ]
     },
     "execution_count": 41,
     "metadata": {},
     "output_type": "execute_result"
    },
    {
     "data": {
      "image/png": "[encoded data removed]",
      "text/plain": [
       "<Figure size 432x288 with 1 Axes>"
      ]
     },
     "metadata": {
      "needs_background": "light"
     },
     "output_type": "display_data"
    }
   ],
   "source": [
    "#plot wind speed v lat linear regression (southern hemisphere)\n",
    "\n",
    "x_values = southern_df[\"Lat\"]\n",
    "y_values = southern_df[\"Wind Speed\"]\n",
    "plt.scatter(x_values, y_values, edgecolors=\"black\")\n",
    "plt.xlabel(\"Latitude\")\n",
    "plt.ylabel(\"Wind Speed\")"
   ]
  },
  {
   "cell_type": "code",
   "execution_count": 42,
   "metadata": {},
   "outputs": [
    {
     "name": "stdout",
     "output_type": "stream",
     "text": [
      "0    6.839649\n",
      "1    3.452201\n",
      "2   -0.851850\n",
      "Name: Lat, dtype: float64\n"
     ]
    }
   ],
   "source": [
    "#perform a linear regression on wind speed v lat\n",
    "(slope, intercept, rvalue, pvalue, stderr) = stats.linregress(x_values, y_values)\n",
    "\n",
    "#get regression values\n",
    "regress_values = x_values * slope + intercept\n",
    "print(regress_values)"
   ]
  },
  {
   "cell_type": "code",
   "execution_count": 43,
   "metadata": {},
   "outputs": [
    {
     "name": "stdout",
     "output_type": "stream",
     "text": [
      "y = 3.99x +9.71\n"
     ]
    }
   ],
   "source": [
    "#create line equation string\n",
    "line_eq = \"y = \" + str(round(slope,2)) + \"x +\" + str(round(intercept,2))\n",
    "print(line_eq)"
   ]
  },
  {
   "cell_type": "code",
   "execution_count": 44,
   "metadata": {},
   "outputs": [
    {
     "name": "stdout",
     "output_type": "stream",
     "text": [
      "The r-squared is: 0.8206429579778279\n"
     ]
    },
    {
     "data": {
      "image/png": "[encoded data removed]",
      "text/plain": [
       "<Figure size 432x288 with 1 Axes>"
      ]
     },
     "metadata": {
      "needs_background": "light"
     },
     "output_type": "display_data"
    },
    {
     "data": {
      "text/plain": [
       "<Figure size 432x288 with 0 Axes>"
      ]
     },
     "metadata": {},
     "output_type": "display_data"
    }
   ],
   "source": [
    "#create plot\n",
    "plt.scatter(x_values,y_values,edgecolors=\"black\")\n",
    "plt.plot(x_values,regress_values,\"r-\")\n",
    "\n",
    "#label plot and annotate the line equation\n",
    "plt.xlabel('Latitude')\n",
    "plt.ylabel('Wind Speed')\n",
    "plt.annotate(line_eq,(-55,1),fontsize=15,color=\"red\")\n",
    "\n",
    "# Print r square value\n",
    "print(f\"The r-squared is: {rvalue}\")\n",
    "\n",
    "# Show plot\n",
    "plt.show()\n",
    "\n",
    "#save scatter plot to images folder\n",
    "plt.savefig(os.path.join(\"Images\",\"Southern_WindSpeed_v_Latitude.png\"))"
   ]
  },
  {
   "cell_type": "markdown",
   "metadata": {},
   "source": [
    "**ANALYSIS:**\n",
    "**_Wind Speed v Latitude_**     \n",
    "Yet again, we have low r-values, indicating a weak correlation between wind speed and latitude, across both hemispheres.  When looking at the relationships we've analyzed, the strongest correlation appears between temperature and latitude.\n"
   ]
  },
  {
   "cell_type": "code",
   "execution_count": null,
   "metadata": {},
   "outputs": [],
   "source": []
  }
 ],
 "metadata": {
  "kernelspec": {
   "display_name": "Python 3",
   "language": "python",
   "name": "python3"
  },
  "language_info": {
   "codemirror_mode": {
    "name": "ipython",
    "version": 3
   },
   "file_extension": ".py",
   "mimetype": "text/x-python",
   "name": "python",
   "nbconvert_exporter": "python",
   "pygments_lexer": "ipython3",
   "version": "3.7.4"
  }
 },
 "nbformat": 4,
 "nbformat_minor": 2
}
